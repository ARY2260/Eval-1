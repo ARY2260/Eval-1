{
 "cells": [
  {
   "cell_type": "code",
   "execution_count": 38,
   "metadata": {},
   "outputs": [],
   "source": [
    "def Jaccard_Similarity(doc1, doc2): \n",
    "    \n",
    "    if(doc1 == '' and doc2 == ''):\n",
    "        return 0.0\n",
    "\n",
    "    # List the unique words in a document\n",
    "    words_doc1 = set(doc1.lower().split()) \n",
    "    words_doc2 = set(doc2.lower().split())\n",
    "    \n",
    "    # Find the intersection of words list of doc1 & doc2\n",
    "    intersection = words_doc1.intersection(words_doc2)\n",
    "\n",
    "    # Find the union of words list of doc1 & doc2\n",
    "    union = words_doc1.union(words_doc2)\n",
    "        \n",
    "    # Calculate Jaccard similarity score \n",
    "    # using length of intersection set divided by length of union set\n",
    "    return float(len(intersection)) / len(union)"
   ]
  },
  {
   "cell_type": "code",
   "execution_count": 218,
   "metadata": {},
   "outputs": [],
   "source": [
    "query = \"In the 22nd century, rising sea levels from global warming have wiped out coastal cities, reducing the world's population. Mecha humanoid robots, seemingly capable of complex thought but lacking in emotions, have been created. In Madison, New Jersey, David, a prototype Mecha child capable of experiencing love, is given to Henry Swinton and his wife Monica, whose son Martin contracted a rare disease and has been placed in suspended animation. Mecha humanoid robots, seemingly capable of complex thought but lacking in emotions,\""
   ]
  },
  {
   "cell_type": "code",
   "execution_count": 219,
   "metadata": {},
   "outputs": [],
   "source": [
    "sentences = query.lower().rstrip('. ').split('.')"
   ]
  },
  {
   "cell_type": "code",
   "execution_count": 220,
   "metadata": {},
   "outputs": [
    {
     "name": "stdout",
     "output_type": "stream",
     "text": [
      "[0.03389830508474576, 0.23728813559322035, 0.0847457627118644, 0.2033898305084746]\n"
     ]
    },
    {
     "data": {
      "text/plain": [
       "1"
      ]
     },
     "execution_count": 220,
     "metadata": {},
     "output_type": "execute_result"
    }
   ],
   "source": [
    "from copy import deepcopy\n",
    "\n",
    "similarities = []\n",
    "for i in range(len(sentences)):\n",
    "    rest = deepcopy(sentences)\n",
    "    rest.pop(i)\n",
    "    rest = \"\".join(rest)\n",
    "    score = Jaccard_Similarity(sentences[i], rest)\n",
    "    similarities.append(score)\n",
    "\n",
    "print(similarities)\n",
    "duplication_ratio = sum(similarities)/(len(sentences)*0.08)\n",
    "\n",
    "if duplication_ratio>2.0:\n",
    "    dup_score = 2\n",
    "elif duplication_ratio>1.0:\n",
    "    dup_score = 1\n",
    "else:\n",
    "    dup_score = 0\n",
    "\n",
    "dup_score"
   ]
  }
 ],
 "metadata": {
  "kernelspec": {
   "display_name": "Python 3.9.5 64-bit",
   "language": "python",
   "name": "python3"
  },
  "language_info": {
   "codemirror_mode": {
    "name": "ipython",
    "version": 3
   },
   "file_extension": ".py",
   "mimetype": "text/x-python",
   "name": "python",
   "nbconvert_exporter": "python",
   "pygments_lexer": "ipython3",
   "version": "3.9.5"
  },
  "orig_nbformat": 4,
  "vscode": {
   "interpreter": {
    "hash": "81794d4967e6c3204c66dcd87b604927b115b27c00565d3d43f05ba2f3a2cb0d"
   }
  }
 },
 "nbformat": 4,
 "nbformat_minor": 2
}
