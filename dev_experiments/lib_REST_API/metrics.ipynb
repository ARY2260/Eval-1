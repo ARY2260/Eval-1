{
 "cells": [
  {
   "cell_type": "code",
   "execution_count": 3,
   "metadata": {},
   "outputs": [],
   "source": [
    "import cohere\n",
    "from cohere.classify import Example\n",
    "import pandas as pd\n",
    "import numpy as np\n",
    "from sklearn.metrics.pairwise import cosine_similarity\n",
    "from annoy import AnnoyIndex\n",
    "import warnings\n",
    "from copy import deepcopy\n",
    "warnings.filterwarnings('ignore')\n",
    "pd.set_option('display.max_colwidth', None)\n"
   ]
  },
  {
   "cell_type": "code",
   "execution_count": 4,
   "metadata": {},
   "outputs": [],
   "source": [
    "apiKey = ''\n",
    "co = cohere.Client(apiKey)\n"
   ]
  },
  {
   "cell_type": "markdown",
   "metadata": {},
   "source": [
    "semantic check"
   ]
  },
  {
   "cell_type": "code",
   "execution_count": 175,
   "metadata": {},
   "outputs": [],
   "source": [
    "# Get the embeddings\n",
    "def semantic_check(database, question_no, query):\n",
    "    exp_answers = database[database.q_category==question_no][['answer1','answer2','answer3','answer4','answer5']].values.flatten().tolist()\n",
    "    embeds = co.embed(texts=exp_answers,\n",
    "                      model='large',\n",
    "                      truncate='LEFT').embeddings\n",
    "                      \n",
    "    # Create the search index, pass the size of embedding\n",
    "    search_index = AnnoyIndex(len(embeds[0]), 'angular')\n",
    "    # Add all the vectors to the search index\n",
    "    for i in range(len(embeds)):\n",
    "        search_index.add_item(i, embeds[i])\n",
    "    search_index.build(5)  # 10 trees\n",
    "    search_index.save(f'temp3.ann')\n",
    "\n",
    "    # process user input\n",
    "    user_input_embeds = co.embed(texts=[query],\n",
    "                                 model='large',\n",
    "                                 truncate='LEFT').embeddings\n",
    "    similar_item_ids = search_index.get_nns_by_vector(user_input_embeds[0], 10,\n",
    "                                                      include_distances=True)\n",
    "    # 1 is the question category\n",
    "    # mean_distance = np.asarray(similar_item_ids[1]).mean()\n",
    "    set_subset_value = set_subset(query, exp_answers[similar_item_ids[0][0]])\n",
    "    min_distance = min(similar_item_ids[1])\n",
    "    print(set_subset_value)\n",
    "    return min_distance"
   ]
  },
  {
   "cell_type": "code",
   "execution_count": null,
   "metadata": {},
   "outputs": [],
   "source": []
  },
  {
   "cell_type": "markdown",
   "metadata": {},
   "source": [
    "Grammar Check"
   ]
  },
  {
   "cell_type": "markdown",
   "metadata": {},
   "source": [
    "> generative check"
   ]
  },
  {
   "cell_type": "code",
   "execution_count": 6,
   "metadata": {},
   "outputs": [],
   "source": [
    "def gen_grammar_check(query, trials = 3):\n",
    "    similarity_values= []\n",
    "    for i in range(trials):\n",
    "        query = query.lower()\n",
    "        response = co.generate(\n",
    "            model='xlarge',\n",
    "            prompt=f'This is a spell check generator that checks for grammar and corrects it. This also capitalizes the first letter of the sentence.\\n\\nSample: I would like a peice of pie.\\nCorrect: I would like a piece of the pie.\\n\\nSample: my coworker said he used a financial planner to help choose his stocks so he wouldn\\'t loose money.\\nCorrect: My coworker said he used a financial planner to help him choose his stocks so he wouldn\\'t lose money.\\n\\nSample: I ordered pizza, I also ordered garlic knots.\\nCorrect: I ordered pizza; I also ordered garlic knots.\\n\\nSample: i bought winning lottery ticket the corner store\\nCorrect: I bought my winning lottery ticket at the corner store.\\n\\nSample: try to reread your work to ensure you haven\\'t left out any small words\\nCorrect: Try to reread your work to ensure you haven\\'t left out any small words.\\n\\nSample: I went to the movies with my sister. We will see the new comedy about dancing dogs.\\nCorrect: I went to the movies with my sister. We saw the new comedy about dancing dogs.\\n\\nSample: the boy took their turn on the field.\\nCorrect: The boy took his turn on the field.\\n--\\nSample: I could of won the race if I trained more.\\nCorrect: I could have won the race if I had trained more.\\n--\\nSample: I went to the office, than i started my meeting.\\nCorrect: I went to the office, then I started my meeting.\\n--\\nSample: {query}\\nCorrect:',\n",
    "            max_tokens=100,\n",
    "            temperature=1.2,\n",
    "            k=0,\n",
    "            p=0.75,\n",
    "            frequency_penalty=0,\n",
    "            presence_penalty=0,\n",
    "            stop_sequences=[\"--\"],\n",
    "            return_likelihoods='NONE')\n",
    "\n",
    "        output = response.generations[0].text.rstrip(\"(\\n)--\")\n",
    "        output = output.lstrip(\" \")\n",
    "        output = output.lower()\n",
    "\n",
    "        embeds = co.embed(texts=[query, output],\n",
    "                          model='large',\n",
    "                          truncate='LEFT').embeddings\n",
    "\n",
    "        sim_value = cosine_similarity(\n",
    "            X=[embeds[0]], Y=[embeds[1]], dense_output=True)\n",
    "        similarity_values.append(sim_value)\n",
    "    similarity_score = max(similarity_values)\n",
    "    print(\"gen:\", similarity_values)\n",
    "    return 1 if similarity_score > 0.997 else 0\n"
   ]
  },
  {
   "cell_type": "markdown",
   "metadata": {},
   "source": [
    "> classification check"
   ]
  },
  {
   "cell_type": "code",
   "execution_count": 7,
   "metadata": {},
   "outputs": [],
   "source": [
    "def class_grammar_check(query):\n",
    "    response = co.classify(\n",
    "        model='cdb39157-6b82-4cb4-92c5-9e6037623d79-ft',\n",
    "        inputs=[f\"{query}\"])\n",
    "    return(float(response.classifications[0].prediction))\n"
   ]
  },
  {
   "cell_type": "markdown",
   "metadata": {},
   "source": [
    "Toxic behaviour check"
   ]
  },
  {
   "cell_type": "markdown",
   "metadata": {},
   "source": [
    "> default model for toxic check"
   ]
  },
  {
   "cell_type": "code",
   "execution_count": 8,
   "metadata": {},
   "outputs": [],
   "source": [
    "examples = [\n",
    "    Example(\"you are hot trash\", \"Toxic\"),\n",
    "    Example(\"go to hell\", \"Toxic\"),\n",
    "    Example(\"get rekt moron\", \"Toxic\"),\n",
    "    Example(\"get a brain and use it\", \"Toxic\"),\n",
    "    Example(\"say what you mean, you jerk.\", \"Toxic\"),\n",
    "    Example(\"Are you really this stupid\", \"Toxic\"),\n",
    "    Example(\"I will honestly kill you\", \"Toxic\"),\n",
    "    Example(\"yo how are you\", \"Benign\"),\n",
    "    Example(\"I'm curious, how did that happen\", \"Benign\"),\n",
    "    Example(\"Try that again\", \"Benign\"),\n",
    "    Example(\"Hello everyone, excited to be here\", \"Benign\"),\n",
    "    Example(\"I think I saw it first\", \"Benign\"),\n",
    "    Example(\"That is an interesting point\", \"Benign\"),\n",
    "    Example(\"I love this\", \"Benign\"),\n",
    "    Example(\"We should try that sometime\", \"Benign\"),\n",
    "    Example(\"You should go for it\", \"Benign\"),\n",
    "    Example(\"people are not good.\", \"Benign\")\n",
    "]\n",
    "\n",
    "\n",
    "def class_toxic_check(query):\n",
    "    sentences = query.lower().rstrip('. ').split('.')\n",
    "    for i in sentences:\n",
    "        response = co.classify(\n",
    "            model='large',\n",
    "            inputs=[f\"{i}\"],\n",
    "            examples=examples)\n",
    "        if response.classifications[0].prediction == 'Toxic':\n",
    "            return 1.0\n",
    "    return 0.0\n"
   ]
  },
  {
   "cell_type": "markdown",
   "metadata": {},
   "source": [
    "> custom model for toxic check"
   ]
  },
  {
   "cell_type": "code",
   "execution_count": 171,
   "metadata": {},
   "outputs": [],
   "source": [
    "def custom_toxic_check(query):\n",
    "    sentences = query.lower().rstrip('. ').split('.')\n",
    "    for i in sentences:\n",
    "        response = co.classify(\n",
    "            model='8cec2377-0f7f-4557-81a4-7abc7dea3828-ft',\n",
    "            inputs=[f\"{i}\"])\n",
    "        if float(response.classifications[0].prediction) == 1.0:\n",
    "            return 1.0\n",
    "    return 0.0"
   ]
  },
  {
   "cell_type": "markdown",
   "metadata": {},
   "source": [
    "Text Duplication Check"
   ]
  },
  {
   "cell_type": "code",
   "execution_count": 10,
   "metadata": {},
   "outputs": [],
   "source": [
    "def Jaccard_Similarity(doc1, doc2): \n",
    "    \n",
    "    if(doc1 == '' and doc2 == ''):\n",
    "        return 0.0\n",
    "\n",
    "    # List the unique words in a document\n",
    "    words_doc1 = set(doc1.lower().split()) \n",
    "    words_doc2 = set(doc2.lower().split())\n",
    "    \n",
    "    # Find the intersection of words list of doc1 & doc2\n",
    "    intersection = words_doc1.intersection(words_doc2)\n",
    "\n",
    "    # Find the union of words list of doc1 & doc2\n",
    "    union = words_doc1.union(words_doc2)\n",
    "        \n",
    "    # Calculate Jaccard similarity score \n",
    "    # using length of intersection set divided by length of union set\n",
    "    return float(len(intersection)) / len(union)\n",
    "\n",
    "def duplication_check(query):\n",
    "    sentences = query.lower().rstrip('. ').split('.')\n",
    "    similarities = []\n",
    "    for i in range(len(sentences)):\n",
    "        rest = deepcopy(sentences)\n",
    "        rest.pop(i)\n",
    "        rest = \"\".join(rest)\n",
    "        score = Jaccard_Similarity(sentences[i], rest)\n",
    "        similarities.append(score)\n",
    "    duplication_ratio = sum(similarities)/(len(sentences)*0.08)\n",
    "\n",
    "    if duplication_ratio>2.0:\n",
    "        dup_score = 2\n",
    "    elif duplication_ratio>1.0:\n",
    "        dup_score = 1\n",
    "    else:\n",
    "        dup_score = 0\n",
    "    return dup_score"
   ]
  },
  {
   "cell_type": "code",
   "execution_count": 172,
   "metadata": {},
   "outputs": [],
   "source": [
    "from nltk.stem import porter\n",
    "import numpy as np\n",
    "from gensim.parsing.preprocessing import remove_stopwords\n",
    "sn = porter.PorterStemmer()\n",
    "# s = \"My named is Aryan\"\n",
    "# arr = np.asarray(s.split())\n",
    "# arr2 = np.vectorize(sn.stem)(arr)\n",
    "# set(arr2)\n",
    "\n",
    "def set_subset(doc1, doc2): \n",
    "    sn = porter.PorterStemmer()\n",
    "    if(doc1.strip() == '' or doc2.strip() == ''):\n",
    "        return 0.0\n",
    "\n",
    "    doc1 = remove_stopwords(doc1)\n",
    "    doc2 = remove_stopwords(doc2)\n",
    "    # List the unique words in a document\n",
    "    words_doc1 = set(np.vectorize(sn.stem)(np.asarray(doc1.lower().split())))\n",
    "    words_doc2 = set(np.vectorize(sn.stem)(np.asarray(doc2.lower().split())))\n",
    "    \n",
    "    # Find the intersection of words list of doc1 & doc2\n",
    "    intersection = words_doc1.intersection(words_doc2)\n",
    "\n",
    "    # Find the union of words list of doc1 & doc2\n",
    "    union = words_doc1.union(words_doc2)\n",
    "        \n",
    "    # Calculate Jaccard similarity score \n",
    "    # using length of intersection set divided by length of union set\n",
    "    return float(len(intersection)) / len(union)\n"
   ]
  },
  {
   "cell_type": "code",
   "execution_count": 78,
   "metadata": {},
   "outputs": [],
   "source": [
    "req_answer = \"Pattern of interconnection of nodes is called topology. Bus topology: All the nodes are connected to single channel called bus. It has terminals to discard the packets.  Message will be broadcasted in this channel. Used in LAN i.e Ethernet cable connection. Ring Topology: nodes are connected to each other. Token will be used to send and receive the packets. It will be arranged in the form of ring. Now a days we are not using this topology. Star Topology: It is commonly used topology.  All the nodes are connected to central hub. Control will be more in this topology.  More secured topology. Most efficient topology. Down of any one node will not be interrupt the communication. Tree Topology: Combination of Bus and star topology. Complex topology. Mesh Topology: Used in WAN. More complex structure.\"\n",
    "obs_answer1_5 = \"There are different types of Topologies: Star topology: Most used topology is the STAR Topology. It has a central hub/server connected to all the other computer networks. Used in big companies. Bus topology: Here in this Topology there is a central line of connection between the different networking devices. Tree topology: It is a combination of star and bus topology. Ring topology: All the devices connected in a Ring structure. The information flows through only one direction. Also very popular but has its own disadvantage. Mesh topology: Combination of every type of topology is known as a Mesh Topology. It is used in big network communication.\"\n",
    "obs_answer1_2 = \"Topology is a pictorial representation of arrangement of hosts or working stations based on the requirement. There are 5 types of topology: Star topology: Here the hosts are connected to a main node/working station. The network connection is handled by the main node. It is arranged in the form of a star. Bus topology: Here the work station are connected through a single network. Ring topology: Here the work stations are arranged in the form of a ring and there is main node in this topology. This is not preferred these days. Mesh topology: It is the most complex topology is used over large area.\"\n",
    "obs_answer1_0 = \"The different types of topology are:- Star topology Bus topology Tree topology Star topology: In this if the main server is damaged then the system stop working but if one system damaged the rest will world. Bus topology: In this the data from each system checking. If not mailable moves to the next system. Tree topology: It is the combination of both star and bus topology.\""
   ]
  },
  {
   "cell_type": "code",
   "execution_count": 99,
   "metadata": {},
   "outputs": [
    {
     "data": {
      "text/plain": [
       "'Pattern interconnection nodes called topology. Bus topology: All nodes connected single channel called bus. It terminals discard packets. Message broadcasted channel. Used LAN i.e Ethernet cable connection. Ring Topology: nodes connected other. Token send receive packets. It arranged form ring. Now days topology. Star Topology: It commonly topology. All nodes connected central hub. Control topology. More secured topology. Most efficient topology. Down node interrupt communication. Tree Topology: Combination Bus star topology. Complex topology. Mesh Topology: Used WAN. More complex structure.'"
      ]
     },
     "execution_count": 99,
     "metadata": {},
     "output_type": "execute_result"
    }
   ],
   "source": [
    "remove_stopwords(req_answer)"
   ]
  },
  {
   "cell_type": "code",
   "execution_count": null,
   "metadata": {},
   "outputs": [],
   "source": []
  },
  {
   "cell_type": "code",
   "execution_count": 100,
   "metadata": {},
   "outputs": [
    {
     "data": {
      "text/plain": [
       "0.21333333333333335"
      ]
     },
     "execution_count": 100,
     "metadata": {},
     "output_type": "execute_result"
    }
   ],
   "source": [
    "set_subset(req_answer, obs_answer1_5)"
   ]
  },
  {
   "cell_type": "code",
   "execution_count": 101,
   "metadata": {},
   "outputs": [
    {
     "data": {
      "text/plain": [
       "0.16455696202531644"
      ]
     },
     "execution_count": 101,
     "metadata": {},
     "output_type": "execute_result"
    }
   ],
   "source": [
    "set_subset(req_answer, obs_answer1_2)"
   ]
  },
  {
   "cell_type": "code",
   "execution_count": 102,
   "metadata": {},
   "outputs": [
    {
     "data": {
      "text/plain": [
       "0.09722222222222222"
      ]
     },
     "execution_count": 102,
     "metadata": {},
     "output_type": "execute_result"
    }
   ],
   "source": [
    "set_subset(req_answer, obs_answer1_0)"
   ]
  },
  {
   "cell_type": "markdown",
   "metadata": {},
   "source": [
    "#Testing"
   ]
  },
  {
   "cell_type": "code",
   "execution_count": 11,
   "metadata": {},
   "outputs": [],
   "source": [
    "query_correct_answer = \"The surface runoff frequently just disappears into sinkholes and swallow holes, where it flows as underground streams until emerging further downstream through a cave opening. Long, narrow to wide trenches known as valley sinks or uvalas emerge when sink holes and dolines connect together due to slumping of materials along their margins or due to roof collapse of caves.\"\n",
    "\n",
    "query_incorrect_answer = \"During the day the land heats up faster and become warmer than the sea. Therfre, over the land the air rises giving rise to a low pressure area, whereas the sea is relatively cool and the pressure over sea it relatively high. Thus, pressure gradient from sea to land is created and the wind blows from the sea to the land which is known sea breeze. In the night the reversal of condition takes place. The land loses heat faster and is cooler than the sea. The pressure gradient is from the land to the sea. This breeze is known land breeze. Dumbass! During the day the land heats up faster and become warmer than the sea.\""
   ]
  },
  {
   "cell_type": "code",
   "execution_count": 12,
   "metadata": {},
   "outputs": [
    {
     "data": {
      "text/html": [
       "<div>\n",
       "<style scoped>\n",
       "    .dataframe tbody tr th:only-of-type {\n",
       "        vertical-align: middle;\n",
       "    }\n",
       "\n",
       "    .dataframe tbody tr th {\n",
       "        vertical-align: top;\n",
       "    }\n",
       "\n",
       "    .dataframe thead th {\n",
       "        text-align: right;\n",
       "    }\n",
       "</style>\n",
       "<table border=\"1\" class=\"dataframe\">\n",
       "  <thead>\n",
       "    <tr style=\"text-align: right;\">\n",
       "      <th></th>\n",
       "      <th>q_category</th>\n",
       "      <th>question</th>\n",
       "      <th>answer1</th>\n",
       "      <th>answer2</th>\n",
       "      <th>answer3</th>\n",
       "      <th>answer4</th>\n",
       "      <th>answer5</th>\n",
       "    </tr>\n",
       "  </thead>\n",
       "  <tbody>\n",
       "    <tr>\n",
       "      <th>0</th>\n",
       "      <td>1</td>\n",
       "      <td>Explain the evolution of valley sinks or uvalas.</td>\n",
       "      <td>Quite often the surface run-off simply goes down swallow and sink holes and flow as underground streams and reemerge at a distance downstream through a cave opening. When sink holes and dolines join together because of slumping of materials along their margins or due to roof collapse of caves, long, narrow to wide trenches called valley sinks or uvalas form.</td>\n",
       "      <td>Generally, the surface run-off simply goes down swallow and sink holes and flow as underground streams and re-emerge at a distance downstream through a cave opening. When sink holes and dolines join together because of slumping of materials along their margins or due to roof collapse of caves, long, narrow to wide trenches called valley sinks or Uvalas form.</td>\n",
       "      <td>A sink hole is on opening more or less circular at the top and funnel-shaped towards the bottom with sizes varying in area from a few sq.m to a hectare and with depth from a less than half a metre to thirty metres or more. Quite often the surface run-off simply goes down swallow and sink holes and flow as underground streams and re-emerge at a distance downstream through a cave opening. A doline is a collapsed sink. When sinkholes and dolines join together because of slumping of materials along their margins or due to roof collapse of caves, long narrow to wide trenches called valley sinks or uvalas form.</td>\n",
       "      <td>Normally, the run-off goes down swallow and sink holes and drifts as underground streams and re-emerges at a distance downstream through a cave starting. When sink holes and dolines are merged due to slumping of substances alongside their margins or because of roof collapse of caves, trenches known as valley sinks or Uvalas are formed.</td>\n",
       "      <td>Valley sinks or uvulas are the same things. Valley sinks are erosional landforms of Karst topography. The following way valley sinks are evolved: In dolomite, limestone, or karst zones, the rocks are permeable and are made up of highly fused and broken rocks. In karst areas, small to medium-sized shallow pits are formed due to seepage of surface water, and these shallow pits are called sinkholes. Surface water from these sinkholes drains into the underground. The bottom of these sinkholes forms underground caves and sinkholes sometimes collapse and are commonly called collapse sinks or dolines. Typically, surface runoff runs down through sinkholes and flows underground, and at some distance through cave openings again to the surface. valley sinks or uvulas are developed when sinkholes and doline join together due to the collapse of cave ceilings.</td>\n",
       "    </tr>\n",
       "  </tbody>\n",
       "</table>\n",
       "</div>"
      ],
      "text/plain": [
       "   q_category                                          question  \\\n",
       "0           1  Explain the evolution of valley sinks or uvalas.   \n",
       "\n",
       "                                                                                                                                                                                                                                                                                                                                                                    answer1  \\\n",
       "0  Quite often the surface run-off simply goes down swallow and sink holes and flow as underground streams and reemerge at a distance downstream through a cave opening. When sink holes and dolines join together because of slumping of materials along their margins or due to roof collapse of caves, long, narrow to wide trenches called valley sinks or uvalas form.   \n",
       "\n",
       "                                                                                                                                                                                                                                                                                                                                                                    answer2  \\\n",
       "0  Generally, the surface run-off simply goes down swallow and sink holes and flow as underground streams and re-emerge at a distance downstream through a cave opening. When sink holes and dolines join together because of slumping of materials along their margins or due to roof collapse of caves, long, narrow to wide trenches called valley sinks or Uvalas form.   \n",
       "\n",
       "                                                                                                                                                                                                                                                                                                                                                                                                                                                                                                                                                                                                                                answer3  \\\n",
       "0  A sink hole is on opening more or less circular at the top and funnel-shaped towards the bottom with sizes varying in area from a few sq.m to a hectare and with depth from a less than half a metre to thirty metres or more. Quite often the surface run-off simply goes down swallow and sink holes and flow as underground streams and re-emerge at a distance downstream through a cave opening. A doline is a collapsed sink. When sinkholes and dolines join together because of slumping of materials along their margins or due to roof collapse of caves, long narrow to wide trenches called valley sinks or uvalas form.   \n",
       "\n",
       "                                                                                                                                                                                                                                                                                                                                             answer4  \\\n",
       "0  Normally, the run-off goes down swallow and sink holes and drifts as underground streams and re-emerges at a distance downstream through a cave starting. When sink holes and dolines are merged due to slumping of substances alongside their margins or because of roof collapse of caves, trenches known as valley sinks or Uvalas are formed.   \n",
       "\n",
       "                                                                                                                                                                                                                                                                                                                                                                                                                                                                                                                                                                                                                                                                                                                                                                                                                                                                                      answer5  \n",
       "0  Valley sinks or uvulas are the same things. Valley sinks are erosional landforms of Karst topography. The following way valley sinks are evolved: In dolomite, limestone, or karst zones, the rocks are permeable and are made up of highly fused and broken rocks. In karst areas, small to medium-sized shallow pits are formed due to seepage of surface water, and these shallow pits are called sinkholes. Surface water from these sinkholes drains into the underground. The bottom of these sinkholes forms underground caves and sinkholes sometimes collapse and are commonly called collapse sinks or dolines. Typically, surface runoff runs down through sinkholes and flows underground, and at some distance through cave openings again to the surface. valley sinks or uvulas are developed when sinkholes and doline join together due to the collapse of cave ceilings.  "
      ]
     },
     "execution_count": 12,
     "metadata": {},
     "output_type": "execute_result"
    }
   ],
   "source": [
    "database=pd.read_csv(\"Book1.csv\", delimiter=',')\n",
    "database.head(1)"
   ]
  },
  {
   "cell_type": "code",
   "execution_count": 13,
   "metadata": {},
   "outputs": [],
   "source": [
    "def answer_analysis(database, question_no, query):\n",
    "    semantic_check_score = semantic_check(database=database, question_no=question_no,query=query)\n",
    "    gen_grammar_check_score = gen_grammar_check(query)\n",
    "    class_grammar_check_score = class_grammar_check(query)\n",
    "    class_toxic_check_score = class_toxic_check(query)\n",
    "    custom_toxic_check_score = custom_toxic_check(query)\n",
    "    duplication_check_score = duplication_check(query)\n",
    "    print(f\"semantic check score (less than 1 for correct answer): {semantic_check_score}\")\n",
    "    print(f\"generative grammar check score (1 means correct): {gen_grammar_check_score}\")\n",
    "    print(f\"class-based grammar check score (1 means correct): {class_grammar_check_score}\")\n",
    "    print(f\"default model toxic check score (1 means toxic!): {class_toxic_check_score}\")\n",
    "    print(f\"custom model toxic check score (1 means toxic!): {custom_toxic_check_score}\")\n",
    "    print(f\"duplication check score (0=>no, 1=>detected, 2=>extreme)): {duplication_check_score}\")\n"
   ]
  },
  {
   "cell_type": "code",
   "execution_count": 14,
   "metadata": {},
   "outputs": [
    {
     "name": "stdout",
     "output_type": "stream",
     "text": [
      "gen: [array([[1.]]), array([[1.]]), array([[0.85283154]])]\n"
     ]
    },
    {
     "ename": "CohereError",
     "evalue": "finetune cdb39157-6b82-4cb4-92c5-9e6037623d79-ft is paused, but will be deploying now. please try again in a few minutes.",
     "output_type": "error",
     "traceback": [
      "\u001b[1;31m---------------------------------------------------------------------------\u001b[0m",
      "\u001b[1;31mCohereError\u001b[0m                               Traceback (most recent call last)",
      "\u001b[1;32m~\\AppData\\Local\\Temp\\ipykernel_27204\\921545079.py\u001b[0m in \u001b[0;36m<module>\u001b[1;34m\u001b[0m\n\u001b[1;32m----> 1\u001b[1;33m \u001b[0manswer_analysis\u001b[0m\u001b[1;33m(\u001b[0m\u001b[0mdatabase\u001b[0m\u001b[1;33m,\u001b[0m\u001b[1;36m1\u001b[0m\u001b[1;33m,\u001b[0m\u001b[0mquery_correct_answer\u001b[0m\u001b[1;33m)\u001b[0m\u001b[1;33m\u001b[0m\u001b[1;33m\u001b[0m\u001b[0m\n\u001b[0m",
      "\u001b[1;32m~\\AppData\\Local\\Temp\\ipykernel_27204\\1080412382.py\u001b[0m in \u001b[0;36manswer_analysis\u001b[1;34m(database, question_no, query)\u001b[0m\n\u001b[0;32m      2\u001b[0m     \u001b[0msemantic_check_score\u001b[0m \u001b[1;33m=\u001b[0m \u001b[0msemantic_check\u001b[0m\u001b[1;33m(\u001b[0m\u001b[0mdatabase\u001b[0m\u001b[1;33m=\u001b[0m\u001b[0mdatabase\u001b[0m\u001b[1;33m,\u001b[0m \u001b[0mquestion_no\u001b[0m\u001b[1;33m=\u001b[0m\u001b[0mquestion_no\u001b[0m\u001b[1;33m,\u001b[0m\u001b[0mquery\u001b[0m\u001b[1;33m=\u001b[0m\u001b[0mquery\u001b[0m\u001b[1;33m)\u001b[0m\u001b[1;33m\u001b[0m\u001b[1;33m\u001b[0m\u001b[0m\n\u001b[0;32m      3\u001b[0m     \u001b[0mgen_grammar_check_score\u001b[0m \u001b[1;33m=\u001b[0m \u001b[0mgen_grammar_check\u001b[0m\u001b[1;33m(\u001b[0m\u001b[0mquery\u001b[0m\u001b[1;33m)\u001b[0m\u001b[1;33m\u001b[0m\u001b[1;33m\u001b[0m\u001b[0m\n\u001b[1;32m----> 4\u001b[1;33m     \u001b[0mclass_grammar_check_score\u001b[0m \u001b[1;33m=\u001b[0m \u001b[0mclass_grammar_check\u001b[0m\u001b[1;33m(\u001b[0m\u001b[0mquery\u001b[0m\u001b[1;33m)\u001b[0m\u001b[1;33m\u001b[0m\u001b[1;33m\u001b[0m\u001b[0m\n\u001b[0m\u001b[0;32m      5\u001b[0m     \u001b[0mclass_toxic_check_score\u001b[0m \u001b[1;33m=\u001b[0m \u001b[0mclass_toxic_check\u001b[0m\u001b[1;33m(\u001b[0m\u001b[0mquery\u001b[0m\u001b[1;33m)\u001b[0m\u001b[1;33m\u001b[0m\u001b[1;33m\u001b[0m\u001b[0m\n\u001b[0;32m      6\u001b[0m     \u001b[0mcustom_toxic_check_score\u001b[0m \u001b[1;33m=\u001b[0m \u001b[0mcustom_toxic_check\u001b[0m\u001b[1;33m(\u001b[0m\u001b[0mquery\u001b[0m\u001b[1;33m)\u001b[0m\u001b[1;33m\u001b[0m\u001b[1;33m\u001b[0m\u001b[0m\n",
      "\u001b[1;32m~\\AppData\\Local\\Temp\\ipykernel_27204\\3414401751.py\u001b[0m in \u001b[0;36mclass_grammar_check\u001b[1;34m(query)\u001b[0m\n\u001b[0;32m      1\u001b[0m \u001b[1;32mdef\u001b[0m \u001b[0mclass_grammar_check\u001b[0m\u001b[1;33m(\u001b[0m\u001b[0mquery\u001b[0m\u001b[1;33m)\u001b[0m\u001b[1;33m:\u001b[0m\u001b[1;33m\u001b[0m\u001b[1;33m\u001b[0m\u001b[0m\n\u001b[1;32m----> 2\u001b[1;33m     response = co.classify(\n\u001b[0m\u001b[0;32m      3\u001b[0m         \u001b[0mmodel\u001b[0m\u001b[1;33m=\u001b[0m\u001b[1;34m'cdb39157-6b82-4cb4-92c5-9e6037623d79-ft'\u001b[0m\u001b[1;33m,\u001b[0m\u001b[1;33m\u001b[0m\u001b[1;33m\u001b[0m\u001b[0m\n\u001b[0;32m      4\u001b[0m         inputs=[f\"{query}\"])\n\u001b[0;32m      5\u001b[0m     \u001b[1;32mreturn\u001b[0m\u001b[1;33m(\u001b[0m\u001b[0mfloat\u001b[0m\u001b[1;33m(\u001b[0m\u001b[0mresponse\u001b[0m\u001b[1;33m.\u001b[0m\u001b[0mclassifications\u001b[0m\u001b[1;33m[\u001b[0m\u001b[1;36m0\u001b[0m\u001b[1;33m]\u001b[0m\u001b[1;33m.\u001b[0m\u001b[0mprediction\u001b[0m\u001b[1;33m)\u001b[0m\u001b[1;33m)\u001b[0m\u001b[1;33m\u001b[0m\u001b[1;33m\u001b[0m\u001b[0m\n",
      "\u001b[1;32mc:\\Python39\\lib\\site-packages\\cohere\\client.py\u001b[0m in \u001b[0;36mclassify\u001b[1;34m(self, inputs, model, preset, examples, truncate)\u001b[0m\n\u001b[0;32m    168\u001b[0m             \u001b[1;34m'truncate'\u001b[0m\u001b[1;33m:\u001b[0m \u001b[0mtruncate\u001b[0m\u001b[1;33m,\u001b[0m\u001b[1;33m\u001b[0m\u001b[1;33m\u001b[0m\u001b[0m\n\u001b[0;32m    169\u001b[0m         })\n\u001b[1;32m--> 170\u001b[1;33m         \u001b[0mresponse\u001b[0m \u001b[1;33m=\u001b[0m \u001b[0mself\u001b[0m\u001b[1;33m.\u001b[0m\u001b[0m__request\u001b[0m\u001b[1;33m(\u001b[0m\u001b[0mjson_body\u001b[0m\u001b[1;33m,\u001b[0m \u001b[0mcohere\u001b[0m\u001b[1;33m.\u001b[0m\u001b[0mCLASSIFY_URL\u001b[0m\u001b[1;33m)\u001b[0m\u001b[1;33m\u001b[0m\u001b[1;33m\u001b[0m\u001b[0m\n\u001b[0m\u001b[0;32m    171\u001b[0m \u001b[1;33m\u001b[0m\u001b[0m\n\u001b[0;32m    172\u001b[0m         \u001b[0mclassifications\u001b[0m \u001b[1;33m=\u001b[0m \u001b[1;33m[\u001b[0m\u001b[1;33m]\u001b[0m\u001b[1;33m\u001b[0m\u001b[1;33m\u001b[0m\u001b[0m\n",
      "\u001b[1;32mc:\\Python39\\lib\\site-packages\\cohere\\client.py\u001b[0m in \u001b[0;36m__request\u001b[1;34m(self, json_body, endpoint)\u001b[0m\n\u001b[0;32m    260\u001b[0m                 \u001b[1;32mraise\u001b[0m \u001b[0mCohereError\u001b[0m\u001b[1;33m(\u001b[0m\u001b[0mmessage\u001b[0m\u001b[1;33m=\u001b[0m\u001b[0mresponse\u001b[0m\u001b[1;33m.\u001b[0m\u001b[0mtext\u001b[0m\u001b[1;33m,\u001b[0m \u001b[0mhttp_status\u001b[0m\u001b[1;33m=\u001b[0m\u001b[0mresponse\u001b[0m\u001b[1;33m.\u001b[0m\u001b[0mstatus_code\u001b[0m\u001b[1;33m,\u001b[0m \u001b[0mheaders\u001b[0m\u001b[1;33m=\u001b[0m\u001b[0mresponse\u001b[0m\u001b[1;33m.\u001b[0m\u001b[0mheaders\u001b[0m\u001b[1;33m)\u001b[0m\u001b[1;33m\u001b[0m\u001b[1;33m\u001b[0m\u001b[0m\n\u001b[0;32m    261\u001b[0m             \u001b[1;32mif\u001b[0m \u001b[1;34m'message'\u001b[0m \u001b[1;32min\u001b[0m \u001b[0mres\u001b[0m\u001b[1;33m.\u001b[0m\u001b[0mkeys\u001b[0m\u001b[1;33m(\u001b[0m\u001b[1;33m)\u001b[0m\u001b[1;33m:\u001b[0m  \u001b[1;31m# has errors\u001b[0m\u001b[1;33m\u001b[0m\u001b[1;33m\u001b[0m\u001b[0m\n\u001b[1;32m--> 262\u001b[1;33m                 \u001b[1;32mraise\u001b[0m \u001b[0mCohereError\u001b[0m\u001b[1;33m(\u001b[0m\u001b[0mmessage\u001b[0m\u001b[1;33m=\u001b[0m\u001b[0mres\u001b[0m\u001b[1;33m[\u001b[0m\u001b[1;34m'message'\u001b[0m\u001b[1;33m]\u001b[0m\u001b[1;33m,\u001b[0m \u001b[0mhttp_status\u001b[0m\u001b[1;33m=\u001b[0m\u001b[0mresponse\u001b[0m\u001b[1;33m.\u001b[0m\u001b[0mstatus_code\u001b[0m\u001b[1;33m,\u001b[0m \u001b[0mheaders\u001b[0m\u001b[1;33m=\u001b[0m\u001b[0mresponse\u001b[0m\u001b[1;33m.\u001b[0m\u001b[0mheaders\u001b[0m\u001b[1;33m)\u001b[0m\u001b[1;33m\u001b[0m\u001b[1;33m\u001b[0m\u001b[0m\n\u001b[0m\u001b[0;32m    263\u001b[0m             \u001b[0mself\u001b[0m\u001b[1;33m.\u001b[0m\u001b[0m__print_warning_msg\u001b[0m\u001b[1;33m(\u001b[0m\u001b[0mresponse\u001b[0m\u001b[1;33m)\u001b[0m\u001b[1;33m\u001b[0m\u001b[1;33m\u001b[0m\u001b[0m\n\u001b[0;32m    264\u001b[0m \u001b[1;33m\u001b[0m\u001b[0m\n",
      "\u001b[1;31mCohereError\u001b[0m: finetune cdb39157-6b82-4cb4-92c5-9e6037623d79-ft is paused, but will be deploying now. please try again in a few minutes."
     ]
    }
   ],
   "source": [
    "answer_analysis(database,1,query_correct_answer)"
   ]
  },
  {
   "cell_type": "code",
   "execution_count": 15,
   "metadata": {},
   "outputs": [
    {
     "name": "stdout",
     "output_type": "stream",
     "text": [
      "gen: [array([[0.97896633]]), array([[0.97822709]]), array([[0.97573551]])]\n"
     ]
    },
    {
     "ename": "CohereError",
     "evalue": "finetune cdb39157-6b82-4cb4-92c5-9e6037623d79-ft is deploying, please try again in a few minutes.",
     "output_type": "error",
     "traceback": [
      "\u001b[1;31m---------------------------------------------------------------------------\u001b[0m",
      "\u001b[1;31mCohereError\u001b[0m                               Traceback (most recent call last)",
      "\u001b[1;32m~\\AppData\\Local\\Temp\\ipykernel_27204\\1311684633.py\u001b[0m in \u001b[0;36m<module>\u001b[1;34m\u001b[0m\n\u001b[1;32m----> 1\u001b[1;33m \u001b[0manswer_analysis\u001b[0m\u001b[1;33m(\u001b[0m\u001b[0mdatabase\u001b[0m\u001b[1;33m,\u001b[0m\u001b[1;36m1\u001b[0m\u001b[1;33m,\u001b[0m\u001b[0mquery_incorrect_answer\u001b[0m\u001b[1;33m)\u001b[0m\u001b[1;33m\u001b[0m\u001b[1;33m\u001b[0m\u001b[0m\n\u001b[0m",
      "\u001b[1;32m~\\AppData\\Local\\Temp\\ipykernel_27204\\1080412382.py\u001b[0m in \u001b[0;36manswer_analysis\u001b[1;34m(database, question_no, query)\u001b[0m\n\u001b[0;32m      2\u001b[0m     \u001b[0msemantic_check_score\u001b[0m \u001b[1;33m=\u001b[0m \u001b[0msemantic_check\u001b[0m\u001b[1;33m(\u001b[0m\u001b[0mdatabase\u001b[0m\u001b[1;33m=\u001b[0m\u001b[0mdatabase\u001b[0m\u001b[1;33m,\u001b[0m \u001b[0mquestion_no\u001b[0m\u001b[1;33m=\u001b[0m\u001b[0mquestion_no\u001b[0m\u001b[1;33m,\u001b[0m\u001b[0mquery\u001b[0m\u001b[1;33m=\u001b[0m\u001b[0mquery\u001b[0m\u001b[1;33m)\u001b[0m\u001b[1;33m\u001b[0m\u001b[1;33m\u001b[0m\u001b[0m\n\u001b[0;32m      3\u001b[0m     \u001b[0mgen_grammar_check_score\u001b[0m \u001b[1;33m=\u001b[0m \u001b[0mgen_grammar_check\u001b[0m\u001b[1;33m(\u001b[0m\u001b[0mquery\u001b[0m\u001b[1;33m)\u001b[0m\u001b[1;33m\u001b[0m\u001b[1;33m\u001b[0m\u001b[0m\n\u001b[1;32m----> 4\u001b[1;33m     \u001b[0mclass_grammar_check_score\u001b[0m \u001b[1;33m=\u001b[0m \u001b[0mclass_grammar_check\u001b[0m\u001b[1;33m(\u001b[0m\u001b[0mquery\u001b[0m\u001b[1;33m)\u001b[0m\u001b[1;33m\u001b[0m\u001b[1;33m\u001b[0m\u001b[0m\n\u001b[0m\u001b[0;32m      5\u001b[0m     \u001b[0mclass_toxic_check_score\u001b[0m \u001b[1;33m=\u001b[0m \u001b[0mclass_toxic_check\u001b[0m\u001b[1;33m(\u001b[0m\u001b[0mquery\u001b[0m\u001b[1;33m)\u001b[0m\u001b[1;33m\u001b[0m\u001b[1;33m\u001b[0m\u001b[0m\n\u001b[0;32m      6\u001b[0m     \u001b[0mcustom_toxic_check_score\u001b[0m \u001b[1;33m=\u001b[0m \u001b[0mcustom_toxic_check\u001b[0m\u001b[1;33m(\u001b[0m\u001b[0mquery\u001b[0m\u001b[1;33m)\u001b[0m\u001b[1;33m\u001b[0m\u001b[1;33m\u001b[0m\u001b[0m\n",
      "\u001b[1;32m~\\AppData\\Local\\Temp\\ipykernel_27204\\3414401751.py\u001b[0m in \u001b[0;36mclass_grammar_check\u001b[1;34m(query)\u001b[0m\n\u001b[0;32m      1\u001b[0m \u001b[1;32mdef\u001b[0m \u001b[0mclass_grammar_check\u001b[0m\u001b[1;33m(\u001b[0m\u001b[0mquery\u001b[0m\u001b[1;33m)\u001b[0m\u001b[1;33m:\u001b[0m\u001b[1;33m\u001b[0m\u001b[1;33m\u001b[0m\u001b[0m\n\u001b[1;32m----> 2\u001b[1;33m     response = co.classify(\n\u001b[0m\u001b[0;32m      3\u001b[0m         \u001b[0mmodel\u001b[0m\u001b[1;33m=\u001b[0m\u001b[1;34m'cdb39157-6b82-4cb4-92c5-9e6037623d79-ft'\u001b[0m\u001b[1;33m,\u001b[0m\u001b[1;33m\u001b[0m\u001b[1;33m\u001b[0m\u001b[0m\n\u001b[0;32m      4\u001b[0m         inputs=[f\"{query}\"])\n\u001b[0;32m      5\u001b[0m     \u001b[1;32mreturn\u001b[0m\u001b[1;33m(\u001b[0m\u001b[0mfloat\u001b[0m\u001b[1;33m(\u001b[0m\u001b[0mresponse\u001b[0m\u001b[1;33m.\u001b[0m\u001b[0mclassifications\u001b[0m\u001b[1;33m[\u001b[0m\u001b[1;36m0\u001b[0m\u001b[1;33m]\u001b[0m\u001b[1;33m.\u001b[0m\u001b[0mprediction\u001b[0m\u001b[1;33m)\u001b[0m\u001b[1;33m)\u001b[0m\u001b[1;33m\u001b[0m\u001b[1;33m\u001b[0m\u001b[0m\n",
      "\u001b[1;32mc:\\Python39\\lib\\site-packages\\cohere\\client.py\u001b[0m in \u001b[0;36mclassify\u001b[1;34m(self, inputs, model, preset, examples, truncate)\u001b[0m\n\u001b[0;32m    168\u001b[0m             \u001b[1;34m'truncate'\u001b[0m\u001b[1;33m:\u001b[0m \u001b[0mtruncate\u001b[0m\u001b[1;33m,\u001b[0m\u001b[1;33m\u001b[0m\u001b[1;33m\u001b[0m\u001b[0m\n\u001b[0;32m    169\u001b[0m         })\n\u001b[1;32m--> 170\u001b[1;33m         \u001b[0mresponse\u001b[0m \u001b[1;33m=\u001b[0m \u001b[0mself\u001b[0m\u001b[1;33m.\u001b[0m\u001b[0m__request\u001b[0m\u001b[1;33m(\u001b[0m\u001b[0mjson_body\u001b[0m\u001b[1;33m,\u001b[0m \u001b[0mcohere\u001b[0m\u001b[1;33m.\u001b[0m\u001b[0mCLASSIFY_URL\u001b[0m\u001b[1;33m)\u001b[0m\u001b[1;33m\u001b[0m\u001b[1;33m\u001b[0m\u001b[0m\n\u001b[0m\u001b[0;32m    171\u001b[0m \u001b[1;33m\u001b[0m\u001b[0m\n\u001b[0;32m    172\u001b[0m         \u001b[0mclassifications\u001b[0m \u001b[1;33m=\u001b[0m \u001b[1;33m[\u001b[0m\u001b[1;33m]\u001b[0m\u001b[1;33m\u001b[0m\u001b[1;33m\u001b[0m\u001b[0m\n",
      "\u001b[1;32mc:\\Python39\\lib\\site-packages\\cohere\\client.py\u001b[0m in \u001b[0;36m__request\u001b[1;34m(self, json_body, endpoint)\u001b[0m\n\u001b[0;32m    260\u001b[0m                 \u001b[1;32mraise\u001b[0m \u001b[0mCohereError\u001b[0m\u001b[1;33m(\u001b[0m\u001b[0mmessage\u001b[0m\u001b[1;33m=\u001b[0m\u001b[0mresponse\u001b[0m\u001b[1;33m.\u001b[0m\u001b[0mtext\u001b[0m\u001b[1;33m,\u001b[0m \u001b[0mhttp_status\u001b[0m\u001b[1;33m=\u001b[0m\u001b[0mresponse\u001b[0m\u001b[1;33m.\u001b[0m\u001b[0mstatus_code\u001b[0m\u001b[1;33m,\u001b[0m \u001b[0mheaders\u001b[0m\u001b[1;33m=\u001b[0m\u001b[0mresponse\u001b[0m\u001b[1;33m.\u001b[0m\u001b[0mheaders\u001b[0m\u001b[1;33m)\u001b[0m\u001b[1;33m\u001b[0m\u001b[1;33m\u001b[0m\u001b[0m\n\u001b[0;32m    261\u001b[0m             \u001b[1;32mif\u001b[0m \u001b[1;34m'message'\u001b[0m \u001b[1;32min\u001b[0m \u001b[0mres\u001b[0m\u001b[1;33m.\u001b[0m\u001b[0mkeys\u001b[0m\u001b[1;33m(\u001b[0m\u001b[1;33m)\u001b[0m\u001b[1;33m:\u001b[0m  \u001b[1;31m# has errors\u001b[0m\u001b[1;33m\u001b[0m\u001b[1;33m\u001b[0m\u001b[0m\n\u001b[1;32m--> 262\u001b[1;33m                 \u001b[1;32mraise\u001b[0m \u001b[0mCohereError\u001b[0m\u001b[1;33m(\u001b[0m\u001b[0mmessage\u001b[0m\u001b[1;33m=\u001b[0m\u001b[0mres\u001b[0m\u001b[1;33m[\u001b[0m\u001b[1;34m'message'\u001b[0m\u001b[1;33m]\u001b[0m\u001b[1;33m,\u001b[0m \u001b[0mhttp_status\u001b[0m\u001b[1;33m=\u001b[0m\u001b[0mresponse\u001b[0m\u001b[1;33m.\u001b[0m\u001b[0mstatus_code\u001b[0m\u001b[1;33m,\u001b[0m \u001b[0mheaders\u001b[0m\u001b[1;33m=\u001b[0m\u001b[0mresponse\u001b[0m\u001b[1;33m.\u001b[0m\u001b[0mheaders\u001b[0m\u001b[1;33m)\u001b[0m\u001b[1;33m\u001b[0m\u001b[1;33m\u001b[0m\u001b[0m\n\u001b[0m\u001b[0;32m    263\u001b[0m             \u001b[0mself\u001b[0m\u001b[1;33m.\u001b[0m\u001b[0m__print_warning_msg\u001b[0m\u001b[1;33m(\u001b[0m\u001b[0mresponse\u001b[0m\u001b[1;33m)\u001b[0m\u001b[1;33m\u001b[0m\u001b[1;33m\u001b[0m\u001b[0m\n\u001b[0;32m    264\u001b[0m \u001b[1;33m\u001b[0m\u001b[0m\n",
      "\u001b[1;31mCohereError\u001b[0m: finetune cdb39157-6b82-4cb4-92c5-9e6037623d79-ft is deploying, please try again in a few minutes."
     ]
    }
   ],
   "source": [
    "answer_analysis(database,1,query_incorrect_answer)"
   ]
  },
  {
   "cell_type": "code",
   "execution_count": 110,
   "metadata": {},
   "outputs": [
    {
     "name": "stdout",
     "output_type": "stream",
     "text": [
      "1.0\n"
     ]
    },
    {
     "data": {
      "text/plain": [
       "0.002149369800463319"
      ]
     },
     "execution_count": 110,
     "metadata": {},
     "output_type": "execute_result"
    }
   ],
   "source": [
    "query = \"Quite often the surface run-off simply goes down swallow and sink holes and flow as underground streams and reemerge at a distance downstream through a cave opening. When sink holes and dolines join together because of slumping of materials along their margins or due to roof collapse of caves, long, narrow to wide trenches called valley sinks or uvalas form.\"\n",
    "semantic_check(database, 1, query) # complete answer (exact)"
   ]
  },
  {
   "cell_type": "code",
   "execution_count": 111,
   "metadata": {},
   "outputs": [
    {
     "name": "stdout",
     "output_type": "stream",
     "text": [
      "0.5116279069767442\n"
     ]
    },
    {
     "data": {
      "text/plain": [
       "0.275849312543869"
      ]
     },
     "execution_count": 111,
     "metadata": {},
     "output_type": "execute_result"
    }
   ],
   "source": [
    "query = \"The surface runoff frequently just disappears into sinkholes and swallow holes, where it flows as underground streams until emerging further downstream through a cave opening. Long, narrow to wide trenches known as valley sinks or uvalas emerge when sink holes and dolines connect together due to slumping of materials along their margins or due to roof collapse of caves.\"\n",
    "semantic_check(database, 1, query) # complete answer but paraphrased"
   ]
  },
  {
   "cell_type": "code",
   "execution_count": 112,
   "metadata": {},
   "outputs": [
    {
     "name": "stdout",
     "output_type": "stream",
     "text": [
      "0.3488372093023256\n"
     ]
    },
    {
     "data": {
      "text/plain": [
       "0.332807719707489"
      ]
     },
     "execution_count": 112,
     "metadata": {},
     "output_type": "execute_result"
    }
   ],
   "source": [
    "query = \"Surface run-off frequently just flows down swallow and sink holes as subterranean streams, reemerging downstream through a cave mouth. Valley sinks or uvalas arise when sink holes and dolines connect together owing to slumping of materials along their edges or ceiling collapse of caves.\"\n",
    "semantic_check(database, 1, query) # complete answer but extremely paraphrased"
   ]
  },
  {
   "cell_type": "code",
   "execution_count": 113,
   "metadata": {},
   "outputs": [
    {
     "name": "stdout",
     "output_type": "stream",
     "text": [
      "0.3181818181818182\n"
     ]
    },
    {
     "data": {
      "text/plain": [
       "0.37579426169395447"
      ]
     },
     "execution_count": 113,
     "metadata": {},
     "output_type": "execute_result"
    }
   ],
   "source": [
    "query = \"Surface run-off frequently just flows down swallow and sink holes as subterranean streams, reemerging downstream through a cave mouth. Valley sinks or uvalas arise when sink holes and dolines connect together owing to slumping of materials along their edges or ceiling collapse of caves. Surface run-off frequently just flows down swallow and sink holes as subterranean streams, reemerging downstream through a cave mouth.\"\n",
    "semantic_check(database, 1, query) # complete answer but extremely paraphrased and dup"
   ]
  },
  {
   "cell_type": "code",
   "execution_count": 114,
   "metadata": {},
   "outputs": [
    {
     "name": "stdout",
     "output_type": "stream",
     "text": [
      "0.24324324324324326\n"
     ]
    },
    {
     "data": {
      "text/plain": [
       "0.6971410512924194"
      ]
     },
     "execution_count": 114,
     "metadata": {},
     "output_type": "execute_result"
    }
   ],
   "source": [
    "query = \"Surface run-off frequently just flows down swallow and sink holes as subterranean streams, reemerging downstream through a cave mouth.\"\n",
    "semantic_check(database, 1, query) # complete answer but incomplete but extremely paraphrased "
   ]
  },
  {
   "cell_type": "code",
   "execution_count": 115,
   "metadata": {},
   "outputs": [
    {
     "name": "stdout",
     "output_type": "stream",
     "text": [
      "0.21052631578947367\n"
     ]
    },
    {
     "data": {
      "text/plain": [
       "0.6022235751152039"
      ]
     },
     "execution_count": 115,
     "metadata": {},
     "output_type": "execute_result"
    }
   ],
   "source": [
    "query = \"Surface run-off frequently just flows down swallow and sink holes as subterranean streams, reemerging downstream through a cave mouth. Surface run-off frequently just flows down swallow and sink holes as subterranean streams, reemerging downstream through a cave mouth.\"\n",
    "semantic_check(database, 1, query) # complete answer but incomplete but extremely paraphrased but dup"
   ]
  },
  {
   "cell_type": "code",
   "execution_count": 116,
   "metadata": {},
   "outputs": [
    {
     "name": "stdout",
     "output_type": "stream",
     "text": [
      "0.16666666666666666\n"
     ]
    },
    {
     "data": {
      "text/plain": [
       "0.8316517472267151"
      ]
     },
     "execution_count": 116,
     "metadata": {},
     "output_type": "execute_result"
    }
   ],
   "source": [
    "query = \"Surface run-off frequently just flows down swallow and sink holes as subterranean streams.\"\n",
    "semantic_check(database, 1, query) # very incomplete but extremely paraphrased"
   ]
  },
  {
   "cell_type": "code",
   "execution_count": 117,
   "metadata": {},
   "outputs": [
    {
     "name": "stdout",
     "output_type": "stream",
     "text": [
      "0.16666666666666666\n"
     ]
    },
    {
     "data": {
      "text/plain": [
       "0.7320248484611511"
      ]
     },
     "execution_count": 117,
     "metadata": {},
     "output_type": "execute_result"
    }
   ],
   "source": [
    "query = \"Surface run-off frequently just flows down swallow and sink holes as subterranean streams. Surface run-off frequently just flows down swallow and sink holes as subterranean streams. Surface run-off frequently just flows down swallow and sink holes as subterranean streams.\"\n",
    "semantic_check(database, 1, query) # very incomplete but extremely paraphrased but dup"
   ]
  },
  {
   "cell_type": "code",
   "execution_count": 118,
   "metadata": {},
   "outputs": [
    {
     "name": "stdout",
     "output_type": "stream",
     "text": [
      "0.3333333333333333\n"
     ]
    },
    {
     "data": {
      "text/plain": [
       "0.4655098617076874"
      ]
     },
     "execution_count": 118,
     "metadata": {},
     "output_type": "execute_result"
    }
   ],
   "source": [
    "query = \"When sink holes and dolines join together because of slumping of materials along their margins or due to roof collapse of caves, long, narrow to wide trenches called valley sinks or uvalas form.\"\n",
    "semantic_check(database, 1, query) # complete answer but incomplete (exact) "
   ]
  },
  {
   "cell_type": "code",
   "execution_count": 119,
   "metadata": {},
   "outputs": [
    {
     "name": "stdout",
     "output_type": "stream",
     "text": [
      "0.2\n"
     ]
    },
    {
     "data": {
      "text/plain": [
       "0.7054688334465027"
      ]
     },
     "execution_count": 119,
     "metadata": {},
     "output_type": "execute_result"
    }
   ],
   "source": [
    "query = \"The surface runoff frequently just disappears into sinkholes and swallow holes, where it flows as underground streams until emerging further downstream through a cave opening.\"\n",
    "semantic_check(database, 1, query) # complete answer but incomplete (but paraphrased)"
   ]
  },
  {
   "cell_type": "code",
   "execution_count": 120,
   "metadata": {},
   "outputs": [
    {
     "name": "stdout",
     "output_type": "stream",
     "text": [
      "1.0\n"
     ]
    },
    {
     "data": {
      "text/plain": [
       "0.252985417842865"
      ]
     },
     "execution_count": 120,
     "metadata": {},
     "output_type": "execute_result"
    }
   ],
   "source": [
    "query = \"Quite often the surface run-off simply goes down swallow and sink holes and flow as underground streams and reemerge at a distance downstream through a cave opening. When sink holes and dolines join together because of slumping of materials along their margins or due to roof collapse of caves, long, narrow to wide trenches called valley sinks or uvalas form. Quite often the surface run-off simply goes down swallow and sink holes and flow as underground streams and reemerge at a distance downstream through a cave opening.\"\n",
    "semantic_check(database, 1, query) # complete answer (exact) and duplicated"
   ]
  },
  {
   "cell_type": "code",
   "execution_count": 121,
   "metadata": {},
   "outputs": [
    {
     "name": "stdout",
     "output_type": "stream",
     "text": [
      "0.5116279069767442\n"
     ]
    },
    {
     "data": {
      "text/plain": [
       "0.3165651261806488"
      ]
     },
     "execution_count": 121,
     "metadata": {},
     "output_type": "execute_result"
    }
   ],
   "source": [
    "query = \"The surface runoff frequently just disappears into sinkholes and swallow holes, where it flows as underground streams until emerging further downstream through a cave opening. Long, narrow to wide trenches known as valley sinks or uvalas emerge when sink holes and dolines connect together due to slumping of materials along their margins or due to roof collapse of caves. The surface runoff frequently just disappears into sinkholes and swallow holes, where it flows as underground streams until emerging further downstream through a cave opening.\"\n",
    "semantic_check(database, 1, query) # complete answer but paraphrased and duplicated"
   ]
  },
  {
   "cell_type": "code",
   "execution_count": 122,
   "metadata": {},
   "outputs": [
    {
     "name": "stdout",
     "output_type": "stream",
     "text": [
      "0.3333333333333333\n"
     ]
    },
    {
     "data": {
      "text/plain": [
       "0.5324751138687134"
      ]
     },
     "execution_count": 122,
     "metadata": {},
     "output_type": "execute_result"
    }
   ],
   "source": [
    "query = \"When sink holes and dolines join together because of slumping of materials along their margins or due to roof collapse of caves, long, narrow to wide trenches called valley sinks or uvalas form. When sink holes and dolines join together because of slumping of materials along their margins or due to roof collapse of caves, long, narrow to wide trenches called valley sinks or uvalas form.\"\n",
    "semantic_check(database, 1, query) # complete answer but incomplete (exact) and duplicated"
   ]
  },
  {
   "cell_type": "code",
   "execution_count": 123,
   "metadata": {},
   "outputs": [
    {
     "name": "stdout",
     "output_type": "stream",
     "text": [
      "0.2\n"
     ]
    },
    {
     "data": {
      "text/plain": [
       "0.6661074161529541"
      ]
     },
     "execution_count": 123,
     "metadata": {},
     "output_type": "execute_result"
    }
   ],
   "source": [
    "query = \"The surface runoff frequently just disappears into sinkholes and swallow holes, where it flows as underground streams until emerging further downstream through a cave opening. The surface runoff frequently just disappears into sinkholes and swallow holes, where it flows as underground streams until emerging further downstream through a cave opening.\"\n",
    "semantic_check(database, 1, query) # complete answer but incomplete (but paraphrased) and duplicated"
   ]
  },
  {
   "cell_type": "code",
   "execution_count": 124,
   "metadata": {},
   "outputs": [
    {
     "name": "stdout",
     "output_type": "stream",
     "text": [
      "0.29411764705882354\n"
     ]
    },
    {
     "data": {
      "text/plain": [
       "0.7567181587219238"
      ]
     },
     "execution_count": 124,
     "metadata": {},
     "output_type": "execute_result"
    }
   ],
   "source": [
    "query = \"When sink holes and dolines join together because of slumping of materials along their margins or due to roof collapse of caves.\"\n",
    "semantic_check(database, 1, query) # very incomplete (exact)"
   ]
  },
  {
   "cell_type": "code",
   "execution_count": 125,
   "metadata": {},
   "outputs": [
    {
     "name": "stdout",
     "output_type": "stream",
     "text": [
      "0.05128205128205128\n"
     ]
    },
    {
     "data": {
      "text/plain": [
       "0.8588343858718872"
      ]
     },
     "execution_count": 125,
     "metadata": {},
     "output_type": "execute_result"
    }
   ],
   "source": [
    "query = \"The surface runoff frequently just disappears into sinkholes and swallow holes.\"\n",
    "semantic_check(database, 1, query) # very incomplete (but paraphrased)"
   ]
  },
  {
   "cell_type": "code",
   "execution_count": 126,
   "metadata": {},
   "outputs": [
    {
     "name": "stdout",
     "output_type": "stream",
     "text": [
      "0.2\n"
     ]
    },
    {
     "data": {
      "text/plain": [
       "0.7632430791854858"
      ]
     },
     "execution_count": 126,
     "metadata": {},
     "output_type": "execute_result"
    }
   ],
   "source": [
    "query = \"When sink holes and dolines join together because of slumping of materials along their margins or due to roof collapse of caves. When sink holes and dolines join together because of slumping of materials along their margins or due to roof collapse of caves. When sink holes and dolines join together because of slumping of materials along their margins or due to roof collapse of caves.\"\n",
    "semantic_check(database, 1, query) # very incomplete (exact) and extremely duplicated"
   ]
  },
  {
   "cell_type": "code",
   "execution_count": 127,
   "metadata": {},
   "outputs": [
    {
     "name": "stdout",
     "output_type": "stream",
     "text": [
      "0.05128205128205128\n"
     ]
    },
    {
     "data": {
      "text/plain": [
       "0.8007097840309143"
      ]
     },
     "execution_count": 127,
     "metadata": {},
     "output_type": "execute_result"
    }
   ],
   "source": [
    "query = \"The surface runoff frequently just disappears into sinkholes and swallow holes. The surface runoff frequently just disappears into sinkholes and swallow holes. The surface runoff frequently just disappears into sinkholes and swallow holes.\"\n",
    "semantic_check(database, 1, query) # very incomplete (but paraphrased) and extremely duplicated"
   ]
  },
  {
   "cell_type": "code",
   "execution_count": 128,
   "metadata": {},
   "outputs": [
    {
     "name": "stdout",
     "output_type": "stream",
     "text": [
      "0.2641509433962264\n"
     ]
    },
    {
     "data": {
      "text/plain": [
       "0.8410668969154358"
      ]
     },
     "execution_count": 128,
     "metadata": {},
     "output_type": "execute_result"
    }
   ],
   "source": [
    "query = \"Quite often the surface run-off simply goes down swallow and sink holes and flow as underground streams and reemerge at a distance downstream through a cave opening. During the day the land heats up faster and become warmer than the sea. Therfre, over the land the air rises giving rise to a low pressure area, whereas the sea is relatively cool and the pressure over sea it relatively high.\"\n",
    "semantic_check(database, 1, query) # complete answer (exact) + incorrect"
   ]
  },
  {
   "cell_type": "code",
   "execution_count": 129,
   "metadata": {},
   "outputs": [
    {
     "name": "stdout",
     "output_type": "stream",
     "text": [
      "0.2641509433962264\n"
     ]
    },
    {
     "data": {
      "text/plain": [
       "0.7823556065559387"
      ]
     },
     "execution_count": 129,
     "metadata": {},
     "output_type": "execute_result"
    }
   ],
   "source": [
    "query = \"Quite often the surface run-off simply goes down swallow and sink holes and flow as underground streams and reemerge at a distance downstream through a cave opening. During the day the land heats up faster and become warmer than the sea. Therfre, over the land the air rises giving rise to a low pressure area, whereas the sea is relatively cool and the pressure over sea it relatively high. Quite often the surface run-off simply goes down swallow and sink holes and flow as underground streams and reemerge at a distance downstream through a cave opening. During the day the land heats up faster and become warmer than the sea. \"\n",
    "semantic_check(database, 1, query) # complete answer (exact) + incorrect (correct dup)"
   ]
  },
  {
   "cell_type": "code",
   "execution_count": 130,
   "metadata": {},
   "outputs": [
    {
     "name": "stdout",
     "output_type": "stream",
     "text": [
      "0.2641509433962264\n"
     ]
    },
    {
     "data": {
      "text/plain": [
       "0.9282629489898682"
      ]
     },
     "execution_count": 130,
     "metadata": {},
     "output_type": "execute_result"
    }
   ],
   "source": [
    "query = \"Quite often the surface run-off simply goes down swallow and sink holes and flow as underground streams and reemerge at a distance downstream through a cave opening. During the day the land heats up faster and become warmer than the sea. Therfre, over the land the air rises giving rise to a low pressure area, whereas the sea is relatively cool and the pressure over sea it relatively high. During the day the land heats up faster and become warmer than the sea. Therfre, over the land the air rises giving rise to a low pressure area, whereas the sea is relatively cool and the pressure over sea it relatively high.\"\n",
    "semantic_check(database, 1, query) # complete answer (exact) + incorrect (incorrect dup)"
   ]
  },
  {
   "cell_type": "code",
   "execution_count": 131,
   "metadata": {},
   "outputs": [
    {
     "name": "stdout",
     "output_type": "stream",
     "text": [
      "0.2641509433962264\n"
     ]
    },
    {
     "data": {
      "text/plain": [
       "0.6884654760360718"
      ]
     },
     "execution_count": 131,
     "metadata": {},
     "output_type": "execute_result"
    }
   ],
   "source": [
    "query = \"Quite often the surface run-off simply goes down swallow and sink holes and flow as underground streams and reemerge at a distance downstream through a cave opening. Quite often the surface run-off simply goes down swallow and sink holes and flow as underground streams and reemerge at a distance downstream through a cave opening. Quite often the surface run-off simply goes down swallow and sink holes and flow as underground streams and reemerge at a distance downstream through a cave opening. During the day the land heats up faster and become warmer than the sea. Therfre, over the land the air rises giving rise to a low pressure area, whereas the sea is relatively cool and the pressure over sea it relatively high. Quite often the surface run-off simply goes down swallow and sink holes and flow as underground streams and reemerge at a distance downstream through a cave opening.\"\n",
    "semantic_check(database, 1, query) # complete answer (exact) + incorrect"
   ]
  },
  {
   "cell_type": "code",
   "execution_count": 180,
   "metadata": {},
   "outputs": [
    {
     "name": "stdout",
     "output_type": "stream",
     "text": [
      "0.13793103448275862\n"
     ]
    },
    {
     "data": {
      "text/plain": [
       "0.8982481956481934"
      ]
     },
     "execution_count": 180,
     "metadata": {},
     "output_type": "execute_result"
    }
   ],
   "source": [
    "query = \"The surface runoff frequently just disappears into sinkholes and swallow holes, where it flows as underground streams until emerging further downstream through a cave opening. During the day the land heats up faster and become warmer than the sea. Therfre, over the land the air rises giving rise to a low pressure area, whereas the sea is relatively cool and the pressure over sea it relatively high.\"\n",
    "semantic_check(database, 1, query) # complete answer but paraphrased + incorrect"
   ]
  },
  {
   "cell_type": "code",
   "execution_count": 179,
   "metadata": {},
   "outputs": [
    {
     "name": "stdout",
     "output_type": "stream",
     "text": [
      "0.13793103448275862\n"
     ]
    },
    {
     "data": {
      "text/plain": [
       "0.752900242805481"
      ]
     },
     "execution_count": 179,
     "metadata": {},
     "output_type": "execute_result"
    }
   ],
   "source": [
    "query = \"The surface runoff frequently just disappears into sinkholes and swallow holes, where it flows as underground streams until emerging further downstream through a cave opening. During the day the land heats up faster and become warmer than the sea. Therfre, over the land the air rises giving rise to a low pressure area, whereas the sea is relatively cool and the pressure over sea it relatively high. The surface runoff frequently just disappears into sinkholes and swallow holes, where it flows as underground streams until emerging further downstream through a cave opening.\"\n",
    "semantic_check(database, 1, query) # complete answer but paraphrased + incorrect + dup correct"
   ]
  },
  {
   "cell_type": "code",
   "execution_count": 134,
   "metadata": {},
   "outputs": [
    {
     "name": "stdout",
     "output_type": "stream",
     "text": [
      "0.13793103448275862\n"
     ]
    },
    {
     "data": {
      "text/plain": [
       "0.7369017601013184"
      ]
     },
     "execution_count": 134,
     "metadata": {},
     "output_type": "execute_result"
    }
   ],
   "source": [
    "query = \"The surface runoff frequently just disappears into sinkholes and swallow holes, where it flows as underground streams until emerging further downstream through a cave opening. During the day the land heats up faster and become warmer than the sea. The surface runoff frequently just disappears into sinkholes and swallow holes, where it flows as underground streams until emerging further downstream through a cave opening. During the day the land heats up faster and become warmer than the sea. Therfre, over the land the air rises giving rise to a low pressure area, whereas the sea is relatively cool and the pressure over sea it relatively high. The surface runoff frequently just disappears into sinkholes and swallow holes, where it flows as underground streams until emerging further downstream through a cave opening.\"\n",
    "semantic_check(database, 1, query) # complete answer but paraphrased + incorrect + dup correct extreeme"
   ]
  },
  {
   "cell_type": "code",
   "execution_count": 135,
   "metadata": {},
   "outputs": [
    {
     "name": "stdout",
     "output_type": "stream",
     "text": [
      "0.13793103448275862\n"
     ]
    },
    {
     "data": {
      "text/plain": [
       "0.9982625842094421"
      ]
     },
     "execution_count": 135,
     "metadata": {},
     "output_type": "execute_result"
    }
   ],
   "source": [
    "query = \"The surface runoff frequently just disappears into sinkholes and swallow holes, where it flows as underground streams until emerging further downstream through a cave opening. During the day the land heats up faster and become warmer than the sea. Therfre, over the land the air rises giving rise to a low pressure area, whereas the sea is relatively cool and the pressure over sea it relatively high. During the day the land heats up faster and become warmer than the sea. Therfre, over the land the air rises giving rise to a low pressure area, whereas the sea is relatively cool and the pressure over sea it relatively high.\"\n",
    "semantic_check(database, 1, query) # complete answer but paraphrased + incorrect + dup incorrect"
   ]
  },
  {
   "cell_type": "code",
   "execution_count": 136,
   "metadata": {},
   "outputs": [
    {
     "name": "stdout",
     "output_type": "stream",
     "text": [
      "0.13793103448275862\n"
     ]
    },
    {
     "data": {
      "text/plain": [
       "0.7950761914253235"
      ]
     },
     "execution_count": 136,
     "metadata": {},
     "output_type": "execute_result"
    }
   ],
   "source": [
    "query = \"The surface runoff frequently just disappears into sinkholes and swallow holes, where it flows as underground streams until emerging further downstream through a cave opening. During the day the land heats up faster and become warmer than the sea. Therfre, over the land the air rises giving rise to a low pressure area, whereas the sea is relatively cool and the pressure over sea it relatively high. The surface runoff frequently just disappears into sinkholes and swallow holes, where it flows as underground streams until emerging further downstream through a cave opening. During the day the land heats up faster and become warmer than the sea. Therfre, over the land the air rises giving rise to a low pressure area, whereas the sea is relatively cool and the pressure over sea it relatively high.\"\n",
    "semantic_check(database, 1, query) # complete answer but paraphrased + incorrect + dup both"
   ]
  },
  {
   "cell_type": "code",
   "execution_count": 137,
   "metadata": {},
   "outputs": [
    {
     "name": "stdout",
     "output_type": "stream",
     "text": [
      "0.14285714285714285\n"
     ]
    },
    {
     "data": {
      "text/plain": [
       "0.830892026424408"
      ]
     },
     "execution_count": 137,
     "metadata": {},
     "output_type": "execute_result"
    }
   ],
   "source": [
    "query = \"Surface run-off frequently just flows down swallow and sink holes as subterranean streams, reemerging downstream through a cave mouth. During the day the land heats up faster and become warmer than the sea. Therfre, over the land the air rises giving rise to a low pressure area, whereas the sea is relatively cool and the pressure over sea it relatively high.\"\n",
    "semantic_check(database, 1, query) # complete answer but extremely paraphrased + incorrect"
   ]
  },
  {
   "cell_type": "code",
   "execution_count": 44,
   "metadata": {},
   "outputs": [
    {
     "data": {
      "text/plain": [
       "0.7125484943389893"
      ]
     },
     "execution_count": 44,
     "metadata": {},
     "output_type": "execute_result"
    }
   ],
   "source": [
    "query = \"Surface run-off frequently just flows down swallow and sink holes as subterranean streams, reemerging downstream through a cave mouth. During the day the land heats up faster and become warmer than the sea. Therfre, over the land the air rises giving rise to a low pressure area, whereas the sea is relatively cool and the pressure over sea it relatively high. Surface run-off frequently just flows down swallow and sink holes as subterranean streams, reemerging downstream through a cave mouth.\"\n",
    "semantic_check(database, 1, query) # complete answer but extremely paraphrased + incorrect + correct dup"
   ]
  },
  {
   "cell_type": "code",
   "execution_count": 45,
   "metadata": {},
   "outputs": [
    {
     "data": {
      "text/plain": [
       "0.6847242712974548"
      ]
     },
     "execution_count": 45,
     "metadata": {},
     "output_type": "execute_result"
    }
   ],
   "source": [
    "query = \"Surface run-off frequently just flows down swallow and sink holes as subterranean streams, reemerging downstream through a cave mouth. Surface run-off frequently just flows down swallow and sink holes as subterranean streams, reemerging downstream through a cave mouth. During the day the land heats up faster and become warmer than the sea. Therfre, over the land the air rises giving rise to a low pressure area, whereas the sea is relatively cool and the pressure over sea it relatively high. Surface run-off frequently just flows down swallow and sink holes as subterranean streams, reemerging downstream through a cave mouth.\"\n",
    "semantic_check(database, 1, query) # complete answer but extremely paraphrased + incorrect + correct dup extreme"
   ]
  },
  {
   "cell_type": "code",
   "execution_count": 46,
   "metadata": {},
   "outputs": [
    {
     "data": {
      "text/plain": [
       "0.8826870918273926"
      ]
     },
     "execution_count": 46,
     "metadata": {},
     "output_type": "execute_result"
    }
   ],
   "source": [
    "query = \"Surface run-off frequently just flows down swallow and sink holes as subterranean streams, reemerging downstream through a cave mouth. During the day the land heats up faster and become warmer than the sea. Therfre, over the land the air rises giving rise to a low pressure area, whereas the sea is relatively cool and the pressure over sea it relatively high. During the day the land heats up faster and become warmer than the sea. Therfre, over the land the air rises giving rise to a low pressure area, whereas the sea is relatively cool and the pressure over sea it relatively high.\"\n",
    "semantic_check(database, 1, query) # complete answer but extremely paraphrased + incorrect + incorrect dup"
   ]
  },
  {
   "cell_type": "code",
   "execution_count": 47,
   "metadata": {},
   "outputs": [
    {
     "data": {
      "text/plain": [
       "0.7562952637672424"
      ]
     },
     "execution_count": 47,
     "metadata": {},
     "output_type": "execute_result"
    }
   ],
   "source": [
    "query = \"Surface run-off frequently just flows down swallow and sink holes as subterranean streams, reemerging downstream through a cave mouth. During the day the land heats up faster and become warmer than the sea. Therfre, over the land the air rises giving rise to a low pressure area, whereas the sea is relatively cool and the pressure over sea it relatively high. Surface run-off frequently just flows down swallow and sink holes as subterranean streams, reemerging downstream through a cave mouth. During the day the land heats up faster and become warmer than the sea. Therfre, over the land the air rises giving rise to a low pressure area, whereas the sea is relatively cool and the pressure over sea it relatively high.\"\n",
    "semantic_check(database, 1, query) # complete answer but extremely paraphrased + incorrect"
   ]
  },
  {
   "cell_type": "code",
   "execution_count": 138,
   "metadata": {},
   "outputs": [
    {
     "name": "stdout",
     "output_type": "stream",
     "text": [
      "0.0\n"
     ]
    },
    {
     "data": {
      "text/plain": [
       "1.3018137216567993"
      ]
     },
     "execution_count": 138,
     "metadata": {},
     "output_type": "execute_result"
    }
   ],
   "source": [
    "query = \"During the day the land heats up faster and become warmer than the sea.\"\n",
    "semantic_check(database, 1, query) # incorrect answer (small)"
   ]
  },
  {
   "cell_type": "code",
   "execution_count": 139,
   "metadata": {},
   "outputs": [
    {
     "name": "stdout",
     "output_type": "stream",
     "text": [
      "0.0\n"
     ]
    },
    {
     "data": {
      "text/plain": [
       "1.2998847961425781"
      ]
     },
     "execution_count": 139,
     "metadata": {},
     "output_type": "execute_result"
    }
   ],
   "source": [
    "query = \"During the day the land heats up faster and become warmer than the sea. During the day the land heats up faster and become warmer than the sea.\"\n",
    "semantic_check(database, 1, query) # incorrect answer (small) dup"
   ]
  },
  {
   "cell_type": "code",
   "execution_count": 140,
   "metadata": {},
   "outputs": [
    {
     "name": "stdout",
     "output_type": "stream",
     "text": [
      "0.0\n"
     ]
    },
    {
     "data": {
      "text/plain": [
       "1.3155983686447144"
      ]
     },
     "execution_count": 140,
     "metadata": {},
     "output_type": "execute_result"
    }
   ],
   "source": [
    "query = \"During the day the land heats up faster and become warmer than the sea. During the day the land heats up faster and become warmer than the sea. During the day the land heats up faster and become warmer than the sea. During the day the land heats up faster and become warmer than the sea.\"\n",
    "semantic_check(database, 1, query) # incorrect answer (small) ext dup"
   ]
  },
  {
   "cell_type": "code",
   "execution_count": 141,
   "metadata": {},
   "outputs": [
    {
     "name": "stdout",
     "output_type": "stream",
     "text": [
      "0.02247191011235955\n"
     ]
    },
    {
     "data": {
      "text/plain": [
       "1.3219001293182373"
      ]
     },
     "execution_count": 141,
     "metadata": {},
     "output_type": "execute_result"
    }
   ],
   "source": [
    "query = \"During the day the land heats up faster and become warmer than the sea. Therfre, over the land the air rises giving rise to a low pressure area, whereas the sea is relatively cool and the pressure over sea it relatively high. Thus, pressure gradient from sea to land is created and the wind blows from the sea to the land which is known sea breeze. In the night the reversal of condition takes place. The land loses heat faster and is cooler than the sea. The pressure gradient is from the land to the sea. This breeze is known land breeze. Dumbass! During the day the land heats up faster and become warmer than the sea.\"\n",
    "semantic_check(database, 1, query) # incorrect answer (large)"
   ]
  },
  {
   "cell_type": "code",
   "execution_count": 161,
   "metadata": {},
   "outputs": [
    {
     "ename": "OSError",
     "evalue": "Unable to open: Invalid argument (22)",
     "output_type": "error",
     "traceback": [
      "\u001b[1;31m---------------------------------------------------------------------------\u001b[0m",
      "\u001b[1;31mOSError\u001b[0m                                   Traceback (most recent call last)",
      "\u001b[1;32m~\\AppData\\Local\\Temp\\ipykernel_27204\\4026379043.py\u001b[0m in \u001b[0;36m<module>\u001b[1;34m\u001b[0m\n\u001b[0;32m      1\u001b[0m \u001b[0mquery\u001b[0m \u001b[1;33m=\u001b[0m \u001b[1;34m\"During the day the land heats up faster and become warmer than the sea. Therfre, over the land the air rises giving rise to a low pressure area, whereas the sea is relatively cool and the pressure over sea it relatively high. Thus, pressure gradient from sea to land is created and the wind blows from the sea to the land which is known sea breeze. In the night the reversal of condition takes place. The land loses heat faster and is cooler than the sea. The pressure gradient is from the land to the sea. This breeze is known land breeze. Dumbass! During the day the land heats up faster and become warmer than the sea. During the day the land heats up faster and become warmer than the sea. Therfre, over the land the air rises giving rise to a low pressure area, whereas the sea is relatively cool and the pressure over sea it relatively high. In the night the reversal of condition takes place. The land loses heat faster and is cooler than the sea.\"\u001b[0m\u001b[1;33m\u001b[0m\u001b[1;33m\u001b[0m\u001b[0m\n\u001b[1;32m----> 2\u001b[1;33m \u001b[0msemantic_check\u001b[0m\u001b[1;33m(\u001b[0m\u001b[0mdatabase\u001b[0m\u001b[1;33m,\u001b[0m \u001b[1;36m1\u001b[0m\u001b[1;33m,\u001b[0m \u001b[0mquery\u001b[0m\u001b[1;33m)\u001b[0m \u001b[1;31m# incorrect answer (large) + dup\u001b[0m\u001b[1;33m\u001b[0m\u001b[1;33m\u001b[0m\u001b[0m\n\u001b[0m",
      "\u001b[1;32m~\\AppData\\Local\\Temp\\ipykernel_27204\\2877212981.py\u001b[0m in \u001b[0;36msemantic_check\u001b[1;34m(database, question_no, query)\u001b[0m\n\u001b[0;32m     12\u001b[0m         \u001b[0msearch_index\u001b[0m\u001b[1;33m.\u001b[0m\u001b[0madd_item\u001b[0m\u001b[1;33m(\u001b[0m\u001b[0mi\u001b[0m\u001b[1;33m,\u001b[0m \u001b[0membeds\u001b[0m\u001b[1;33m[\u001b[0m\u001b[0mi\u001b[0m\u001b[1;33m]\u001b[0m\u001b[1;33m)\u001b[0m\u001b[1;33m\u001b[0m\u001b[1;33m\u001b[0m\u001b[0m\n\u001b[0;32m     13\u001b[0m     \u001b[0msearch_index\u001b[0m\u001b[1;33m.\u001b[0m\u001b[0mbuild\u001b[0m\u001b[1;33m(\u001b[0m\u001b[1;36m5\u001b[0m\u001b[1;33m)\u001b[0m  \u001b[1;31m# 10 trees\u001b[0m\u001b[1;33m\u001b[0m\u001b[1;33m\u001b[0m\u001b[0m\n\u001b[1;32m---> 14\u001b[1;33m     \u001b[0msearch_index\u001b[0m\u001b[1;33m.\u001b[0m\u001b[0msave\u001b[0m\u001b[1;33m(\u001b[0m\u001b[1;34mf'temp.ann'\u001b[0m\u001b[1;33m)\u001b[0m\u001b[1;33m\u001b[0m\u001b[1;33m\u001b[0m\u001b[0m\n\u001b[0m\u001b[0;32m     15\u001b[0m \u001b[1;33m\u001b[0m\u001b[0m\n\u001b[0;32m     16\u001b[0m     \u001b[1;31m# process user input\u001b[0m\u001b[1;33m\u001b[0m\u001b[1;33m\u001b[0m\u001b[1;33m\u001b[0m\u001b[0m\n",
      "\u001b[1;31mOSError\u001b[0m: Unable to open: Invalid argument (22)"
     ]
    }
   ],
   "source": [
    "query = \"During the day the land heats up faster and become warmer than the sea. Therfre, over the land the air rises giving rise to a low pressure area, whereas the sea is relatively cool and the pressure over sea it relatively high. Thus, pressure gradient from sea to land is created and the wind blows from the sea to the land which is known sea breeze. In the night the reversal of condition takes place. The land loses heat faster and is cooler than the sea. The pressure gradient is from the land to the sea. This breeze is known land breeze. Dumbass! During the day the land heats up faster and become warmer than the sea. During the day the land heats up faster and become warmer than the sea. Therfre, over the land the air rises giving rise to a low pressure area, whereas the sea is relatively cool and the pressure over sea it relatively high. In the night the reversal of condition takes place. The land loses heat faster and is cooler than the sea.\"\n",
    "semantic_check(database, 1, query) # incorrect answer (large) + dup"
   ]
  },
  {
   "cell_type": "code",
   "execution_count": 176,
   "metadata": {},
   "outputs": [
    {
     "name": "stdout",
     "output_type": "stream",
     "text": [
      "0.02247191011235955\n"
     ]
    },
    {
     "data": {
      "text/plain": [
       "1.3185865879058838"
      ]
     },
     "execution_count": 176,
     "metadata": {},
     "output_type": "execute_result"
    }
   ],
   "source": [
    "query = \"During the day the land heats up faster and become warmer than the sea. Therfre, over the land the air rises giving rise to a low pressure area, whereas the sea is relatively cool and the pressure over sea it relatively high. Thus, pressure gradient from sea to land is created and the wind blows from the sea to the land which is known sea breeze. In the night the reversal of condition takes place. The land loses heat faster and is cooler than the sea. The pressure gradient is from the land to the sea. This breeze is known land breeze. Dumbass! During the day the land heats up faster and become warmer than the sea. During the day the land heats up faster and become warmer than the sea. Therfre, over the land the air rises giving rise to a low pressure area, whereas the sea is relatively cool and the pressure over sea it relatively high. In the night the reversal of condition takes place. The land loses heat faster and is cooler than the sea. During the day the land heats up faster and become warmer than the sea. Therfre, over the land the air rises giving rise to a low pressure area, whereas the sea is relatively cool and the pressure over sea it relatively high. Thus, pressure gradient from sea to land is created and the wind blows from the sea to the land which is known sea breeze. In the night the reversal of condition takes place. The land loses heat faster and is cooler than the sea. The pressure gradient is from the land to the sea. This breeze is known land breeze. Dumbass! During the day the land heats up faster and become warmer than the sea. During the day the land heats up faster and become warmer than the sea. Therfre, over the land the air rises giving rise to a low pressure area, whereas the sea is relatively cool and the pressure over sea it relatively high. In the night the reversal of condition takes place. The land loses heat faster and is cooler than the sea.\"\n",
    "semantic_check(database, 1, query) # incorrect answer (large) + dup + ext dup"
   ]
  },
  {
   "cell_type": "code",
   "execution_count": 177,
   "metadata": {},
   "outputs": [
    {
     "name": "stdout",
     "output_type": "stream",
     "text": [
      "0.0\n"
     ]
    },
    {
     "data": {
      "text/plain": [
       "1.405097246170044"
      ]
     },
     "execution_count": 177,
     "metadata": {},
     "output_type": "execute_result"
    }
   ],
   "source": [
    "query = \" \"\n",
    "semantic_check(database, 1, query) # boundary case: space"
   ]
  },
  {
   "cell_type": "code",
   "execution_count": 178,
   "metadata": {},
   "outputs": [
    {
     "name": "stdout",
     "output_type": "stream",
     "text": [
      "0.0\n"
     ]
    },
    {
     "data": {
      "text/plain": [
       "1.405097246170044"
      ]
     },
     "execution_count": 178,
     "metadata": {},
     "output_type": "execute_result"
    }
   ],
   "source": [
    "query = \"\"\n",
    "semantic_check(database, 1, query) # boundary case: empty string"
   ]
  }
 ],
 "metadata": {
  "kernelspec": {
   "display_name": "Python 3.9.5 64-bit",
   "language": "python",
   "name": "python3"
  },
  "language_info": {
   "codemirror_mode": {
    "name": "ipython",
    "version": 3
   },
   "file_extension": ".py",
   "mimetype": "text/x-python",
   "name": "python",
   "nbconvert_exporter": "python",
   "pygments_lexer": "ipython3",
   "version": "3.9.5"
  },
  "orig_nbformat": 4,
  "vscode": {
   "interpreter": {
    "hash": "81794d4967e6c3204c66dcd87b604927b115b27c00565d3d43f05ba2f3a2cb0d"
   }
  }
 },
 "nbformat": 4,
 "nbformat_minor": 2
}
