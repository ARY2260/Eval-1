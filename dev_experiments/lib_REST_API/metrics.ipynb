{
 "cells": [
  {
   "cell_type": "code",
   "execution_count": 15,
   "metadata": {},
   "outputs": [],
   "source": [
    "import cohere\n",
    "from cohere.classify import Example\n",
    "import pandas as pd\n",
    "import numpy as np\n",
    "from sklearn.metrics.pairwise import cosine_similarity\n",
    "from annoy import AnnoyIndex\n",
    "import warnings\n",
    "from copy import deepcopy\n",
    "warnings.filterwarnings('ignore')\n",
    "pd.set_option('display.max_colwidth', None)\n"
   ]
  },
  {
   "cell_type": "code",
   "execution_count": 3,
   "metadata": {},
   "outputs": [],
   "source": [
    "apiKey = ''\n",
    "co = cohere.Client(apiKey)\n"
   ]
  },
  {
   "cell_type": "markdown",
   "metadata": {},
   "source": [
    "semantic check"
   ]
  },
  {
   "cell_type": "code",
   "execution_count": 85,
   "metadata": {},
   "outputs": [],
   "source": [
    "# Get the embeddings\n",
    "def semantic_check(database, question_no, query):\n",
    "    embeds = co.embed(texts=database[database.q_category==question_no][['answer1','answer2','answer3','answer4','answer5']].values.flatten().tolist(),\n",
    "                      model='large',\n",
    "                      truncate='LEFT').embeddings\n",
    "                      \n",
    "    # Create the search index, pass the size of embedding\n",
    "    search_index = AnnoyIndex(len(embeds[0]), 'angular')\n",
    "    # Add all the vectors to the search index\n",
    "    for i in range(len(embeds)):\n",
    "        search_index.add_item(i, embeds[i])\n",
    "    search_index.build(10)  # 10 trees\n",
    "    search_index.save(f'temp.ann')\n",
    "\n",
    "    # process user input\n",
    "    user_input_embeds = co.embed(texts=[query],\n",
    "                                 model='large',\n",
    "                                 truncate='LEFT').embeddings\n",
    "    similar_item_ids = search_index.get_nns_by_vector(user_input_embeds[0], 10,\n",
    "                                                      include_distances=True)\n",
    "    # 1 is the question category\n",
    "    # mean_distance = np.asarray(similar_item_ids[1]).mean()\n",
    "    min_distance = min(similar_item_ids[1])\n",
    "    return min_distance"
   ]
  },
  {
   "cell_type": "code",
   "execution_count": null,
   "metadata": {},
   "outputs": [],
   "source": []
  },
  {
   "cell_type": "markdown",
   "metadata": {},
   "source": [
    "Grammar Check"
   ]
  },
  {
   "cell_type": "markdown",
   "metadata": {},
   "source": [
    "> generative check"
   ]
  },
  {
   "cell_type": "code",
   "execution_count": 82,
   "metadata": {},
   "outputs": [],
   "source": [
    "def gen_grammar_check(query, trials = 3):\n",
    "    similarity_values= []\n",
    "    for i in range(trials):\n",
    "        query = query.lower()\n",
    "        response = co.generate(\n",
    "            model='xlarge',\n",
    "            prompt=f'This is a spell check generator that checks for grammar and corrects it. This also capitalizes the first letter of the sentence.\\n\\nSample: I would like a peice of pie.\\nCorrect: I would like a piece of the pie.\\n\\nSample: my coworker said he used a financial planner to help choose his stocks so he wouldn\\'t loose money.\\nCorrect: My coworker said he used a financial planner to help him choose his stocks so he wouldn\\'t lose money.\\n\\nSample: I ordered pizza, I also ordered garlic knots.\\nCorrect: I ordered pizza; I also ordered garlic knots.\\n\\nSample: i bought winning lottery ticket the corner store\\nCorrect: I bought my winning lottery ticket at the corner store.\\n\\nSample: try to reread your work to ensure you haven\\'t left out any small words\\nCorrect: Try to reread your work to ensure you haven\\'t left out any small words.\\n\\nSample: I went to the movies with my sister. We will see the new comedy about dancing dogs.\\nCorrect: I went to the movies with my sister. We saw the new comedy about dancing dogs.\\n\\nSample: the boy took their turn on the field.\\nCorrect: The boy took his turn on the field.\\n--\\nSample: I could of won the race if I trained more.\\nCorrect: I could have won the race if I had trained more.\\n--\\nSample: I went to the office, than i started my meeting.\\nCorrect: I went to the office, then I started my meeting.\\n--\\nSample: {query}\\nCorrect:',\n",
    "            max_tokens=100,\n",
    "            temperature=1.2,\n",
    "            k=0,\n",
    "            p=0.75,\n",
    "            frequency_penalty=0,\n",
    "            presence_penalty=0,\n",
    "            stop_sequences=[\"--\"],\n",
    "            return_likelihoods='NONE')\n",
    "\n",
    "        output = response.generations[0].text.rstrip(\"(\\n)--\")\n",
    "        output = output.lstrip(\" \")\n",
    "        output = output.lower()\n",
    "\n",
    "        embeds = co.embed(texts=[query, output],\n",
    "                          model='large',\n",
    "                          truncate='LEFT').embeddings\n",
    "\n",
    "        sim_value = cosine_similarity(\n",
    "            X=[embeds[0]], Y=[embeds[1]], dense_output=True)\n",
    "        similarity_values.append(sim_value)\n",
    "    similarity_score = max(similarity_values)\n",
    "    print(\"gen:\", similarity_values)\n",
    "    return 1 if similarity_score > 0.997 else 0\n"
   ]
  },
  {
   "cell_type": "markdown",
   "metadata": {},
   "source": [
    "> classification check"
   ]
  },
  {
   "cell_type": "code",
   "execution_count": 46,
   "metadata": {},
   "outputs": [],
   "source": [
    "def class_grammar_check(query):\n",
    "    response = co.classify(\n",
    "        model='cdb39157-6b82-4cb4-92c5-9e6037623d79-ft',\n",
    "        inputs=[f\"{query}\"])\n",
    "    return(float(response.classifications[0].prediction))\n"
   ]
  },
  {
   "cell_type": "markdown",
   "metadata": {},
   "source": [
    "Toxic behaviour check"
   ]
  },
  {
   "cell_type": "markdown",
   "metadata": {},
   "source": [
    "> default model for toxic check"
   ]
  },
  {
   "cell_type": "code",
   "execution_count": 77,
   "metadata": {},
   "outputs": [],
   "source": [
    "examples = [\n",
    "    Example(\"you are hot trash\", \"Toxic\"),\n",
    "    Example(\"go to hell\", \"Toxic\"),\n",
    "    Example(\"get rekt moron\", \"Toxic\"),\n",
    "    Example(\"get a brain and use it\", \"Toxic\"),\n",
    "    Example(\"say what you mean, you jerk.\", \"Toxic\"),\n",
    "    Example(\"Are you really this stupid\", \"Toxic\"),\n",
    "    Example(\"I will honestly kill you\", \"Toxic\"),\n",
    "    Example(\"yo how are you\", \"Benign\"),\n",
    "    Example(\"I'm curious, how did that happen\", \"Benign\"),\n",
    "    Example(\"Try that again\", \"Benign\"),\n",
    "    Example(\"Hello everyone, excited to be here\", \"Benign\"),\n",
    "    Example(\"I think I saw it first\", \"Benign\"),\n",
    "    Example(\"That is an interesting point\", \"Benign\"),\n",
    "    Example(\"I love this\", \"Benign\"),\n",
    "    Example(\"We should try that sometime\", \"Benign\"),\n",
    "    Example(\"You should go for it\", \"Benign\"),\n",
    "    Example(\"people are not good.\", \"Benign\")\n",
    "]\n",
    "\n",
    "\n",
    "def class_toxic_check(query):\n",
    "    sentences = query.lower().rstrip('. ').split('.')\n",
    "    for i in sentences:\n",
    "        response = co.classify(\n",
    "            model='large',\n",
    "            inputs=[f\"{i}\"],\n",
    "            examples=examples)\n",
    "        if response.classifications[0].prediction == 'Toxic':\n",
    "            return 1.0\n",
    "    return 0.0\n"
   ]
  },
  {
   "cell_type": "markdown",
   "metadata": {},
   "source": [
    "> custom model for toxic check"
   ]
  },
  {
   "cell_type": "code",
   "execution_count": 72,
   "metadata": {},
   "outputs": [],
   "source": [
    "def custom_toxic_check(query):\n",
    "    sentences = query.lower().rstrip('. ').split('.')\n",
    "    for i in sentences:\n",
    "        response = co.classify(\n",
    "            model='8cec2377-0f7f-4557-81a4-7abc7dea3828-ft',\n",
    "            inputs=[f\"{i}\"])\n",
    "        if float(response.classifications[0].prediction) == 1.0:\n",
    "            return 1.0\n",
    "    return 0.0"
   ]
  },
  {
   "cell_type": "markdown",
   "metadata": {},
   "source": [
    "Text Duplication Check"
   ]
  },
  {
   "cell_type": "code",
   "execution_count": 9,
   "metadata": {},
   "outputs": [],
   "source": [
    "def Jaccard_Similarity(doc1, doc2): \n",
    "    \n",
    "    if(doc1 == '' and doc2 == ''):\n",
    "        return 0.0\n",
    "\n",
    "    # List the unique words in a document\n",
    "    words_doc1 = set(doc1.lower().split()) \n",
    "    words_doc2 = set(doc2.lower().split())\n",
    "    \n",
    "    # Find the intersection of words list of doc1 & doc2\n",
    "    intersection = words_doc1.intersection(words_doc2)\n",
    "\n",
    "    # Find the union of words list of doc1 & doc2\n",
    "    union = words_doc1.union(words_doc2)\n",
    "        \n",
    "    # Calculate Jaccard similarity score \n",
    "    # using length of intersection set divided by length of union set\n",
    "    return float(len(intersection)) / len(union)\n",
    "\n",
    "def duplication_check(query):\n",
    "    sentences = query.lower().rstrip('. ').split('.')\n",
    "    similarities = []\n",
    "    for i in range(len(sentences)):\n",
    "        rest = deepcopy(sentences)\n",
    "        rest.pop(i)\n",
    "        rest = \"\".join(rest)\n",
    "        score = Jaccard_Similarity(sentences[i], rest)\n",
    "        similarities.append(score)\n",
    "    duplication_ratio = sum(similarities)/(len(sentences)*0.08)\n",
    "\n",
    "    if duplication_ratio>2.0:\n",
    "        dup_score = 2\n",
    "    elif duplication_ratio>1.0:\n",
    "        dup_score = 1\n",
    "    else:\n",
    "        dup_score = 0\n",
    "    return dup_score"
   ]
  },
  {
   "cell_type": "markdown",
   "metadata": {},
   "source": [
    "#Testing"
   ]
  },
  {
   "cell_type": "code",
   "execution_count": 61,
   "metadata": {},
   "outputs": [],
   "source": [
    "query_correct_answer = \"The surface runoff frequently just disappears into sinkholes and swallow holes, where it flows as underground streams until emerging further downstream through a cave opening. Long, narrow to wide trenches known as valley sinks or uvalas emerge when sink holes and dolines connect together due to slumping of materials along their margins or due to roof collapse of caves.\"\n",
    "\n",
    "query_incorrect_answer = \"During the day the land heats up faster and become warmer than the sea. Therfre, over the land the air rises giving rise to a low pressure area, whereas the sea is relatively cool and the pressure over sea it relatively high. Thus, pressure gradient from sea to land is created and the wind blows from the sea to the land which is known sea breeze. In the night the reversal of condition takes place. The land loses heat faster and is cooler than the sea. The pressure gradient is from the land to the sea. This breeze is known land breeze. Dumbass! During the day the land heats up faster and become warmer than the sea.\""
   ]
  },
  {
   "cell_type": "code",
   "execution_count": 86,
   "metadata": {},
   "outputs": [
    {
     "data": {
      "text/html": [
       "<div>\n",
       "<style scoped>\n",
       "    .dataframe tbody tr th:only-of-type {\n",
       "        vertical-align: middle;\n",
       "    }\n",
       "\n",
       "    .dataframe tbody tr th {\n",
       "        vertical-align: top;\n",
       "    }\n",
       "\n",
       "    .dataframe thead th {\n",
       "        text-align: right;\n",
       "    }\n",
       "</style>\n",
       "<table border=\"1\" class=\"dataframe\">\n",
       "  <thead>\n",
       "    <tr style=\"text-align: right;\">\n",
       "      <th></th>\n",
       "      <th>q_category</th>\n",
       "      <th>question</th>\n",
       "      <th>answer1</th>\n",
       "      <th>answer2</th>\n",
       "      <th>answer3</th>\n",
       "      <th>answer4</th>\n",
       "      <th>answer5</th>\n",
       "    </tr>\n",
       "  </thead>\n",
       "  <tbody>\n",
       "    <tr>\n",
       "      <th>0</th>\n",
       "      <td>1</td>\n",
       "      <td>Explain the evolution of valley sinks or uvalas.</td>\n",
       "      <td>Quite often the surface run-off simply goes down swallow and sink holes and flow as underground streams and reemerge at a distance downstream through a cave opening. When sink holes and dolines join together because of slumping of materials along their margins or due to roof collapse of caves, long, narrow to wide trenches called valley sinks or uvalas form.</td>\n",
       "      <td>Generally, the surface run-off simply goes down swallow and sink holes and flow as underground streams and re-emerge at a distance downstream through a cave opening. When sink holes and dolines join together because of slumping of materials along their margins or due to roof collapse of caves, long, narrow to wide trenches called valley sinks or Uvalas form.</td>\n",
       "      <td>A sink hole is on opening more or less circular at the top and funnel-shaped towards the bottom with sizes varying in area from a few sq.m to a hectare and with depth from a less than half a metre to thirty metres or more. Quite often the surface run-off simply goes down swallow and sink holes and flow as underground streams and re-emerge at a distance downstream through a cave opening. A doline is a collapsed sink. When sinkholes and dolines join together because of slumping of materials along their margins or due to roof collapse of caves, long narrow to wide trenches called valley sinks or uvalas form.</td>\n",
       "      <td>Normally, the run-off goes down swallow and sink holes and drifts as underground streams and re-emerges at a distance downstream through a cave starting. When sink holes and dolines are merged due to slumping of substances alongside their margins or because of roof collapse of caves, trenches known as valley sinks or Uvalas are formed.</td>\n",
       "      <td>Valley sinks or uvulas are the same things. Valley sinks are erosional landforms of Karst topography. The following way valley sinks are evolved: In dolomite, limestone, or karst zones, the rocks are permeable and are made up of highly fused and broken rocks. In karst areas, small to medium-sized shallow pits are formed due to seepage of surface water, and these shallow pits are called sinkholes. Surface water from these sinkholes drains into the underground. The bottom of these sinkholes forms underground caves and sinkholes sometimes collapse and are commonly called collapse sinks or dolines. Typically, surface runoff runs down through sinkholes and flows underground, and at some distance through cave openings again to the surface. valley sinks or uvulas are developed when sinkholes and doline join together due to the collapse of cave ceilings.</td>\n",
       "    </tr>\n",
       "  </tbody>\n",
       "</table>\n",
       "</div>"
      ],
      "text/plain": [
       "   q_category                                          question  \\\n",
       "0           1  Explain the evolution of valley sinks or uvalas.   \n",
       "\n",
       "                                                                                                                                                                                                                                                                                                                                                                    answer1  \\\n",
       "0  Quite often the surface run-off simply goes down swallow and sink holes and flow as underground streams and reemerge at a distance downstream through a cave opening. When sink holes and dolines join together because of slumping of materials along their margins or due to roof collapse of caves, long, narrow to wide trenches called valley sinks or uvalas form.   \n",
       "\n",
       "                                                                                                                                                                                                                                                                                                                                                                    answer2  \\\n",
       "0  Generally, the surface run-off simply goes down swallow and sink holes and flow as underground streams and re-emerge at a distance downstream through a cave opening. When sink holes and dolines join together because of slumping of materials along their margins or due to roof collapse of caves, long, narrow to wide trenches called valley sinks or Uvalas form.   \n",
       "\n",
       "                                                                                                                                                                                                                                                                                                                                                                                                                                                                                                                                                                                                                                answer3  \\\n",
       "0  A sink hole is on opening more or less circular at the top and funnel-shaped towards the bottom with sizes varying in area from a few sq.m to a hectare and with depth from a less than half a metre to thirty metres or more. Quite often the surface run-off simply goes down swallow and sink holes and flow as underground streams and re-emerge at a distance downstream through a cave opening. A doline is a collapsed sink. When sinkholes and dolines join together because of slumping of materials along their margins or due to roof collapse of caves, long narrow to wide trenches called valley sinks or uvalas form.   \n",
       "\n",
       "                                                                                                                                                                                                                                                                                                                                             answer4  \\\n",
       "0  Normally, the run-off goes down swallow and sink holes and drifts as underground streams and re-emerges at a distance downstream through a cave starting. When sink holes and dolines are merged due to slumping of substances alongside their margins or because of roof collapse of caves, trenches known as valley sinks or Uvalas are formed.   \n",
       "\n",
       "                                                                                                                                                                                                                                                                                                                                                                                                                                                                                                                                                                                                                                                                                                                                                                                                                                                                                      answer5  \n",
       "0  Valley sinks or uvulas are the same things. Valley sinks are erosional landforms of Karst topography. The following way valley sinks are evolved: In dolomite, limestone, or karst zones, the rocks are permeable and are made up of highly fused and broken rocks. In karst areas, small to medium-sized shallow pits are formed due to seepage of surface water, and these shallow pits are called sinkholes. Surface water from these sinkholes drains into the underground. The bottom of these sinkholes forms underground caves and sinkholes sometimes collapse and are commonly called collapse sinks or dolines. Typically, surface runoff runs down through sinkholes and flows underground, and at some distance through cave openings again to the surface. valley sinks or uvulas are developed when sinkholes and doline join together due to the collapse of cave ceilings.  "
      ]
     },
     "execution_count": 86,
     "metadata": {},
     "output_type": "execute_result"
    }
   ],
   "source": [
    "database=pd.read_csv(\"Book1.csv\", delimiter=',')\n",
    "database.head(1)"
   ]
  },
  {
   "cell_type": "code",
   "execution_count": 63,
   "metadata": {},
   "outputs": [],
   "source": [
    "def answer_analysis(database, question_no, query):\n",
    "    semantic_check_score = semantic_check(database=database, question_no=question_no,query=query)\n",
    "    gen_grammar_check_score = gen_grammar_check(query)\n",
    "    class_grammar_check_score = class_grammar_check(query)\n",
    "    class_toxic_check_score = class_toxic_check(query)\n",
    "    custom_toxic_check_score = custom_toxic_check(query)\n",
    "    duplication_check_score = duplication_check(query)\n",
    "    print(f\"semantic check score (less than 1 for correct answer): {semantic_check_score}\")\n",
    "    print(f\"generative grammar check score (1 means correct): {gen_grammar_check_score}\")\n",
    "    print(f\"class-based grammar check score (1 means correct): {class_grammar_check_score}\")\n",
    "    print(f\"default model toxic check score (1 means toxic!): {class_toxic_check_score}\")\n",
    "    print(f\"custom model toxic check score (1 means toxic!): {custom_toxic_check_score}\")\n",
    "    print(f\"duplication check score (0=>no, 1=>detected, 2=>extreme)): {duplication_check_score}\")\n"
   ]
  },
  {
   "cell_type": "code",
   "execution_count": 83,
   "metadata": {},
   "outputs": [
    {
     "name": "stdout",
     "output_type": "stream",
     "text": [
      "gen: [array([[1.]]), array([[0.72403635]]), array([[1.]])]\n",
      "semantic check score (less than 1 for correct answer): 0.40302013158798217\n",
      "generative grammar check score (1 means correct): 1\n",
      "class-based grammar check score (1 means correct): 1.0\n",
      "default model toxic check score (1 means toxic!): 0.0\n",
      "custom model toxic check score (1 means toxic!): 0.0\n",
      "duplication check score (0=>no, 1=>detected, 2=>extreme)): 0\n"
     ]
    }
   ],
   "source": [
    "answer_analysis(database,1,query_correct_answer)"
   ]
  },
  {
   "cell_type": "code",
   "execution_count": 84,
   "metadata": {},
   "outputs": [
    {
     "name": "stdout",
     "output_type": "stream",
     "text": [
      "gen: [array([[0.96575878]]), array([[0.95720239]]), array([[0.96834543]])]\n",
      "semantic check score (less than 1 for correct answer): 1.357800054550171\n",
      "generative grammar check score (1 means correct): 0\n",
      "class-based grammar check score (1 means correct): 1.0\n",
      "default model toxic check score (1 means toxic!): 1.0\n",
      "custom model toxic check score (1 means toxic!): 1.0\n",
      "duplication check score (0=>no, 1=>detected, 2=>extreme)): 1\n"
     ]
    }
   ],
   "source": [
    "answer_analysis(database,1,query_incorrect_answer)"
   ]
  },
  {
   "cell_type": "code",
   "execution_count": 88,
   "metadata": {},
   "outputs": [
    {
     "data": {
      "text/plain": [
       "0.0015191452112048864"
      ]
     },
     "execution_count": 88,
     "metadata": {},
     "output_type": "execute_result"
    }
   ],
   "source": [
    "query = \"Quite often the surface run-off simply goes down swallow and sink holes and flow as underground streams and reemerge at a distance downstream through a cave opening. When sink holes and dolines join together because of slumping of materials along their margins or due to roof collapse of caves, long, narrow to wide trenches called valley sinks or uvalas form.\"\n",
    "semantic_check(database, 1, query) # complete answer (exact)"
   ]
  },
  {
   "cell_type": "code",
   "execution_count": 89,
   "metadata": {},
   "outputs": [
    {
     "data": {
      "text/plain": [
       "0.2756789028644562"
      ]
     },
     "execution_count": 89,
     "metadata": {},
     "output_type": "execute_result"
    }
   ],
   "source": [
    "query = \"The surface runoff frequently just disappears into sinkholes and swallow holes, where it flows as underground streams until emerging further downstream through a cave opening. Long, narrow to wide trenches known as valley sinks or uvalas emerge when sink holes and dolines connect together due to slumping of materials along their margins or due to roof collapse of caves.\"\n",
    "semantic_check(database, 1, query) # complete answer but paraphrased"
   ]
  },
  {
   "cell_type": "code",
   "execution_count": 90,
   "metadata": {},
   "outputs": [
    {
     "data": {
      "text/plain": [
       "0.33299142122268677"
      ]
     },
     "execution_count": 90,
     "metadata": {},
     "output_type": "execute_result"
    }
   ],
   "source": [
    "query = \"Surface run-off frequently just flows down swallow and sink holes as subterranean streams, reemerging downstream through a cave mouth. Valley sinks or uvalas arise when sink holes and dolines connect together owing to slumping of materials along their edges or ceiling collapse of caves.\"\n",
    "semantic_check(database, 1, query) # complete answer but extremely paraphrased"
   ]
  },
  {
   "cell_type": "code",
   "execution_count": 110,
   "metadata": {},
   "outputs": [
    {
     "data": {
      "text/plain": [
       "0.37606191635131836"
      ]
     },
     "execution_count": 110,
     "metadata": {},
     "output_type": "execute_result"
    }
   ],
   "source": [
    "query = \"Surface run-off frequently just flows down swallow and sink holes as subterranean streams, reemerging downstream through a cave mouth. Valley sinks or uvalas arise when sink holes and dolines connect together owing to slumping of materials along their edges or ceiling collapse of caves. Surface run-off frequently just flows down swallow and sink holes as subterranean streams, reemerging downstream through a cave mouth.\"\n",
    "semantic_check(database, 1, query) # complete answer but extremely paraphrased and dup"
   ]
  },
  {
   "cell_type": "code",
   "execution_count": 111,
   "metadata": {},
   "outputs": [
    {
     "data": {
      "text/plain": [
       "0.6947792172431946"
      ]
     },
     "execution_count": 111,
     "metadata": {},
     "output_type": "execute_result"
    }
   ],
   "source": [
    "query = \"Surface run-off frequently just flows down swallow and sink holes as subterranean streams, reemerging downstream through a cave mouth.\"\n",
    "semantic_check(database, 1, query) # complete answer but incomplete but extremely paraphrased "
   ]
  },
  {
   "cell_type": "code",
   "execution_count": 112,
   "metadata": {},
   "outputs": [
    {
     "data": {
      "text/plain": [
       "0.6006581783294678"
      ]
     },
     "execution_count": 112,
     "metadata": {},
     "output_type": "execute_result"
    }
   ],
   "source": [
    "query = \"Surface run-off frequently just flows down swallow and sink holes as subterranean streams, reemerging downstream through a cave mouth. Surface run-off frequently just flows down swallow and sink holes as subterranean streams, reemerging downstream through a cave mouth.\"\n",
    "semantic_check(database, 1, query) # complete answer but incomplete but extremely paraphrased but dup"
   ]
  },
  {
   "cell_type": "code",
   "execution_count": 114,
   "metadata": {},
   "outputs": [
    {
     "data": {
      "text/plain": [
       "0.8300785422325134"
      ]
     },
     "execution_count": 114,
     "metadata": {},
     "output_type": "execute_result"
    }
   ],
   "source": [
    "query = \"Surface run-off frequently just flows down swallow and sink holes as subterranean streams.\"\n",
    "semantic_check(database, 1, query) # very incomplete but extremely paraphrased"
   ]
  },
  {
   "cell_type": "code",
   "execution_count": 115,
   "metadata": {},
   "outputs": [
    {
     "data": {
      "text/plain": [
       "0.7299461960792542"
      ]
     },
     "execution_count": 115,
     "metadata": {},
     "output_type": "execute_result"
    }
   ],
   "source": [
    "query = \"Surface run-off frequently just flows down swallow and sink holes as subterranean streams. Surface run-off frequently just flows down swallow and sink holes as subterranean streams. Surface run-off frequently just flows down swallow and sink holes as subterranean streams.\"\n",
    "semantic_check(database, 1, query) # very incomplete but extremely paraphrased but dup"
   ]
  },
  {
   "cell_type": "code",
   "execution_count": 93,
   "metadata": {},
   "outputs": [
    {
     "data": {
      "text/plain": [
       "0.46396487951278687"
      ]
     },
     "execution_count": 93,
     "metadata": {},
     "output_type": "execute_result"
    }
   ],
   "source": [
    "query = \"When sink holes and dolines join together because of slumping of materials along their margins or due to roof collapse of caves, long, narrow to wide trenches called valley sinks or uvalas form.\"\n",
    "semantic_check(database, 1, query) # complete answer but incomplete (exact) "
   ]
  },
  {
   "cell_type": "code",
   "execution_count": 91,
   "metadata": {},
   "outputs": [
    {
     "data": {
      "text/plain": [
       "0.7044781446456909"
      ]
     },
     "execution_count": 91,
     "metadata": {},
     "output_type": "execute_result"
    }
   ],
   "source": [
    "query = \"The surface runoff frequently just disappears into sinkholes and swallow holes, where it flows as underground streams until emerging further downstream through a cave opening.\"\n",
    "semantic_check(database, 1, query) # complete answer but incomplete (but paraphrased)"
   ]
  },
  {
   "cell_type": "code",
   "execution_count": 96,
   "metadata": {},
   "outputs": [
    {
     "data": {
      "text/plain": [
       "0.25334981083869934"
      ]
     },
     "execution_count": 96,
     "metadata": {},
     "output_type": "execute_result"
    }
   ],
   "source": [
    "query = \"Quite often the surface run-off simply goes down swallow and sink holes and flow as underground streams and reemerge at a distance downstream through a cave opening. When sink holes and dolines join together because of slumping of materials along their margins or due to roof collapse of caves, long, narrow to wide trenches called valley sinks or uvalas form. Quite often the surface run-off simply goes down swallow and sink holes and flow as underground streams and reemerge at a distance downstream through a cave opening.\"\n",
    "semantic_check(database, 1, query) # complete answer (exact) and duplicated"
   ]
  },
  {
   "cell_type": "code",
   "execution_count": 97,
   "metadata": {},
   "outputs": [
    {
     "data": {
      "text/plain": [
       "0.31706368923187256"
      ]
     },
     "execution_count": 97,
     "metadata": {},
     "output_type": "execute_result"
    }
   ],
   "source": [
    "query = \"The surface runoff frequently just disappears into sinkholes and swallow holes, where it flows as underground streams until emerging further downstream through a cave opening. Long, narrow to wide trenches known as valley sinks or uvalas emerge when sink holes and dolines connect together due to slumping of materials along their margins or due to roof collapse of caves. The surface runoff frequently just disappears into sinkholes and swallow holes, where it flows as underground streams until emerging further downstream through a cave opening.\"\n",
    "semantic_check(database, 1, query) # complete answer but paraphrased and duplicated"
   ]
  },
  {
   "cell_type": "code",
   "execution_count": 94,
   "metadata": {},
   "outputs": [
    {
     "data": {
      "text/plain": [
       "0.5305538773536682"
      ]
     },
     "execution_count": 94,
     "metadata": {},
     "output_type": "execute_result"
    }
   ],
   "source": [
    "query = \"When sink holes and dolines join together because of slumping of materials along their margins or due to roof collapse of caves, long, narrow to wide trenches called valley sinks or uvalas form. When sink holes and dolines join together because of slumping of materials along their margins or due to roof collapse of caves, long, narrow to wide trenches called valley sinks or uvalas form.\"\n",
    "semantic_check(database, 1, query) # complete answer but incomplete (exact) and duplicated"
   ]
  },
  {
   "cell_type": "code",
   "execution_count": 95,
   "metadata": {},
   "outputs": [
    {
     "data": {
      "text/plain": [
       "0.6648246645927429"
      ]
     },
     "execution_count": 95,
     "metadata": {},
     "output_type": "execute_result"
    }
   ],
   "source": [
    "query = \"The surface runoff frequently just disappears into sinkholes and swallow holes, where it flows as underground streams until emerging further downstream through a cave opening. The surface runoff frequently just disappears into sinkholes and swallow holes, where it flows as underground streams until emerging further downstream through a cave opening.\"\n",
    "semantic_check(database, 1, query) # complete answer but incomplete (but paraphrased) and duplicated"
   ]
  },
  {
   "cell_type": "code",
   "execution_count": 99,
   "metadata": {},
   "outputs": [
    {
     "data": {
      "text/plain": [
       "0.755581796169281"
      ]
     },
     "execution_count": 99,
     "metadata": {},
     "output_type": "execute_result"
    }
   ],
   "source": [
    "query = \"When sink holes and dolines join together because of slumping of materials along their margins or due to roof collapse of caves.\"\n",
    "semantic_check(database, 1, query) # very incomplete (exact)"
   ]
  },
  {
   "cell_type": "code",
   "execution_count": 109,
   "metadata": {},
   "outputs": [
    {
     "data": {
      "text/plain": [
       "0.8574945330619812"
      ]
     },
     "execution_count": 109,
     "metadata": {},
     "output_type": "execute_result"
    }
   ],
   "source": [
    "query = \"The surface runoff frequently just disappears into sinkholes and swallow holes.\"\n",
    "semantic_check(database, 1, query) # very incomplete (but paraphrased)"
   ]
  },
  {
   "cell_type": "code",
   "execution_count": 98,
   "metadata": {},
   "outputs": [
    {
     "data": {
      "text/plain": [
       "0.7621968984603882"
      ]
     },
     "execution_count": 98,
     "metadata": {},
     "output_type": "execute_result"
    }
   ],
   "source": [
    "query = \"When sink holes and dolines join together because of slumping of materials along their margins or due to roof collapse of caves. When sink holes and dolines join together because of slumping of materials along their margins or due to roof collapse of caves. When sink holes and dolines join together because of slumping of materials along their margins or due to roof collapse of caves.\"\n",
    "semantic_check(database, 1, query) # very incomplete (exact) and extremely duplicated"
   ]
  },
  {
   "cell_type": "code",
   "execution_count": 104,
   "metadata": {},
   "outputs": [
    {
     "data": {
      "text/plain": [
       "0.7983418703079224"
      ]
     },
     "execution_count": 104,
     "metadata": {},
     "output_type": "execute_result"
    }
   ],
   "source": [
    "query = \"The surface runoff frequently just disappears into sinkholes and swallow holes. The surface runoff frequently just disappears into sinkholes and swallow holes. The surface runoff frequently just disappears into sinkholes and swallow holes.\"\n",
    "semantic_check(database, 1, query) # very incomplete (but paraphrased) and extremely duplicated"
   ]
  },
  {
   "cell_type": "code",
   "execution_count": 116,
   "metadata": {},
   "outputs": [
    {
     "data": {
      "text/plain": [
       "0.8417791724205017"
      ]
     },
     "execution_count": 116,
     "metadata": {},
     "output_type": "execute_result"
    }
   ],
   "source": [
    "query = \"Quite often the surface run-off simply goes down swallow and sink holes and flow as underground streams and reemerge at a distance downstream through a cave opening. During the day the land heats up faster and become warmer than the sea. Therfre, over the land the air rises giving rise to a low pressure area, whereas the sea is relatively cool and the pressure over sea it relatively high.\"\n",
    "semantic_check(database, 1, query) # complete answer (exact) + incorrect"
   ]
  },
  {
   "cell_type": "code",
   "execution_count": 121,
   "metadata": {},
   "outputs": [
    {
     "data": {
      "text/plain": [
       "0.7815861105918884"
      ]
     },
     "execution_count": 121,
     "metadata": {},
     "output_type": "execute_result"
    }
   ],
   "source": [
    "query = \"Quite often the surface run-off simply goes down swallow and sink holes and flow as underground streams and reemerge at a distance downstream through a cave opening. During the day the land heats up faster and become warmer than the sea. Therfre, over the land the air rises giving rise to a low pressure area, whereas the sea is relatively cool and the pressure over sea it relatively high. Quite often the surface run-off simply goes down swallow and sink holes and flow as underground streams and reemerge at a distance downstream through a cave opening. During the day the land heats up faster and become warmer than the sea. \"\n",
    "semantic_check(database, 1, query) # complete answer (exact) + incorrect (correct dup)"
   ]
  },
  {
   "cell_type": "code",
   "execution_count": 122,
   "metadata": {},
   "outputs": [
    {
     "data": {
      "text/plain": [
       "0.9310697913169861"
      ]
     },
     "execution_count": 122,
     "metadata": {},
     "output_type": "execute_result"
    }
   ],
   "source": [
    "query = \"Quite often the surface run-off simply goes down swallow and sink holes and flow as underground streams and reemerge at a distance downstream through a cave opening. During the day the land heats up faster and become warmer than the sea. Therfre, over the land the air rises giving rise to a low pressure area, whereas the sea is relatively cool and the pressure over sea it relatively high. During the day the land heats up faster and become warmer than the sea. Therfre, over the land the air rises giving rise to a low pressure area, whereas the sea is relatively cool and the pressure over sea it relatively high.\"\n",
    "semantic_check(database, 1, query) # complete answer (exact) + incorrect (incorrect dup)"
   ]
  },
  {
   "cell_type": "code",
   "execution_count": 126,
   "metadata": {},
   "outputs": [
    {
     "data": {
      "text/plain": [
       "0.6873790621757507"
      ]
     },
     "execution_count": 126,
     "metadata": {},
     "output_type": "execute_result"
    }
   ],
   "source": [
    "query = \"Quite often the surface run-off simply goes down swallow and sink holes and flow as underground streams and reemerge at a distance downstream through a cave opening. Quite often the surface run-off simply goes down swallow and sink holes and flow as underground streams and reemerge at a distance downstream through a cave opening. Quite often the surface run-off simply goes down swallow and sink holes and flow as underground streams and reemerge at a distance downstream through a cave opening. During the day the land heats up faster and become warmer than the sea. Therfre, over the land the air rises giving rise to a low pressure area, whereas the sea is relatively cool and the pressure over sea it relatively high. Quite often the surface run-off simply goes down swallow and sink holes and flow as underground streams and reemerge at a distance downstream through a cave opening.\"\n",
    "semantic_check(database, 1, query) # complete answer (exact) + incorrect"
   ]
  },
  {
   "cell_type": "code",
   "execution_count": 127,
   "metadata": {},
   "outputs": [
    {
     "data": {
      "text/plain": [
       "0.8998052477836609"
      ]
     },
     "execution_count": 127,
     "metadata": {},
     "output_type": "execute_result"
    }
   ],
   "source": [
    "query = \"The surface runoff frequently just disappears into sinkholes and swallow holes, where it flows as underground streams until emerging further downstream through a cave opening. During the day the land heats up faster and become warmer than the sea. Therfre, over the land the air rises giving rise to a low pressure area, whereas the sea is relatively cool and the pressure over sea it relatively high.\"\n",
    "semantic_check(database, 1, query) # complete answer but paraphrased + incorrect"
   ]
  },
  {
   "cell_type": "code",
   "execution_count": 128,
   "metadata": {},
   "outputs": [
    {
     "data": {
      "text/plain": [
       "0.7493038177490234"
      ]
     },
     "execution_count": 128,
     "metadata": {},
     "output_type": "execute_result"
    }
   ],
   "source": [
    "query = \"The surface runoff frequently just disappears into sinkholes and swallow holes, where it flows as underground streams until emerging further downstream through a cave opening. During the day the land heats up faster and become warmer than the sea. Therfre, over the land the air rises giving rise to a low pressure area, whereas the sea is relatively cool and the pressure over sea it relatively high. The surface runoff frequently just disappears into sinkholes and swallow holes, where it flows as underground streams until emerging further downstream through a cave opening.\"\n",
    "semantic_check(database, 1, query) # complete answer but paraphrased + incorrect + dup correct"
   ]
  },
  {
   "cell_type": "code",
   "execution_count": 129,
   "metadata": {},
   "outputs": [
    {
     "data": {
      "text/plain": [
       "0.7332528233528137"
      ]
     },
     "execution_count": 129,
     "metadata": {},
     "output_type": "execute_result"
    }
   ],
   "source": [
    "query = \"The surface runoff frequently just disappears into sinkholes and swallow holes, where it flows as underground streams until emerging further downstream through a cave opening. During the day the land heats up faster and become warmer than the sea. The surface runoff frequently just disappears into sinkholes and swallow holes, where it flows as underground streams until emerging further downstream through a cave opening. During the day the land heats up faster and become warmer than the sea. Therfre, over the land the air rises giving rise to a low pressure area, whereas the sea is relatively cool and the pressure over sea it relatively high. The surface runoff frequently just disappears into sinkholes and swallow holes, where it flows as underground streams until emerging further downstream through a cave opening.\"\n",
    "semantic_check(database, 1, query) # complete answer but paraphrased + incorrect + dup correct extreeme"
   ]
  },
  {
   "cell_type": "code",
   "execution_count": 131,
   "metadata": {},
   "outputs": [
    {
     "data": {
      "text/plain": [
       "1.000880241394043"
      ]
     },
     "execution_count": 131,
     "metadata": {},
     "output_type": "execute_result"
    }
   ],
   "source": [
    "query = \"The surface runoff frequently just disappears into sinkholes and swallow holes, where it flows as underground streams until emerging further downstream through a cave opening. During the day the land heats up faster and become warmer than the sea. Therfre, over the land the air rises giving rise to a low pressure area, whereas the sea is relatively cool and the pressure over sea it relatively high. During the day the land heats up faster and become warmer than the sea. Therfre, over the land the air rises giving rise to a low pressure area, whereas the sea is relatively cool and the pressure over sea it relatively high.\"\n",
    "semantic_check(database, 1, query) # complete answer but paraphrased + incorrect + dup incorrect"
   ]
  },
  {
   "cell_type": "code",
   "execution_count": 132,
   "metadata": {},
   "outputs": [
    {
     "data": {
      "text/plain": [
       "0.7917125225067139"
      ]
     },
     "execution_count": 132,
     "metadata": {},
     "output_type": "execute_result"
    }
   ],
   "source": [
    "query = \"The surface runoff frequently just disappears into sinkholes and swallow holes, where it flows as underground streams until emerging further downstream through a cave opening. During the day the land heats up faster and become warmer than the sea. Therfre, over the land the air rises giving rise to a low pressure area, whereas the sea is relatively cool and the pressure over sea it relatively high. The surface runoff frequently just disappears into sinkholes and swallow holes, where it flows as underground streams until emerging further downstream through a cave opening. During the day the land heats up faster and become warmer than the sea. Therfre, over the land the air rises giving rise to a low pressure area, whereas the sea is relatively cool and the pressure over sea it relatively high.\"\n",
    "semantic_check(database, 1, query) # complete answer but paraphrased + incorrect + dup both"
   ]
  },
  {
   "cell_type": "code",
   "execution_count": 133,
   "metadata": {},
   "outputs": [
    {
     "data": {
      "text/plain": [
       "0.8321602940559387"
      ]
     },
     "execution_count": 133,
     "metadata": {},
     "output_type": "execute_result"
    }
   ],
   "source": [
    "query = \"Surface run-off frequently just flows down swallow and sink holes as subterranean streams, reemerging downstream through a cave mouth. During the day the land heats up faster and become warmer than the sea. Therfre, over the land the air rises giving rise to a low pressure area, whereas the sea is relatively cool and the pressure over sea it relatively high.\"\n",
    "semantic_check(database, 1, query) # complete answer but extremely paraphrased + incorrect"
   ]
  },
  {
   "cell_type": "code",
   "execution_count": 134,
   "metadata": {},
   "outputs": [
    {
     "data": {
      "text/plain": [
       "0.7118290066719055"
      ]
     },
     "execution_count": 134,
     "metadata": {},
     "output_type": "execute_result"
    }
   ],
   "source": [
    "query = \"Surface run-off frequently just flows down swallow and sink holes as subterranean streams, reemerging downstream through a cave mouth. During the day the land heats up faster and become warmer than the sea. Therfre, over the land the air rises giving rise to a low pressure area, whereas the sea is relatively cool and the pressure over sea it relatively high. Surface run-off frequently just flows down swallow and sink holes as subterranean streams, reemerging downstream through a cave mouth.\"\n",
    "semantic_check(database, 1, query) # complete answer but extremely paraphrased + incorrect + correct dup"
   ]
  },
  {
   "cell_type": "code",
   "execution_count": 135,
   "metadata": {},
   "outputs": [
    {
     "data": {
      "text/plain": [
       "0.6846907138824463"
      ]
     },
     "execution_count": 135,
     "metadata": {},
     "output_type": "execute_result"
    }
   ],
   "source": [
    "query = \"Surface run-off frequently just flows down swallow and sink holes as subterranean streams, reemerging downstream through a cave mouth. Surface run-off frequently just flows down swallow and sink holes as subterranean streams, reemerging downstream through a cave mouth. During the day the land heats up faster and become warmer than the sea. Therfre, over the land the air rises giving rise to a low pressure area, whereas the sea is relatively cool and the pressure over sea it relatively high. Surface run-off frequently just flows down swallow and sink holes as subterranean streams, reemerging downstream through a cave mouth.\"\n",
    "semantic_check(database, 1, query) # complete answer but extremely paraphrased + incorrect + correct dup extreme"
   ]
  },
  {
   "cell_type": "code",
   "execution_count": 136,
   "metadata": {},
   "outputs": [
    {
     "data": {
      "text/plain": [
       "0.8860904574394226"
      ]
     },
     "execution_count": 136,
     "metadata": {},
     "output_type": "execute_result"
    }
   ],
   "source": [
    "query = \"Surface run-off frequently just flows down swallow and sink holes as subterranean streams, reemerging downstream through a cave mouth. During the day the land heats up faster and become warmer than the sea. Therfre, over the land the air rises giving rise to a low pressure area, whereas the sea is relatively cool and the pressure over sea it relatively high. During the day the land heats up faster and become warmer than the sea. Therfre, over the land the air rises giving rise to a low pressure area, whereas the sea is relatively cool and the pressure over sea it relatively high.\"\n",
    "semantic_check(database, 1, query) # complete answer but extremely paraphrased + incorrect + incorrect dup"
   ]
  },
  {
   "cell_type": "code",
   "execution_count": 137,
   "metadata": {},
   "outputs": [
    {
     "data": {
      "text/plain": [
       "0.756028413772583"
      ]
     },
     "execution_count": 137,
     "metadata": {},
     "output_type": "execute_result"
    }
   ],
   "source": [
    "query = \"Surface run-off frequently just flows down swallow and sink holes as subterranean streams, reemerging downstream through a cave mouth. During the day the land heats up faster and become warmer than the sea. Therfre, over the land the air rises giving rise to a low pressure area, whereas the sea is relatively cool and the pressure over sea it relatively high. Surface run-off frequently just flows down swallow and sink holes as subterranean streams, reemerging downstream through a cave mouth. During the day the land heats up faster and become warmer than the sea. Therfre, over the land the air rises giving rise to a low pressure area, whereas the sea is relatively cool and the pressure over sea it relatively high.\"\n",
    "semantic_check(database, 1, query) # complete answer but extremely paraphrased + incorrect"
   ]
  },
  {
   "cell_type": "code",
   "execution_count": 138,
   "metadata": {},
   "outputs": [
    {
     "data": {
      "text/plain": [
       "1.3008378744125366"
      ]
     },
     "execution_count": 138,
     "metadata": {},
     "output_type": "execute_result"
    }
   ],
   "source": [
    "query = \"During the day the land heats up faster and become warmer than the sea.\"\n",
    "semantic_check(database, 1, query) # incorrect answer (small)"
   ]
  },
  {
   "cell_type": "code",
   "execution_count": 139,
   "metadata": {},
   "outputs": [
    {
     "data": {
      "text/plain": [
       "1.2991032600402832"
      ]
     },
     "execution_count": 139,
     "metadata": {},
     "output_type": "execute_result"
    }
   ],
   "source": [
    "query = \"During the day the land heats up faster and become warmer than the sea. During the day the land heats up faster and become warmer than the sea.\"\n",
    "semantic_check(database, 1, query) # incorrect answer (small) dup"
   ]
  },
  {
   "cell_type": "code",
   "execution_count": 140,
   "metadata": {},
   "outputs": [
    {
     "data": {
      "text/plain": [
       "1.31532883644104"
      ]
     },
     "execution_count": 140,
     "metadata": {},
     "output_type": "execute_result"
    }
   ],
   "source": [
    "query = \"During the day the land heats up faster and become warmer than the sea. During the day the land heats up faster and become warmer than the sea. During the day the land heats up faster and become warmer than the sea. During the day the land heats up faster and become warmer than the sea.\"\n",
    "semantic_check(database, 1, query) # incorrect answer (small) ext dup"
   ]
  },
  {
   "cell_type": "code",
   "execution_count": 141,
   "metadata": {},
   "outputs": [
    {
     "data": {
      "text/plain": [
       "1.3217391967773438"
      ]
     },
     "execution_count": 141,
     "metadata": {},
     "output_type": "execute_result"
    }
   ],
   "source": [
    "query = \"During the day the land heats up faster and become warmer than the sea. Therfre, over the land the air rises giving rise to a low pressure area, whereas the sea is relatively cool and the pressure over sea it relatively high. Thus, pressure gradient from sea to land is created and the wind blows from the sea to the land which is known sea breeze. In the night the reversal of condition takes place. The land loses heat faster and is cooler than the sea. The pressure gradient is from the land to the sea. This breeze is known land breeze. Dumbass! During the day the land heats up faster and become warmer than the sea.\"\n",
    "semantic_check(database, 1, query) # incorrect answer (large)"
   ]
  },
  {
   "cell_type": "code",
   "execution_count": 142,
   "metadata": {},
   "outputs": [
    {
     "data": {
      "text/plain": [
       "1.321215271949768"
      ]
     },
     "execution_count": 142,
     "metadata": {},
     "output_type": "execute_result"
    }
   ],
   "source": [
    "query = \"During the day the land heats up faster and become warmer than the sea. Therfre, over the land the air rises giving rise to a low pressure area, whereas the sea is relatively cool and the pressure over sea it relatively high. Thus, pressure gradient from sea to land is created and the wind blows from the sea to the land which is known sea breeze. In the night the reversal of condition takes place. The land loses heat faster and is cooler than the sea. The pressure gradient is from the land to the sea. This breeze is known land breeze. Dumbass! During the day the land heats up faster and become warmer than the sea. During the day the land heats up faster and become warmer than the sea. Therfre, over the land the air rises giving rise to a low pressure area, whereas the sea is relatively cool and the pressure over sea it relatively high. In the night the reversal of condition takes place. The land loses heat faster and is cooler than the sea.\"\n",
    "semantic_check(database, 1, query) # incorrect answer (large) + dup"
   ]
  },
  {
   "cell_type": "code",
   "execution_count": 143,
   "metadata": {},
   "outputs": [
    {
     "data": {
      "text/plain": [
       "1.3188374042510986"
      ]
     },
     "execution_count": 143,
     "metadata": {},
     "output_type": "execute_result"
    }
   ],
   "source": [
    "query = \"During the day the land heats up faster and become warmer than the sea. Therfre, over the land the air rises giving rise to a low pressure area, whereas the sea is relatively cool and the pressure over sea it relatively high. Thus, pressure gradient from sea to land is created and the wind blows from the sea to the land which is known sea breeze. In the night the reversal of condition takes place. The land loses heat faster and is cooler than the sea. The pressure gradient is from the land to the sea. This breeze is known land breeze. Dumbass! During the day the land heats up faster and become warmer than the sea. During the day the land heats up faster and become warmer than the sea. Therfre, over the land the air rises giving rise to a low pressure area, whereas the sea is relatively cool and the pressure over sea it relatively high. In the night the reversal of condition takes place. The land loses heat faster and is cooler than the sea. During the day the land heats up faster and become warmer than the sea. Therfre, over the land the air rises giving rise to a low pressure area, whereas the sea is relatively cool and the pressure over sea it relatively high. Thus, pressure gradient from sea to land is created and the wind blows from the sea to the land which is known sea breeze. In the night the reversal of condition takes place. The land loses heat faster and is cooler than the sea. The pressure gradient is from the land to the sea. This breeze is known land breeze. Dumbass! During the day the land heats up faster and become warmer than the sea. During the day the land heats up faster and become warmer than the sea. Therfre, over the land the air rises giving rise to a low pressure area, whereas the sea is relatively cool and the pressure over sea it relatively high. In the night the reversal of condition takes place. The land loses heat faster and is cooler than the sea.\"\n",
    "semantic_check(database, 1, query) # incorrect answer (large) + dup + ext dup"
   ]
  },
  {
   "cell_type": "code",
   "execution_count": 144,
   "metadata": {},
   "outputs": [
    {
     "data": {
      "text/plain": [
       "1.4048672914505005"
      ]
     },
     "execution_count": 144,
     "metadata": {},
     "output_type": "execute_result"
    }
   ],
   "source": [
    "query = \" \"\n",
    "semantic_check(database, 1, query) # boundary case: space"
   ]
  },
  {
   "cell_type": "code",
   "execution_count": 145,
   "metadata": {},
   "outputs": [
    {
     "ename": "CohereError",
     "evalue": "invalid request: texts contains an element that is an empty string",
     "output_type": "error",
     "traceback": [
      "\u001b[1;31m---------------------------------------------------------------------------\u001b[0m",
      "\u001b[1;31mCohereError\u001b[0m                               Traceback (most recent call last)",
      "\u001b[1;32m~\\AppData\\Local\\Temp\\ipykernel_18024\\3179034992.py\u001b[0m in \u001b[0;36m<module>\u001b[1;34m\u001b[0m\n\u001b[0;32m      1\u001b[0m \u001b[0mquery\u001b[0m \u001b[1;33m=\u001b[0m \u001b[1;34m\"\"\u001b[0m\u001b[1;33m\u001b[0m\u001b[1;33m\u001b[0m\u001b[0m\n\u001b[1;32m----> 2\u001b[1;33m \u001b[0msemantic_check\u001b[0m\u001b[1;33m(\u001b[0m\u001b[0mdatabase\u001b[0m\u001b[1;33m,\u001b[0m \u001b[1;36m1\u001b[0m\u001b[1;33m,\u001b[0m \u001b[0mquery\u001b[0m\u001b[1;33m)\u001b[0m \u001b[1;31m# boundary case: empty string\u001b[0m\u001b[1;33m\u001b[0m\u001b[1;33m\u001b[0m\u001b[0m\n\u001b[0m",
      "\u001b[1;32m~\\AppData\\Local\\Temp\\ipykernel_18024\\2496587780.py\u001b[0m in \u001b[0;36msemantic_check\u001b[1;34m(database, question_no, query)\u001b[0m\n\u001b[0;32m     14\u001b[0m \u001b[1;33m\u001b[0m\u001b[0m\n\u001b[0;32m     15\u001b[0m     \u001b[1;31m# process user input\u001b[0m\u001b[1;33m\u001b[0m\u001b[1;33m\u001b[0m\u001b[1;33m\u001b[0m\u001b[0m\n\u001b[1;32m---> 16\u001b[1;33m     user_input_embeds = co.embed(texts=[query],\n\u001b[0m\u001b[0;32m     17\u001b[0m                                  \u001b[0mmodel\u001b[0m\u001b[1;33m=\u001b[0m\u001b[1;34m'large'\u001b[0m\u001b[1;33m,\u001b[0m\u001b[1;33m\u001b[0m\u001b[1;33m\u001b[0m\u001b[0m\n\u001b[0;32m     18\u001b[0m                                  truncate='LEFT').embeddings\n",
      "\u001b[1;32mc:\\Python39\\lib\\site-packages\\cohere\\client.py\u001b[0m in \u001b[0;36membed\u001b[1;34m(self, texts, model, truncate)\u001b[0m\n\u001b[0;32m    143\u001b[0m                 \u001b[0mresponses\u001b[0m\u001b[1;33m.\u001b[0m\u001b[0mappend\u001b[0m\u001b[1;33m(\u001b[0m\u001b[0mresponse\u001b[0m\u001b[1;33m[\u001b[0m\u001b[1;34m'embeddings'\u001b[0m\u001b[1;33m]\u001b[0m\u001b[1;33m)\u001b[0m\u001b[1;33m\u001b[0m\u001b[1;33m\u001b[0m\u001b[0m\n\u001b[0;32m    144\u001b[0m         \u001b[1;32melse\u001b[0m\u001b[1;33m:\u001b[0m\u001b[1;33m\u001b[0m\u001b[1;33m\u001b[0m\u001b[0m\n\u001b[1;32m--> 145\u001b[1;33m             \u001b[1;32mfor\u001b[0m \u001b[0mi\u001b[0m \u001b[1;32min\u001b[0m \u001b[0mself\u001b[0m\u001b[1;33m.\u001b[0m\u001b[0m_executor\u001b[0m\u001b[1;33m.\u001b[0m\u001b[0mmap\u001b[0m\u001b[1;33m(\u001b[0m\u001b[0mself\u001b[0m\u001b[1;33m.\u001b[0m\u001b[0m__request\u001b[0m\u001b[1;33m,\u001b[0m \u001b[0mjson_bodys\u001b[0m\u001b[1;33m,\u001b[0m \u001b[0membed_url_stacked\u001b[0m\u001b[1;33m)\u001b[0m\u001b[1;33m:\u001b[0m\u001b[1;33m\u001b[0m\u001b[1;33m\u001b[0m\u001b[0m\n\u001b[0m\u001b[0;32m    146\u001b[0m                 \u001b[0mrequest_futures\u001b[0m\u001b[1;33m.\u001b[0m\u001b[0mappend\u001b[0m\u001b[1;33m(\u001b[0m\u001b[0mi\u001b[0m\u001b[1;33m)\u001b[0m\u001b[1;33m\u001b[0m\u001b[1;33m\u001b[0m\u001b[0m\n\u001b[0;32m    147\u001b[0m             \u001b[1;32mfor\u001b[0m \u001b[0mresult\u001b[0m \u001b[1;32min\u001b[0m \u001b[0mrequest_futures\u001b[0m\u001b[1;33m:\u001b[0m\u001b[1;33m\u001b[0m\u001b[1;33m\u001b[0m\u001b[0m\n",
      "\u001b[1;32mc:\\Python39\\lib\\concurrent\\futures\\_base.py\u001b[0m in \u001b[0;36mresult_iterator\u001b[1;34m()\u001b[0m\n\u001b[0;32m    606\u001b[0m                     \u001b[1;31m# Careful not to keep a reference to the popped future\u001b[0m\u001b[1;33m\u001b[0m\u001b[1;33m\u001b[0m\u001b[1;33m\u001b[0m\u001b[0m\n\u001b[0;32m    607\u001b[0m                     \u001b[1;32mif\u001b[0m \u001b[0mtimeout\u001b[0m \u001b[1;32mis\u001b[0m \u001b[1;32mNone\u001b[0m\u001b[1;33m:\u001b[0m\u001b[1;33m\u001b[0m\u001b[1;33m\u001b[0m\u001b[0m\n\u001b[1;32m--> 608\u001b[1;33m                         \u001b[1;32myield\u001b[0m \u001b[0mfs\u001b[0m\u001b[1;33m.\u001b[0m\u001b[0mpop\u001b[0m\u001b[1;33m(\u001b[0m\u001b[1;33m)\u001b[0m\u001b[1;33m.\u001b[0m\u001b[0mresult\u001b[0m\u001b[1;33m(\u001b[0m\u001b[1;33m)\u001b[0m\u001b[1;33m\u001b[0m\u001b[1;33m\u001b[0m\u001b[0m\n\u001b[0m\u001b[0;32m    609\u001b[0m                     \u001b[1;32melse\u001b[0m\u001b[1;33m:\u001b[0m\u001b[1;33m\u001b[0m\u001b[1;33m\u001b[0m\u001b[0m\n\u001b[0;32m    610\u001b[0m                         \u001b[1;32myield\u001b[0m \u001b[0mfs\u001b[0m\u001b[1;33m.\u001b[0m\u001b[0mpop\u001b[0m\u001b[1;33m(\u001b[0m\u001b[1;33m)\u001b[0m\u001b[1;33m.\u001b[0m\u001b[0mresult\u001b[0m\u001b[1;33m(\u001b[0m\u001b[0mend_time\u001b[0m \u001b[1;33m-\u001b[0m \u001b[0mtime\u001b[0m\u001b[1;33m.\u001b[0m\u001b[0mmonotonic\u001b[0m\u001b[1;33m(\u001b[0m\u001b[1;33m)\u001b[0m\u001b[1;33m)\u001b[0m\u001b[1;33m\u001b[0m\u001b[1;33m\u001b[0m\u001b[0m\n",
      "\u001b[1;32mc:\\Python39\\lib\\concurrent\\futures\\_base.py\u001b[0m in \u001b[0;36mresult\u001b[1;34m(self, timeout)\u001b[0m\n\u001b[0;32m    443\u001b[0m                     \u001b[1;32mraise\u001b[0m \u001b[0mCancelledError\u001b[0m\u001b[1;33m(\u001b[0m\u001b[1;33m)\u001b[0m\u001b[1;33m\u001b[0m\u001b[1;33m\u001b[0m\u001b[0m\n\u001b[0;32m    444\u001b[0m                 \u001b[1;32melif\u001b[0m \u001b[0mself\u001b[0m\u001b[1;33m.\u001b[0m\u001b[0m_state\u001b[0m \u001b[1;33m==\u001b[0m \u001b[0mFINISHED\u001b[0m\u001b[1;33m:\u001b[0m\u001b[1;33m\u001b[0m\u001b[1;33m\u001b[0m\u001b[0m\n\u001b[1;32m--> 445\u001b[1;33m                     \u001b[1;32mreturn\u001b[0m \u001b[0mself\u001b[0m\u001b[1;33m.\u001b[0m\u001b[0m__get_result\u001b[0m\u001b[1;33m(\u001b[0m\u001b[1;33m)\u001b[0m\u001b[1;33m\u001b[0m\u001b[1;33m\u001b[0m\u001b[0m\n\u001b[0m\u001b[0;32m    446\u001b[0m                 \u001b[1;32melse\u001b[0m\u001b[1;33m:\u001b[0m\u001b[1;33m\u001b[0m\u001b[1;33m\u001b[0m\u001b[0m\n\u001b[0;32m    447\u001b[0m                     \u001b[1;32mraise\u001b[0m \u001b[0mTimeoutError\u001b[0m\u001b[1;33m(\u001b[0m\u001b[1;33m)\u001b[0m\u001b[1;33m\u001b[0m\u001b[1;33m\u001b[0m\u001b[0m\n",
      "\u001b[1;32mc:\\Python39\\lib\\concurrent\\futures\\_base.py\u001b[0m in \u001b[0;36m__get_result\u001b[1;34m(self)\u001b[0m\n\u001b[0;32m    388\u001b[0m         \u001b[1;32mif\u001b[0m \u001b[0mself\u001b[0m\u001b[1;33m.\u001b[0m\u001b[0m_exception\u001b[0m\u001b[1;33m:\u001b[0m\u001b[1;33m\u001b[0m\u001b[1;33m\u001b[0m\u001b[0m\n\u001b[0;32m    389\u001b[0m             \u001b[1;32mtry\u001b[0m\u001b[1;33m:\u001b[0m\u001b[1;33m\u001b[0m\u001b[1;33m\u001b[0m\u001b[0m\n\u001b[1;32m--> 390\u001b[1;33m                 \u001b[1;32mraise\u001b[0m \u001b[0mself\u001b[0m\u001b[1;33m.\u001b[0m\u001b[0m_exception\u001b[0m\u001b[1;33m\u001b[0m\u001b[1;33m\u001b[0m\u001b[0m\n\u001b[0m\u001b[0;32m    391\u001b[0m             \u001b[1;32mfinally\u001b[0m\u001b[1;33m:\u001b[0m\u001b[1;33m\u001b[0m\u001b[1;33m\u001b[0m\u001b[0m\n\u001b[0;32m    392\u001b[0m                 \u001b[1;31m# Break a reference cycle with the exception in self._exception\u001b[0m\u001b[1;33m\u001b[0m\u001b[1;33m\u001b[0m\u001b[1;33m\u001b[0m\u001b[0m\n",
      "\u001b[1;32mc:\\Python39\\lib\\concurrent\\futures\\thread.py\u001b[0m in \u001b[0;36mrun\u001b[1;34m(self)\u001b[0m\n\u001b[0;32m     50\u001b[0m \u001b[1;33m\u001b[0m\u001b[0m\n\u001b[0;32m     51\u001b[0m         \u001b[1;32mtry\u001b[0m\u001b[1;33m:\u001b[0m\u001b[1;33m\u001b[0m\u001b[1;33m\u001b[0m\u001b[0m\n\u001b[1;32m---> 52\u001b[1;33m             \u001b[0mresult\u001b[0m \u001b[1;33m=\u001b[0m \u001b[0mself\u001b[0m\u001b[1;33m.\u001b[0m\u001b[0mfn\u001b[0m\u001b[1;33m(\u001b[0m\u001b[1;33m*\u001b[0m\u001b[0mself\u001b[0m\u001b[1;33m.\u001b[0m\u001b[0margs\u001b[0m\u001b[1;33m,\u001b[0m \u001b[1;33m**\u001b[0m\u001b[0mself\u001b[0m\u001b[1;33m.\u001b[0m\u001b[0mkwargs\u001b[0m\u001b[1;33m)\u001b[0m\u001b[1;33m\u001b[0m\u001b[1;33m\u001b[0m\u001b[0m\n\u001b[0m\u001b[0;32m     53\u001b[0m         \u001b[1;32mexcept\u001b[0m \u001b[0mBaseException\u001b[0m \u001b[1;32mas\u001b[0m \u001b[0mexc\u001b[0m\u001b[1;33m:\u001b[0m\u001b[1;33m\u001b[0m\u001b[1;33m\u001b[0m\u001b[0m\n\u001b[0;32m     54\u001b[0m             \u001b[0mself\u001b[0m\u001b[1;33m.\u001b[0m\u001b[0mfuture\u001b[0m\u001b[1;33m.\u001b[0m\u001b[0mset_exception\u001b[0m\u001b[1;33m(\u001b[0m\u001b[0mexc\u001b[0m\u001b[1;33m)\u001b[0m\u001b[1;33m\u001b[0m\u001b[1;33m\u001b[0m\u001b[0m\n",
      "\u001b[1;32mc:\\Python39\\lib\\site-packages\\cohere\\client.py\u001b[0m in \u001b[0;36m__request\u001b[1;34m(self, json_body, endpoint)\u001b[0m\n\u001b[0;32m    260\u001b[0m                 \u001b[1;32mraise\u001b[0m \u001b[0mCohereError\u001b[0m\u001b[1;33m(\u001b[0m\u001b[0mmessage\u001b[0m\u001b[1;33m=\u001b[0m\u001b[0mresponse\u001b[0m\u001b[1;33m.\u001b[0m\u001b[0mtext\u001b[0m\u001b[1;33m,\u001b[0m \u001b[0mhttp_status\u001b[0m\u001b[1;33m=\u001b[0m\u001b[0mresponse\u001b[0m\u001b[1;33m.\u001b[0m\u001b[0mstatus_code\u001b[0m\u001b[1;33m,\u001b[0m \u001b[0mheaders\u001b[0m\u001b[1;33m=\u001b[0m\u001b[0mresponse\u001b[0m\u001b[1;33m.\u001b[0m\u001b[0mheaders\u001b[0m\u001b[1;33m)\u001b[0m\u001b[1;33m\u001b[0m\u001b[1;33m\u001b[0m\u001b[0m\n\u001b[0;32m    261\u001b[0m             \u001b[1;32mif\u001b[0m \u001b[1;34m'message'\u001b[0m \u001b[1;32min\u001b[0m \u001b[0mres\u001b[0m\u001b[1;33m.\u001b[0m\u001b[0mkeys\u001b[0m\u001b[1;33m(\u001b[0m\u001b[1;33m)\u001b[0m\u001b[1;33m:\u001b[0m  \u001b[1;31m# has errors\u001b[0m\u001b[1;33m\u001b[0m\u001b[1;33m\u001b[0m\u001b[0m\n\u001b[1;32m--> 262\u001b[1;33m                 \u001b[1;32mraise\u001b[0m \u001b[0mCohereError\u001b[0m\u001b[1;33m(\u001b[0m\u001b[0mmessage\u001b[0m\u001b[1;33m=\u001b[0m\u001b[0mres\u001b[0m\u001b[1;33m[\u001b[0m\u001b[1;34m'message'\u001b[0m\u001b[1;33m]\u001b[0m\u001b[1;33m,\u001b[0m \u001b[0mhttp_status\u001b[0m\u001b[1;33m=\u001b[0m\u001b[0mresponse\u001b[0m\u001b[1;33m.\u001b[0m\u001b[0mstatus_code\u001b[0m\u001b[1;33m,\u001b[0m \u001b[0mheaders\u001b[0m\u001b[1;33m=\u001b[0m\u001b[0mresponse\u001b[0m\u001b[1;33m.\u001b[0m\u001b[0mheaders\u001b[0m\u001b[1;33m)\u001b[0m\u001b[1;33m\u001b[0m\u001b[1;33m\u001b[0m\u001b[0m\n\u001b[0m\u001b[0;32m    263\u001b[0m             \u001b[0mself\u001b[0m\u001b[1;33m.\u001b[0m\u001b[0m__print_warning_msg\u001b[0m\u001b[1;33m(\u001b[0m\u001b[0mresponse\u001b[0m\u001b[1;33m)\u001b[0m\u001b[1;33m\u001b[0m\u001b[1;33m\u001b[0m\u001b[0m\n\u001b[0;32m    264\u001b[0m \u001b[1;33m\u001b[0m\u001b[0m\n",
      "\u001b[1;31mCohereError\u001b[0m: invalid request: texts contains an element that is an empty string"
     ]
    }
   ],
   "source": [
    "query = \"\"\n",
    "semantic_check(database, 1, query) # boundary case: empty string"
   ]
  }
 ],
 "metadata": {
  "kernelspec": {
   "display_name": "Python 3.9.5 64-bit",
   "language": "python",
   "name": "python3"
  },
  "language_info": {
   "codemirror_mode": {
    "name": "ipython",
    "version": 3
   },
   "file_extension": ".py",
   "mimetype": "text/x-python",
   "name": "python",
   "nbconvert_exporter": "python",
   "pygments_lexer": "ipython3",
   "version": "3.9.5"
  },
  "orig_nbformat": 4,
  "vscode": {
   "interpreter": {
    "hash": "81794d4967e6c3204c66dcd87b604927b115b27c00565d3d43f05ba2f3a2cb0d"
   }
  }
 },
 "nbformat": 4,
 "nbformat_minor": 2
}
