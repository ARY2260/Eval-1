{
 "cells": [
  {
   "cell_type": "code",
   "execution_count": 21,
   "metadata": {},
   "outputs": [
    {
     "name": "stdout",
     "output_type": "stream",
     "text": [
      "Number of training sentences: 1,000\n",
      "\n"
     ]
    },
    {
     "name": "stderr",
     "output_type": "stream",
     "text": [
      "C:\\Users\\amitb\\AppData\\Local\\Temp\\ipykernel_22572\\2913332495.py:10: SettingWithCopyWarning: \n",
      "A value is trying to be set on a copy of a slice from a DataFrame.\n",
      "Try using .loc[row_indexer,col_indexer] = value instead\n",
      "\n",
      "See the caveats in the documentation: https://pandas.pydata.org/pandas-docs/stable/user_guide/indexing.html#returning-a-view-versus-a-copy\n",
      "  req_df['label'] = req_df['label'].apply(lambda x: 1.0 if x == 'Toxic' else 0.0)\n"
     ]
    }
   ],
   "source": [
    "import pandas as pd\n",
    "\n",
    "# Load the dataset into a pandas dataframe.\n",
    "df = pd.read_csv(\"Social_Media_Toxicity_Dataset.csv\", delimiter=',')\n",
    "\n",
    "# Report the number of sentences.\n",
    "print('Number of training sentences: {:,}\\n'.format(df.shape[0]))\n",
    "df.rename(columns = {'Is this text toxic?':'label'}, inplace = True)\n",
    "req_df = df[['text', 'label']]\n",
    "req_df['label'] = req_df['label'].apply(lambda x: 1.0 if x == 'Toxic' else 0.0)\n",
    "# Display 10 random rows from the data.\n",
    "req_df.head()\n",
    "req_df.sample(frac=1).to_csv(\"toxicity.csv\", index=False, header=False)"
   ]
  },
  {
   "cell_type": "code",
   "execution_count": 16,
   "metadata": {},
   "outputs": [
    {
     "name": "stdout",
     "output_type": "stream",
     "text": [
      "total = 1000\n",
      "corrects = 500\n",
      "incorrects = 500\n"
     ]
    },
    {
     "data": {
      "text/html": [
       "<div>\n",
       "<style scoped>\n",
       "    .dataframe tbody tr th:only-of-type {\n",
       "        vertical-align: middle;\n",
       "    }\n",
       "\n",
       "    .dataframe tbody tr th {\n",
       "        vertical-align: top;\n",
       "    }\n",
       "\n",
       "    .dataframe thead th {\n",
       "        text-align: right;\n",
       "    }\n",
       "</style>\n",
       "<table border=\"1\" class=\"dataframe\">\n",
       "  <thead>\n",
       "    <tr style=\"text-align: right;\">\n",
       "      <th></th>\n",
       "      <th>text</th>\n",
       "      <th>label</th>\n",
       "    </tr>\n",
       "  </thead>\n",
       "  <tbody>\n",
       "    <tr>\n",
       "      <th>0</th>\n",
       "      <td>when my cat calls it a night and curls up next...</td>\n",
       "      <td>0.0</td>\n",
       "    </tr>\n",
       "    <tr>\n",
       "      <th>1</th>\n",
       "      <td>Bjergsen moving to C9 Academy for sure. Darsha...</td>\n",
       "      <td>0.0</td>\n",
       "    </tr>\n",
       "    <tr>\n",
       "      <th>2</th>\n",
       "      <td>Waiting for Hadestown announcements....</td>\n",
       "      <td>0.0</td>\n",
       "    </tr>\n",
       "    <tr>\n",
       "      <th>3</th>\n",
       "      <td>How about you fk off with your stupid spider. ...</td>\n",
       "      <td>1.0</td>\n",
       "    </tr>\n",
       "    <tr>\n",
       "      <th>4</th>\n",
       "      <td>\" Amazing Humans\"????Not in my book( Pun inten...</td>\n",
       "      <td>1.0</td>\n",
       "    </tr>\n",
       "  </tbody>\n",
       "</table>\n",
       "</div>"
      ],
      "text/plain": [
       "                                                text  label\n",
       "0  when my cat calls it a night and curls up next...    0.0\n",
       "1  Bjergsen moving to C9 Academy for sure. Darsha...    0.0\n",
       "2            Waiting for Hadestown announcements....    0.0\n",
       "3  How about you fk off with your stupid spider. ...    1.0\n",
       "4  \" Amazing Humans\"????Not in my book( Pun inten...    1.0"
      ]
     },
     "execution_count": 16,
     "metadata": {},
     "output_type": "execute_result"
    }
   ],
   "source": [
    "total_items = len(req_df)\n",
    "print(f\"total = {total_items}\")\n",
    "print(f\"corrects = {len(req_df.loc[req_df.label == 1])}\")\n",
    "print(f\"incorrects = {len(req_df.loc[req_df.label == 0])}\")\n",
    "req_df.head()"
   ]
  },
  {
   "cell_type": "code",
   "execution_count": 20,
   "metadata": {},
   "outputs": [
    {
     "name": "stdout",
     "output_type": "stream",
     "text": [
      "total = 900\n",
      "corrects = 450\n",
      "incorrects = 450\n",
      "total = 100\n",
      "corrects = 50\n",
      "incorrects = 50\n",
      "total = 100\n",
      "corrects = 50\n",
      "incorrects = 50\n"
     ]
    }
   ],
   "source": [
    "train_sample_size = 450\n",
    "cohere_examples = req_df.groupby('label', group_keys=False).apply(lambda x: x.sample(train_sample_size))\n",
    "\n",
    "print(f\"total = {len(cohere_examples)}\")\n",
    "print(f\"corrects = {len(cohere_examples.loc[cohere_examples.label == 1])}\")\n",
    "print(f\"incorrects = {len(cohere_examples.loc[cohere_examples.label == 0])}\")\n",
    "cohere_examples.sample(frac=1).to_csv(\"toxic_900.csv\", index=False, header=False)\n",
    "\n",
    "rest = req_df.append(cohere_examples).drop_duplicates(keep=False)\n",
    "print(f\"total = {len(rest)}\")\n",
    "print(f\"corrects = {len(rest.loc[rest.label == 1])}\")\n",
    "print(f\"incorrects = {len(rest.loc[rest.label == 0])}\")\n",
    "test = req_df.groupby('label', group_keys=False).apply(lambda x: x.sample(50))\n",
    "\n",
    "print(f\"total = {len(test)}\")\n",
    "print(f\"corrects = {len(test.loc[test.label == 1])}\")\n",
    "print(f\"incorrects = {len(test.loc[test.label == 0])}\")\n",
    "\n",
    "test.sample(frac=1).to_csv(\"toxic_test.csv\", index=False, header=False)"
   ]
  }
 ],
 "metadata": {
  "kernelspec": {
   "display_name": "Python 3.9.5 64-bit",
   "language": "python",
   "name": "python3"
  },
  "language_info": {
   "codemirror_mode": {
    "name": "ipython",
    "version": 3
   },
   "file_extension": ".py",
   "mimetype": "text/x-python",
   "name": "python",
   "nbconvert_exporter": "python",
   "pygments_lexer": "ipython3",
   "version": "3.9.5"
  },
  "orig_nbformat": 4,
  "vscode": {
   "interpreter": {
    "hash": "81794d4967e6c3204c66dcd87b604927b115b27c00565d3d43f05ba2f3a2cb0d"
   }
  }
 },
 "nbformat": 4,
 "nbformat_minor": 2
}
