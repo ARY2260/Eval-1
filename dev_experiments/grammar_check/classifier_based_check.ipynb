{
 "cells": [
  {
   "cell_type": "code",
   "execution_count": 19,
   "metadata": {},
   "outputs": [],
   "source": [
    "query = \"they afraid are people. people are not good\""
   ]
  },
  {
   "cell_type": "code",
   "execution_count": 21,
   "metadata": {},
   "outputs": [
    {
     "name": "stdout",
     "output_type": "stream",
     "text": [
      "result : 1\n"
     ]
    }
   ],
   "source": [
    "import cohere\n",
    "from cohere.classify import Example\n",
    "apiKey = ''\n",
    "co = cohere.Client(apiKey)\n",
    "\n",
    "response = co.classify(\n",
    "  model='cdb39157-6b82-4cb4-92c5-9e6037623d79-ft',\n",
    "  inputs=[f\"{query}\"])\n",
    "\n",
    "print('result : {}'.format(response.classifications[0].prediction))"
   ]
  }
 ],
 "metadata": {
  "kernelspec": {
   "display_name": "Python 3.9.5 64-bit",
   "language": "python",
   "name": "python3"
  },
  "language_info": {
   "codemirror_mode": {
    "name": "ipython",
    "version": 3
   },
   "file_extension": ".py",
   "mimetype": "text/x-python",
   "name": "python",
   "nbconvert_exporter": "python",
   "pygments_lexer": "ipython3",
   "version": "3.9.5"
  },
  "orig_nbformat": 4,
  "vscode": {
   "interpreter": {
    "hash": "81794d4967e6c3204c66dcd87b604927b115b27c00565d3d43f05ba2f3a2cb0d"
   }
  }
 },
 "nbformat": 4,
 "nbformat_minor": 2
}
