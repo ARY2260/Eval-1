{
 "cells": [
  {
   "cell_type": "code",
   "execution_count": 2,
   "metadata": {},
   "outputs": [],
   "source": [
    "query = \"they are afraid of people. people are not good.\""
   ]
  },
  {
   "cell_type": "code",
   "execution_count": 3,
   "metadata": {},
   "outputs": [
    {
     "name": "stdout",
     "output_type": "stream",
     "text": [
      "Prediction:  They are afraid of people. People are not good.\n",
      "--\n"
     ]
    },
    {
     "data": {
      "text/plain": [
       "'They are afraid of people. People are not good.'"
      ]
     },
     "execution_count": 3,
     "metadata": {},
     "output_type": "execute_result"
    }
   ],
   "source": [
    "import cohere\n",
    "apiKey = ''\n",
    "co = cohere.Client(apiKey)\n",
    "\n",
    "response = co.generate(\n",
    "  model='xlarge',\n",
    "  prompt=f'This is a spell check generator that checks for grammar and corrects it. This also capitalizes the first letter of the sentence.\\n\\nSample: I would like a peice of pie.\\nCorrect: I would like a piece of the pie.\\n--\\nSample: my coworker said he used a financial planner to help choose his stocks so he wouldn\\'t loose money.\\nCorrect: My coworker said he used a financial planner to help him choose his stocks so he wouldn\\'t lose money.\\n--\\nSample: I ordered pizza, I also ordered garlic knots.\\nCorrect: I ordered pizza; I also ordered garlic knots.\\n--\\nSample: i bought winning lottery ticket the corner store\\nCorrect: I bought my winning lottery ticket at the corner store.\\n--\\nSample: try to reread your work to ensure you haven\\'t left out any small words\\nCorrect: Try to reread your work to ensure you haven\\'t left out any small words.\\n--\\nSample: I went to the movies with my sister. We will see the new comedy about dancing dogs.\\nCorrect: I went to the movies with my sister. We saw the new comedy about dancing dogs.\\n--\\nSample: the boy took their turn on the field.\\nCorrect: The boy took his turn on the field.\\n--\\nSample: I could of won the race if I trained more.\\nCorrect: I could have won the race if I had trained more.\\n--\\nSample: I went to the office, than i started my meeting.\\nCorrect: I went to the office, then I started my meeting.\\n--\\nSample: {query}\\nCorrect:',\n",
    "  max_tokens=100,\n",
    "  temperature=1.5,\n",
    "  k=0,\n",
    "  p=0.75,\n",
    "  frequency_penalty=0,\n",
    "  presence_penalty=0,\n",
    "  stop_sequences=[\"--\"],\n",
    "  return_likelihoods='NONE')\n",
    "print('Prediction: {}'.format(response.generations[0].text))\n",
    "\n",
    "output = response.generations[0].text.rstrip(\"(\\n)--\")\n",
    "output = output.lstrip(\" \")\n",
    "output"
   ]
  },
  {
   "cell_type": "code",
   "execution_count": 6,
   "metadata": {},
   "outputs": [],
   "source": [
    "# Get the embeddings\n",
    "\n",
    "embeds = co.embed(texts=[query, output],\n",
    "                  model='large',\n",
    "                  truncate='LEFT').embeddings"
   ]
  },
  {
   "cell_type": "code",
   "execution_count": 82,
   "metadata": {},
   "outputs": [
    {
     "name": "stdout",
     "output_type": "stream",
     "text": [
      "input query: they are afraid of people. people are not good.\n",
      "generated correction: They are afraid of people. People are not good.\n",
      "[[0.97871925]]\n"
     ]
    }
   ],
   "source": [
    "from sklearn.metrics.pairwise import cosine_similarity\n",
    "similarity_value = cosine_similarity(X=[embeds[0]], Y=[embeds[1]], dense_output=True)\n",
    "print(f\"input query: {query}\")\n",
    "print(f\"generated correction: {output}\")\n",
    "print(similarity_value)"
   ]
  }
 ],
 "metadata": {
  "kernelspec": {
   "display_name": "Python 3.9.5 64-bit",
   "language": "python",
   "name": "python3"
  },
  "language_info": {
   "codemirror_mode": {
    "name": "ipython",
    "version": 3
   },
   "file_extension": ".py",
   "mimetype": "text/x-python",
   "name": "python",
   "nbconvert_exporter": "python",
   "pygments_lexer": "ipython3",
   "version": "3.9.5"
  },
  "orig_nbformat": 4,
  "vscode": {
   "interpreter": {
    "hash": "81794d4967e6c3204c66dcd87b604927b115b27c00565d3d43f05ba2f3a2cb0d"
   }
  }
 },
 "nbformat": 4,
 "nbformat_minor": 2
}
