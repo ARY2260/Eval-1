{
 "cells": [
  {
   "cell_type": "code",
   "execution_count": 1,
   "metadata": {},
   "outputs": [
    {
     "name": "stdout",
     "output_type": "stream",
     "text": [
      "Number of training sentences: 8,551\n",
      "\n"
     ]
    },
    {
     "data": {
      "text/html": [
       "<div>\n",
       "<style scoped>\n",
       "    .dataframe tbody tr th:only-of-type {\n",
       "        vertical-align: middle;\n",
       "    }\n",
       "\n",
       "    .dataframe tbody tr th {\n",
       "        vertical-align: top;\n",
       "    }\n",
       "\n",
       "    .dataframe thead th {\n",
       "        text-align: right;\n",
       "    }\n",
       "</style>\n",
       "<table border=\"1\" class=\"dataframe\">\n",
       "  <thead>\n",
       "    <tr style=\"text-align: right;\">\n",
       "      <th></th>\n",
       "      <th>sentence_source</th>\n",
       "      <th>label</th>\n",
       "      <th>label_notes</th>\n",
       "      <th>sentence</th>\n",
       "    </tr>\n",
       "  </thead>\n",
       "  <tbody>\n",
       "    <tr>\n",
       "      <th>935</th>\n",
       "      <td>bc01</td>\n",
       "      <td>0</td>\n",
       "      <td>*</td>\n",
       "      <td>I'll turn the radio down, but I won't up.</td>\n",
       "    </tr>\n",
       "    <tr>\n",
       "      <th>187</th>\n",
       "      <td>cj99</td>\n",
       "      <td>0</td>\n",
       "      <td>*</td>\n",
       "      <td>The more books I ask to whom he will give, the...</td>\n",
       "    </tr>\n",
       "    <tr>\n",
       "      <th>5791</th>\n",
       "      <td>c_13</td>\n",
       "      <td>0</td>\n",
       "      <td>*</td>\n",
       "      <td>the book with a red cover from Blackwell by Ro...</td>\n",
       "    </tr>\n",
       "    <tr>\n",
       "      <th>7790</th>\n",
       "      <td>ad03</td>\n",
       "      <td>0</td>\n",
       "      <td>*</td>\n",
       "      <td>Any boy saw no one.</td>\n",
       "    </tr>\n",
       "    <tr>\n",
       "      <th>4317</th>\n",
       "      <td>ks08</td>\n",
       "      <td>1</td>\n",
       "      <td>NaN</td>\n",
       "      <td>There seems to be a fountain in the park.</td>\n",
       "    </tr>\n",
       "    <tr>\n",
       "      <th>1297</th>\n",
       "      <td>r-67</td>\n",
       "      <td>0</td>\n",
       "      <td>*</td>\n",
       "      <td>Which quonset hut does the boy work in a skysc...</td>\n",
       "    </tr>\n",
       "    <tr>\n",
       "      <th>8072</th>\n",
       "      <td>ad03</td>\n",
       "      <td>1</td>\n",
       "      <td>NaN</td>\n",
       "      <td>Some disgruntled old pigs in those ditches lov...</td>\n",
       "    </tr>\n",
       "    <tr>\n",
       "      <th>5799</th>\n",
       "      <td>c_13</td>\n",
       "      <td>0</td>\n",
       "      <td>*</td>\n",
       "      <td>Susan did so the baker.</td>\n",
       "    </tr>\n",
       "    <tr>\n",
       "      <th>6155</th>\n",
       "      <td>c_13</td>\n",
       "      <td>0</td>\n",
       "      <td>*</td>\n",
       "      <td>A book was sent Louis.</td>\n",
       "    </tr>\n",
       "    <tr>\n",
       "      <th>8457</th>\n",
       "      <td>ad03</td>\n",
       "      <td>1</td>\n",
       "      <td>NaN</td>\n",
       "      <td>Medea might have given Jason a poisoned robe (...</td>\n",
       "    </tr>\n",
       "  </tbody>\n",
       "</table>\n",
       "</div>"
      ],
      "text/plain": [
       "     sentence_source  label label_notes  \\\n",
       "935             bc01      0           *   \n",
       "187             cj99      0           *   \n",
       "5791            c_13      0           *   \n",
       "7790            ad03      0           *   \n",
       "4317            ks08      1         NaN   \n",
       "1297            r-67      0           *   \n",
       "8072            ad03      1         NaN   \n",
       "5799            c_13      0           *   \n",
       "6155            c_13      0           *   \n",
       "8457            ad03      1         NaN   \n",
       "\n",
       "                                               sentence  \n",
       "935           I'll turn the radio down, but I won't up.  \n",
       "187   The more books I ask to whom he will give, the...  \n",
       "5791  the book with a red cover from Blackwell by Ro...  \n",
       "7790                                Any boy saw no one.  \n",
       "4317          There seems to be a fountain in the park.  \n",
       "1297  Which quonset hut does the boy work in a skysc...  \n",
       "8072  Some disgruntled old pigs in those ditches lov...  \n",
       "5799                            Susan did so the baker.  \n",
       "6155                             A book was sent Louis.  \n",
       "8457  Medea might have given Jason a poisoned robe (...  "
      ]
     },
     "execution_count": 1,
     "metadata": {},
     "output_type": "execute_result"
    }
   ],
   "source": [
    "import pandas as pd\n",
    "\n",
    "# Load the dataset into a pandas dataframe.\n",
    "df = pd.read_csv(\"in_domain_train.tsv\", delimiter='\\t', header=None, names=['sentence_source', 'label', 'label_notes', 'sentence'])\n",
    "\n",
    "# Report the number of sentences.\n",
    "print('Number of training sentences: {:,}\\n'.format(df.shape[0]))\n",
    "\n",
    "# Display 10 random rows from the data.\n",
    "df.sample(10)"
   ]
  },
  {
   "cell_type": "code",
   "execution_count": 12,
   "metadata": {},
   "outputs": [
    {
     "name": "stdout",
     "output_type": "stream",
     "text": [
      "total = 8551\n",
      "corrects = 6023\n",
      "incorrects = 2528\n"
     ]
    },
    {
     "data": {
      "text/html": [
       "<div>\n",
       "<style scoped>\n",
       "    .dataframe tbody tr th:only-of-type {\n",
       "        vertical-align: middle;\n",
       "    }\n",
       "\n",
       "    .dataframe tbody tr th {\n",
       "        vertical-align: top;\n",
       "    }\n",
       "\n",
       "    .dataframe thead th {\n",
       "        text-align: right;\n",
       "    }\n",
       "</style>\n",
       "<table border=\"1\" class=\"dataframe\">\n",
       "  <thead>\n",
       "    <tr style=\"text-align: right;\">\n",
       "      <th></th>\n",
       "      <th>sentence</th>\n",
       "      <th>label</th>\n",
       "    </tr>\n",
       "  </thead>\n",
       "  <tbody>\n",
       "    <tr>\n",
       "      <th>0</th>\n",
       "      <td>Our friends won't buy this analysis, let alone...</td>\n",
       "      <td>1</td>\n",
       "    </tr>\n",
       "    <tr>\n",
       "      <th>1</th>\n",
       "      <td>One more pseudo generalization and I'm giving up.</td>\n",
       "      <td>1</td>\n",
       "    </tr>\n",
       "    <tr>\n",
       "      <th>2</th>\n",
       "      <td>One more pseudo generalization or I'm giving up.</td>\n",
       "      <td>1</td>\n",
       "    </tr>\n",
       "    <tr>\n",
       "      <th>3</th>\n",
       "      <td>The more we study verbs, the crazier they get.</td>\n",
       "      <td>1</td>\n",
       "    </tr>\n",
       "    <tr>\n",
       "      <th>4</th>\n",
       "      <td>Day by day the facts are getting murkier.</td>\n",
       "      <td>1</td>\n",
       "    </tr>\n",
       "  </tbody>\n",
       "</table>\n",
       "</div>"
      ],
      "text/plain": [
       "                                            sentence  label\n",
       "0  Our friends won't buy this analysis, let alone...      1\n",
       "1  One more pseudo generalization and I'm giving up.      1\n",
       "2   One more pseudo generalization or I'm giving up.      1\n",
       "3     The more we study verbs, the crazier they get.      1\n",
       "4          Day by day the facts are getting murkier.      1"
      ]
     },
     "execution_count": 12,
     "metadata": {},
     "output_type": "execute_result"
    }
   ],
   "source": [
    "req_df = df[['sentence', 'label']]\n",
    "\n",
    "total_items = len(req_df)\n",
    "print(f\"total = {total_items}\")\n",
    "print(f\"corrects = {len(req_df.loc[req_df.label == 1])}\")\n",
    "print(f\"incorrects = {len(req_df.loc[req_df.label == 0])}\")\n",
    "req_df.head()"
   ]
  },
  {
   "cell_type": "code",
   "execution_count": null,
   "metadata": {},
   "outputs": [],
   "source": [
    "req_df.sample(frac=1).to_csv(\"examples_biased.csv\", index=False, header=False)"
   ]
  },
  {
   "cell_type": "code",
   "execution_count": 51,
   "metadata": {},
   "outputs": [
    {
     "name": "stdout",
     "output_type": "stream",
     "text": [
      "total = 50\n",
      "corrects = 25\n",
      "incorrects = 25\n"
     ]
    }
   ],
   "source": [
    "train_sample_size = 25\n",
    "cohere_examples = req_df.groupby('label', group_keys=False).apply(lambda x: x.sample(train_sample_size))\n",
    "\n",
    "print(f\"total = {len(cohere_examples)}\")\n",
    "print(f\"corrects = {len(cohere_examples.loc[cohere_examples.label == 1])}\")\n",
    "print(f\"incorrects = {len(cohere_examples.loc[cohere_examples.label == 0])}\")\n",
    "cohere_examples.sample(frac=1).to_csv(\"examples_25.csv\", index=False, header=False)"
   ]
  },
  {
   "cell_type": "code",
   "execution_count": 50,
   "metadata": {},
   "outputs": [
    {
     "name": "stdout",
     "output_type": "stream",
     "text": [
      "total = 4000\n",
      "corrects = 2000\n",
      "incorrects = 2000\n",
      "total = 4545\n",
      "corrects = 4017\n",
      "incorrects = 528\n",
      "total = 1040\n",
      "corrects = 520\n",
      "incorrects = 520\n"
     ]
    }
   ],
   "source": [
    "train_sample_size = 2000\n",
    "cohere_examples = req_df.groupby('label', group_keys=False).apply(lambda x: x.sample(train_sample_size))\n",
    "\n",
    "print(f\"total = {len(cohere_examples)}\")\n",
    "print(f\"corrects = {len(cohere_examples.loc[cohere_examples.label == 1])}\")\n",
    "print(f\"incorrects = {len(cohere_examples.loc[cohere_examples.label == 0])}\")\n",
    "cohere_examples.sample(frac=1).to_csv(\"examples_2000.csv\", index=False, header=False)\n",
    "\n",
    "rest = req_df.append(cohere_examples).drop_duplicates(keep=False)\n",
    "print(f\"total = {len(rest)}\")\n",
    "print(f\"corrects = {len(rest.loc[rest.label == 1])}\")\n",
    "print(f\"incorrects = {len(rest.loc[rest.label == 0])}\")\n",
    "test = req_df.groupby('label', group_keys=False).apply(lambda x: x.sample(520))\n",
    "\n",
    "print(f\"total = {len(test)}\")\n",
    "print(f\"corrects = {len(test.loc[test.label == 1])}\")\n",
    "print(f\"incorrects = {len(test.loc[test.label == 0])}\")\n",
    "\n",
    "test.sample(frac=1).to_csv(\"grammar_test.csv\", index=False, header=False)"
   ]
  }
 ],
 "metadata": {
  "kernelspec": {
   "display_name": "Python 3.9.5 64-bit",
   "language": "python",
   "name": "python3"
  },
  "language_info": {
   "codemirror_mode": {
    "name": "ipython",
    "version": 3
   },
   "file_extension": ".py",
   "mimetype": "text/x-python",
   "name": "python",
   "nbconvert_exporter": "python",
   "pygments_lexer": "ipython3",
   "version": "3.9.5"
  },
  "orig_nbformat": 4,
  "vscode": {
   "interpreter": {
    "hash": "81794d4967e6c3204c66dcd87b604927b115b27c00565d3d43f05ba2f3a2cb0d"
   }
  }
 },
 "nbformat": 4,
 "nbformat_minor": 2
}
