{
 "cells": [
  {
   "cell_type": "code",
   "execution_count": 7,
   "metadata": {},
   "outputs": [],
   "source": [
    "! pip install cohere umap-learn altair annoy datasets tqdm"
   ]
  },
  {
   "cell_type": "code",
   "execution_count": 8,
   "metadata": {},
   "outputs": [],
   "source": [
    "import cohere\n",
    "import numpy as np\n",
    "import re\n",
    "import pandas as pd\n",
    "from tqdm import tqdm\n",
    "from datasets import load_dataset\n",
    "import umap\n",
    "import altair as alt\n",
    "from sklearn.metrics.pairwise import cosine_similarity\n",
    "from annoy import AnnoyIndex\n",
    "import warnings\n",
    "warnings.filterwarnings('ignore')\n",
    "pd.set_option('display.max_colwidth', None)"
   ]
  },
  {
   "cell_type": "code",
   "execution_count": 22,
   "metadata": {},
   "outputs": [
    {
     "data": {
      "text/html": [
       "<div>\n",
       "<style scoped>\n",
       "    .dataframe tbody tr th:only-of-type {\n",
       "        vertical-align: middle;\n",
       "    }\n",
       "\n",
       "    .dataframe tbody tr th {\n",
       "        vertical-align: top;\n",
       "    }\n",
       "\n",
       "    .dataframe thead th {\n",
       "        text-align: right;\n",
       "    }\n",
       "</style>\n",
       "<table border=\"1\" class=\"dataframe\">\n",
       "  <thead>\n",
       "    <tr style=\"text-align: right;\">\n",
       "      <th></th>\n",
       "      <th>text</th>\n",
       "      <th>coarse_label</th>\n",
       "      <th>fine_label</th>\n",
       "    </tr>\n",
       "  </thead>\n",
       "  <tbody>\n",
       "    <tr>\n",
       "      <th>0</th>\n",
       "      <td>Photosynthesis is the process by which plants use sunlight water and carbon dioxide to create oxygen and energy in the form of sugar</td>\n",
       "      <td>1.0</td>\n",
       "      <td>1.0</td>\n",
       "    </tr>\n",
       "    <tr>\n",
       "      <th>1</th>\n",
       "      <td>Photosynthesis is a process by which phototrophs convert light energy into chemical energy which is later used to fuel cellular activities. The chemical energy is stored in the form of sugars which are created from water and carbon dioxide</td>\n",
       "      <td>1.0</td>\n",
       "      <td>1.0</td>\n",
       "    </tr>\n",
       "    <tr>\n",
       "      <th>2</th>\n",
       "      <td>Photosynthesis is the process used by plants algae and some bacteria to turn sunlight into energy. The process chemically converts carbon dioxide (CO2) and water into food (sugars) and oxygen. The chemical reaction often relies on a pigment called chlorophyll which gives plants their green color</td>\n",
       "      <td>1.0</td>\n",
       "      <td>1.0</td>\n",
       "    </tr>\n",
       "    <tr>\n",
       "      <th>3</th>\n",
       "      <td>Plants use sunlight water and the gases in the air to make glucose which is a form of sugar that plants need to survive. This process is called photosynthesis and is performed by all plants algae and even some microorganisms. To perform photosynthesis plants need three things: carbon dioxide water and sunlight</td>\n",
       "      <td>1.0</td>\n",
       "      <td>1.0</td>\n",
       "    </tr>\n",
       "    <tr>\n",
       "      <th>4</th>\n",
       "      <td>Photosynthesis is a process used by plants and other organisms to convert light energy into chemical energy that through cellular respiration can later be released to fuel the organism's activities</td>\n",
       "      <td>1.0</td>\n",
       "      <td>1.0</td>\n",
       "    </tr>\n",
       "    <tr>\n",
       "      <th>5</th>\n",
       "      <td>Photosynthesis the process by which green plants and certain other organisms transform light energy into chemical energy. During photosynthesis in green plants light energy is captured and used to convert water carbon dioxide and minerals into oxygen and energy-rich organic compounds.</td>\n",
       "      <td>NaN</td>\n",
       "      <td>NaN</td>\n",
       "    </tr>\n",
       "    <tr>\n",
       "      <th>6</th>\n",
       "      <td>Photosynthesis is the process in which light energy is converted to chemical energy in the form of sugars. In a process driven by light energy glucose molecules (or other sugars) are constructed from water and carbon dioxide and oxygen is released as a byproduct</td>\n",
       "      <td>1.0</td>\n",
       "      <td>1.0</td>\n",
       "    </tr>\n",
       "    <tr>\n",
       "      <th>7</th>\n",
       "      <td>Green plants make sugar for growth by a process called photosynthesis which means making things with light. Plants use sunlight water and carbon dioxide to create oxygen and energy in the form of sugar</td>\n",
       "      <td>1.0</td>\n",
       "      <td>1.0</td>\n",
       "    </tr>\n",
       "    <tr>\n",
       "      <th>8</th>\n",
       "      <td>Photosynthesis is a chemical process by which plants some bacteria and algae convert energy derived from sunlight to chemical energy. This is an important process for biological life on earth because it allows energy from sunlight to be harnessed and transferred into a form that can be utilized by organisms to fuel their activity</td>\n",
       "      <td>1.0</td>\n",
       "      <td>1.0</td>\n",
       "    </tr>\n",
       "  </tbody>\n",
       "</table>\n",
       "</div>"
      ],
      "text/plain": [
       "                                                                                                                                                                                                                                                                                                                                          text  \\\n",
       "0                                                                                                                                                                                                         Photosynthesis is the process by which plants use sunlight water and carbon dioxide to create oxygen and energy in the form of sugar   \n",
       "1                                                                                              Photosynthesis is a process by which phototrophs convert light energy into chemical energy which is later used to fuel cellular activities. The chemical energy is stored in the form of sugars which are created from water and carbon dioxide   \n",
       "2                                     Photosynthesis is the process used by plants algae and some bacteria to turn sunlight into energy. The process chemically converts carbon dioxide (CO2) and water into food (sugars) and oxygen. The chemical reaction often relies on a pigment called chlorophyll which gives plants their green color   \n",
       "3                      Plants use sunlight water and the gases in the air to make glucose which is a form of sugar that plants need to survive. This process is called photosynthesis and is performed by all plants algae and even some microorganisms. To perform photosynthesis plants need three things: carbon dioxide water and sunlight   \n",
       "4                                                                                                                                        Photosynthesis is a process used by plants and other organisms to convert light energy into chemical energy that through cellular respiration can later be released to fuel the organism's activities   \n",
       "5                                                Photosynthesis the process by which green plants and certain other organisms transform light energy into chemical energy. During photosynthesis in green plants light energy is captured and used to convert water carbon dioxide and minerals into oxygen and energy-rich organic compounds.   \n",
       "6                                                                       Photosynthesis is the process in which light energy is converted to chemical energy in the form of sugars. In a process driven by light energy glucose molecules (or other sugars) are constructed from water and carbon dioxide and oxygen is released as a byproduct   \n",
       "7                                                                                                                                    Green plants make sugar for growth by a process called photosynthesis which means making things with light. Plants use sunlight water and carbon dioxide to create oxygen and energy in the form of sugar   \n",
       "8  Photosynthesis is a chemical process by which plants some bacteria and algae convert energy derived from sunlight to chemical energy. This is an important process for biological life on earth because it allows energy from sunlight to be harnessed and transferred into a form that can be utilized by organisms to fuel their activity   \n",
       "\n",
       "   coarse_label  fine_label  \n",
       "0           1.0         1.0  \n",
       "1           1.0         1.0  \n",
       "2           1.0         1.0  \n",
       "3           1.0         1.0  \n",
       "4           1.0         1.0  \n",
       "5           NaN         NaN  \n",
       "6           1.0         1.0  \n",
       "7           1.0         1.0  \n",
       "8           1.0         1.0  "
      ]
     },
     "execution_count": 22,
     "metadata": {},
     "output_type": "execute_result"
    }
   ],
   "source": [
    "# Load the dataset answers.csv\n",
    "df = pd.read_csv('answers.csv')\n",
    "df.head(10)"
   ]
  },
  {
   "cell_type": "code",
   "execution_count": 16,
   "metadata": {},
   "outputs": [],
   "source": [
    "# export the data to a csv file\n",
    "# df.to_csv('trec.csv', index=False)"
   ]
  },
  {
   "cell_type": "code",
   "execution_count": 23,
   "metadata": {},
   "outputs": [],
   "source": [
    "# Paste your API key here. Remember to not share publicly\n",
    "api_key = ''\n",
    "\n",
    "# Create and retrieve a Cohere API key from dashboard.cohere.ai/welcome/register\n",
    "co = cohere.Client(api_key)\n",
    "\n",
    "# Get the embeddings\n",
    "embeds = co.embed(texts=list(df['text']),\n",
    "                  model='large',\n",
    "                  truncate='LEFT').embeddings"
   ]
  },
  {
   "cell_type": "code",
   "execution_count": 24,
   "metadata": {},
   "outputs": [
    {
     "data": {
      "text/plain": [
       "True"
      ]
     },
     "execution_count": 24,
     "metadata": {},
     "output_type": "execute_result"
    }
   ],
   "source": [
    "# Create the search index, pass the size of embedding\n",
    "search_index = AnnoyIndex(len(embeds[0]), 'angular')\n",
    "# Add all the vectors to the search index\n",
    "for i in range(len(embeds)):\n",
    "    search_index.add_item(i, embeds[i])\n",
    "search_index.build(10) # 10 trees\n",
    "search_index.save('test.ann')"
   ]
  },
  {
   "cell_type": "code",
   "execution_count": 38,
   "metadata": {},
   "outputs": [
    {
     "name": "stdout",
     "output_type": "stream",
     "text": [
      "Question:'['photosynthesis is when plants use c02 and sunlight to create energy that is to be used by the plat. In addition to this water is also created.']'\n",
      "Nearest neighbors:\n"
     ]
    },
    {
     "data": {
      "text/html": [
       "<div>\n",
       "<style scoped>\n",
       "    .dataframe tbody tr th:only-of-type {\n",
       "        vertical-align: middle;\n",
       "    }\n",
       "\n",
       "    .dataframe tbody tr th {\n",
       "        vertical-align: top;\n",
       "    }\n",
       "\n",
       "    .dataframe thead th {\n",
       "        text-align: right;\n",
       "    }\n",
       "</style>\n",
       "<table border=\"1\" class=\"dataframe\">\n",
       "  <thead>\n",
       "    <tr style=\"text-align: right;\">\n",
       "      <th></th>\n",
       "      <th>texts</th>\n",
       "      <th>label</th>\n",
       "      <th>distance</th>\n",
       "    </tr>\n",
       "  </thead>\n",
       "  <tbody>\n",
       "    <tr>\n",
       "      <th>0</th>\n",
       "      <td>Photosynthesis is the process by which plants use sunlight water and carbon dioxide to create oxygen and energy in the form of sugar</td>\n",
       "      <td>1.0</td>\n",
       "      <td>0.513795</td>\n",
       "    </tr>\n",
       "    <tr>\n",
       "      <th>4</th>\n",
       "      <td>Photosynthesis is a process used by plants and other organisms to convert light energy into chemical energy that through cellular respiration can later be released to fuel the organism's activities</td>\n",
       "      <td>1.0</td>\n",
       "      <td>0.668759</td>\n",
       "    </tr>\n",
       "    <tr>\n",
       "      <th>5</th>\n",
       "      <td>Photosynthesis the process by which green plants and certain other organisms transform light energy into chemical energy. During photosynthesis in green plants light energy is captured and used to convert water carbon dioxide and minerals into oxygen and energy-rich organic compounds.</td>\n",
       "      <td>NaN</td>\n",
       "      <td>0.688115</td>\n",
       "    </tr>\n",
       "    <tr>\n",
       "      <th>2</th>\n",
       "      <td>Photosynthesis is the process used by plants algae and some bacteria to turn sunlight into energy. The process chemically converts carbon dioxide (CO2) and water into food (sugars) and oxygen. The chemical reaction often relies on a pigment called chlorophyll which gives plants their green color</td>\n",
       "      <td>1.0</td>\n",
       "      <td>0.689623</td>\n",
       "    </tr>\n",
       "    <tr>\n",
       "      <th>1</th>\n",
       "      <td>Photosynthesis is a process by which phototrophs convert light energy into chemical energy which is later used to fuel cellular activities. The chemical energy is stored in the form of sugars which are created from water and carbon dioxide</td>\n",
       "      <td>1.0</td>\n",
       "      <td>0.738453</td>\n",
       "    </tr>\n",
       "    <tr>\n",
       "      <th>6</th>\n",
       "      <td>Photosynthesis is the process in which light energy is converted to chemical energy in the form of sugars. In a process driven by light energy glucose molecules (or other sugars) are constructed from water and carbon dioxide and oxygen is released as a byproduct</td>\n",
       "      <td>1.0</td>\n",
       "      <td>0.740152</td>\n",
       "    </tr>\n",
       "    <tr>\n",
       "      <th>3</th>\n",
       "      <td>Plants use sunlight water and the gases in the air to make glucose which is a form of sugar that plants need to survive. This process is called photosynthesis and is performed by all plants algae and even some microorganisms. To perform photosynthesis plants need three things: carbon dioxide water and sunlight</td>\n",
       "      <td>1.0</td>\n",
       "      <td>0.775085</td>\n",
       "    </tr>\n",
       "    <tr>\n",
       "      <th>8</th>\n",
       "      <td>Photosynthesis is a chemical process by which plants some bacteria and algae convert energy derived from sunlight to chemical energy. This is an important process for biological life on earth because it allows energy from sunlight to be harnessed and transferred into a form that can be utilized by organisms to fuel their activity</td>\n",
       "      <td>1.0</td>\n",
       "      <td>0.778387</td>\n",
       "    </tr>\n",
       "    <tr>\n",
       "      <th>7</th>\n",
       "      <td>Green plants make sugar for growth by a process called photosynthesis which means making things with light. Plants use sunlight water and carbon dioxide to create oxygen and energy in the form of sugar</td>\n",
       "      <td>1.0</td>\n",
       "      <td>0.807096</td>\n",
       "    </tr>\n",
       "  </tbody>\n",
       "</table>\n",
       "</div>"
      ],
      "text/plain": [
       "                                                                                                                                                                                                                                                                                                                                         texts  \\\n",
       "0                                                                                                                                                                                                         Photosynthesis is the process by which plants use sunlight water and carbon dioxide to create oxygen and energy in the form of sugar   \n",
       "4                                                                                                                                        Photosynthesis is a process used by plants and other organisms to convert light energy into chemical energy that through cellular respiration can later be released to fuel the organism's activities   \n",
       "5                                                Photosynthesis the process by which green plants and certain other organisms transform light energy into chemical energy. During photosynthesis in green plants light energy is captured and used to convert water carbon dioxide and minerals into oxygen and energy-rich organic compounds.   \n",
       "2                                     Photosynthesis is the process used by plants algae and some bacteria to turn sunlight into energy. The process chemically converts carbon dioxide (CO2) and water into food (sugars) and oxygen. The chemical reaction often relies on a pigment called chlorophyll which gives plants their green color   \n",
       "1                                                                                              Photosynthesis is a process by which phototrophs convert light energy into chemical energy which is later used to fuel cellular activities. The chemical energy is stored in the form of sugars which are created from water and carbon dioxide   \n",
       "6                                                                       Photosynthesis is the process in which light energy is converted to chemical energy in the form of sugars. In a process driven by light energy glucose molecules (or other sugars) are constructed from water and carbon dioxide and oxygen is released as a byproduct   \n",
       "3                      Plants use sunlight water and the gases in the air to make glucose which is a form of sugar that plants need to survive. This process is called photosynthesis and is performed by all plants algae and even some microorganisms. To perform photosynthesis plants need three things: carbon dioxide water and sunlight   \n",
       "8  Photosynthesis is a chemical process by which plants some bacteria and algae convert energy derived from sunlight to chemical energy. This is an important process for biological life on earth because it allows energy from sunlight to be harnessed and transferred into a form that can be utilized by organisms to fuel their activity   \n",
       "7                                                                                                                                    Green plants make sugar for growth by a process called photosynthesis which means making things with light. Plants use sunlight water and carbon dioxide to create oxygen and energy in the form of sugar   \n",
       "\n",
       "   label  distance  \n",
       "0    1.0  0.513795  \n",
       "4    1.0  0.668759  \n",
       "5    NaN  0.688115  \n",
       "2    1.0  0.689623  \n",
       "1    1.0  0.738453  \n",
       "6    1.0  0.740152  \n",
       "3    1.0  0.775085  \n",
       "8    1.0  0.778387  \n",
       "7    1.0  0.807096  "
      ]
     },
     "execution_count": 38,
     "metadata": {},
     "output_type": "execute_result"
    }
   ],
   "source": [
    "# Choose an example (we'll retrieve others similar to it)\n",
    "# example_id = 8\n",
    "# Retrieve nearest neighbors\n",
    "# similar_item_ids = search_index.get_nns_by_item(example_id,10,\n",
    "#                                                 include_distances=True)\n",
    "\n",
    "#get by user input\n",
    "user_input = input(\"Enter the answer for the question: \")\n",
    "user_input = [user_input]\n",
    "user_input_embeds = co.embed(texts=user_input,\n",
    "                    model='large',\n",
    "                    truncate='LEFT').embeddings\n",
    "similar_item_ids = search_index.get_nns_by_vector(user_input_embeds[0],10,\n",
    "                                                include_distances=True)\n",
    "\n",
    "# Format and print the text and distances\n",
    "results = pd.DataFrame(data={'texts': df.iloc[similar_item_ids[0]]['text'], \n",
    "                             'label': df.iloc[similar_item_ids[0]]['coarse_label'],\n",
    "                             'distance': similar_item_ids[1]})\n",
    "print(f\"Question:'{user_input}'\\nNearest neighbors:\")\n",
    "results"
   ]
  },
  {
   "cell_type": "code",
   "execution_count": 40,
   "metadata": {},
   "outputs": [
    {
     "name": "stdout",
     "output_type": "stream",
     "text": [
      "The answer is correct\n"
     ]
    }
   ],
   "source": [
    "# 1 is the question category\n",
    "mean_distance = results[results['label'] == 1]['distance'].mean()\n",
    "if mean_distance < 1:\n",
    "    print(\"The answer is correct\")\n",
    "else:\n",
    "    print(\"The answer is incorrect\")"
   ]
  }
 ],
 "metadata": {
  "kernelspec": {
   "display_name": "Python 3.9.5 64-bit",
   "language": "python",
   "name": "python3"
  },
  "language_info": {
   "codemirror_mode": {
    "name": "ipython",
    "version": 3
   },
   "file_extension": ".py",
   "mimetype": "text/x-python",
   "name": "python",
   "nbconvert_exporter": "python",
   "pygments_lexer": "ipython3",
   "version": "3.9.5"
  },
  "orig_nbformat": 4,
  "vscode": {
   "interpreter": {
    "hash": "81794d4967e6c3204c66dcd87b604927b115b27c00565d3d43f05ba2f3a2cb0d"
   }
  }
 },
 "nbformat": 4,
 "nbformat_minor": 2
}
